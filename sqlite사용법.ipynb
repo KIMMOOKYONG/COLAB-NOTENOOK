{
  "nbformat": 4,
  "nbformat_minor": 0,
  "metadata": {
    "colab": {
      "name": "sqlite사용법.ipynb",
      "provenance": [],
      "collapsed_sections": [
        "zCU6tFIybXtk",
        "zdUzVav2d7qs",
        "dDpx1g7YeBau",
        "v3PFpkKhbbhl",
        "rg9WhCvyeNen",
        "AFXwZ7dceQNd",
        "o6LAdwIaeVsE",
        "OBuXUdu6ebIF",
        "wRanobFsbebF",
        "vYQ-hKwEennt",
        "uVu_XnsDeqza",
        "x6SgKOqYexJl",
        "ChxbscW4cNME",
        "lMhlPiNecqaE",
        "HlPLdGGTc-hN",
        "IKuwhgSBdC8-",
        "bLQj5CSNdJvl",
        "YbwQJ3NWfDPc"
      ],
      "authorship_tag": "ABX9TyMuyc5qBYaTXxPExo2Mz3Cz",
      "include_colab_link": true
    },
    "kernelspec": {
      "name": "python3",
      "display_name": "Python 3"
    },
    "language_info": {
      "name": "python"
    }
  },
  "cells": [
    {
      "cell_type": "markdown",
      "metadata": {
        "id": "view-in-github",
        "colab_type": "text"
      },
      "source": [
        "<a href=\"https://colab.research.google.com/github/KIMMOOKYONG/COLAB-NOTENOOK/blob/main/sqlite%EC%82%AC%EC%9A%A9%EB%B2%95.ipynb\" target=\"_parent\"><img src=\"https://colab.research.google.com/assets/colab-badge.svg\" alt=\"Open In Colab\"/></a>"
      ]
    },
    {
      "cell_type": "code",
      "execution_count": 1,
      "metadata": {
        "colab": {
          "base_uri": "https://localhost:8080/"
        },
        "id": "1NobPZc3k4ec",
        "outputId": "e7f9947e-8b62-44cd-b34e-d9b47e9c086d"
      },
      "outputs": [
        {
          "output_type": "stream",
          "name": "stdout",
          "text": [
            "2.6.0\n",
            "3.22.0\n"
          ]
        }
      ],
      "source": [
        "import sqlite3\n",
        "\n",
        "print(sqlite3.version)\n",
        "print(sqlite3.sqlite_version)"
      ]
    },
    {
      "cell_type": "markdown",
      "source": [
        "# 데이터베이스 연결"
      ],
      "metadata": {
        "id": "zCU6tFIybXtk"
      }
    },
    {
      "cell_type": "markdown",
      "source": [
        "## 메모리 DB 접속 (일회성)"
      ],
      "metadata": {
        "id": "zdUzVav2d7qs"
      }
    },
    {
      "cell_type": "code",
      "source": [
        "import sqlite3\n",
        "con = sqlite3.connect(':memory:')"
      ],
      "metadata": {
        "id": "ELCqSUn0d9IU"
      },
      "execution_count": 38,
      "outputs": []
    },
    {
      "cell_type": "markdown",
      "source": [
        "## 파일 DB 접속"
      ],
      "metadata": {
        "id": "dDpx1g7YeBau"
      }
    },
    {
      "cell_type": "code",
      "source": [
        "# # DB 생성 (오토 커밋)\n",
        "# conn = sqlite3.connect(\"test.db\", isolation_level=None)\n",
        "\n",
        "# # 커서 획득\n",
        "# c = conn.cursor()\n",
        "\n",
        "# # 테이블 생성 (데이터 타입은 TEST, NUMERIC, INTEGER, REAL, BLOB 등)\n",
        "# c.execute(\"CREATE TABLE IF NOT EXISTS table1 \\\n",
        "#     (id integer PRIMARY KEY, name text, birthday text)\")"
      ],
      "metadata": {
        "colab": {
          "base_uri": "https://localhost:8080/"
        },
        "id": "caihRmYm9s3R",
        "outputId": "809115df-5cfc-436e-f6cc-b773cb17ea54"
      },
      "execution_count": null,
      "outputs": [
        {
          "output_type": "execute_result",
          "data": {
            "text/plain": [
              "<sqlite3.Cursor at 0x7f8d01386ce0>"
            ]
          },
          "metadata": {},
          "execution_count": 2
        }
      ]
    },
    {
      "cell_type": "code",
      "source": [
        "# DB 생성 (오토 커밋)\n",
        "conn = sqlite3.connect(\"test.db\", isolation_level=None)\n",
        "\n",
        "# 커서 획득\n",
        "c = conn.cursor()"
      ],
      "metadata": {
        "id": "mkvFvRz8-Gjn"
      },
      "execution_count": 32,
      "outputs": []
    },
    {
      "cell_type": "markdown",
      "source": [
        "# 데이터 삽입하기"
      ],
      "metadata": {
        "id": "v3PFpkKhbbhl"
      }
    },
    {
      "cell_type": "markdown",
      "source": [
        "## 기본 String Query 사용"
      ],
      "metadata": {
        "id": "rg9WhCvyeNen"
      }
    },
    {
      "cell_type": "code",
      "source": [
        "# 데이터 삽입 방법 1\n",
        "c.execute(\"INSERT INTO table1 \\\n",
        "    VALUES(1, 'LEE', '1987-00-00')\")"
      ],
      "metadata": {
        "colab": {
          "base_uri": "https://localhost:8080/"
        },
        "id": "eQwmFFW_a-y9",
        "outputId": "45ffcf3a-9fb5-495e-8c40-9f582ca16e59"
      },
      "execution_count": 33,
      "outputs": [
        {
          "output_type": "execute_result",
          "data": {
            "text/plain": [
              "<sqlite3.Cursor at 0x7f3f29a688f0>"
            ]
          },
          "metadata": {},
          "execution_count": 33
        }
      ]
    },
    {
      "cell_type": "markdown",
      "source": [
        "## Parameter: Tuple 사용"
      ],
      "metadata": {
        "id": "AFXwZ7dceQNd"
      }
    },
    {
      "cell_type": "code",
      "source": [
        "# 데이터 삽입 방법 2\n",
        "c.execute(\"INSERT INTO table1(id, name, birthday) \\\n",
        "    VALUES(?,?,?)\", \\\n",
        "    (2, 'KIM', '1990-00-00'))"
      ],
      "metadata": {
        "colab": {
          "base_uri": "https://localhost:8080/"
        },
        "id": "heYAsHwVbMv2",
        "outputId": "c7d64074-d6c5-408d-d63a-9fe37833fa53"
      },
      "execution_count": 34,
      "outputs": [
        {
          "output_type": "execute_result",
          "data": {
            "text/plain": [
              "<sqlite3.Cursor at 0x7f3f29a688f0>"
            ]
          },
          "metadata": {},
          "execution_count": 34
        }
      ]
    },
    {
      "cell_type": "code",
      "source": [
        "test_tuple = (\n",
        "    (3, 'PARK', '1991-00-00'),\n",
        "    (4, 'CHOI', '1999-00-00'),\n",
        "    (5, 'JUNG', '1989-00-00')\n",
        ")"
      ],
      "metadata": {
        "id": "MFr_NAJcbQIV"
      },
      "execution_count": 35,
      "outputs": []
    },
    {
      "cell_type": "code",
      "source": [
        "c.executemany(\"INSERT INTO table1(id, name, birthday) VALUES(?,?,?)\", test_tuple)"
      ],
      "metadata": {
        "colab": {
          "base_uri": "https://localhost:8080/"
        },
        "id": "JZ7xjtB1bS5s",
        "outputId": "bae39d1b-a810-4e95-b6c4-8b2a75bf1a2b"
      },
      "execution_count": 36,
      "outputs": [
        {
          "output_type": "execute_result",
          "data": {
            "text/plain": [
              "<sqlite3.Cursor at 0x7f3f29a688f0>"
            ]
          },
          "metadata": {},
          "execution_count": 36
        }
      ]
    },
    {
      "cell_type": "markdown",
      "source": [
        "## Named Parameter: Dictionary 사용"
      ],
      "metadata": {
        "id": "o6LAdwIaeVsE"
      }
    },
    {
      "cell_type": "code",
      "source": [
        "name = 'SangJung'\n",
        "phoneNumber = '010-5670-2343'\n",
        "cur = con.cursor()\n",
        "cur.execute('INSERT INTO PhoneBook VALUES(:name, :phoneNumber);', {\"name\":name, \"phoneNumber\":phoneNumber})"
      ],
      "metadata": {
        "id": "kP8eyUPveXeM"
      },
      "execution_count": null,
      "outputs": []
    },
    {
      "cell_type": "markdown",
      "source": [
        "## List 사용"
      ],
      "metadata": {
        "id": "OBuXUdu6ebIF"
      }
    },
    {
      "cell_type": "code",
      "source": [
        "dataList = (('Tom', '010-543-5432'), ('DSP', '010-123-1234'))\n",
        "cur = con.cursor()\n",
        "cur.executemany(\"INSERT INTO PhoneBook VALUES(?, ?);\", dataList)"
      ],
      "metadata": {
        "id": "IUgwA6h1edBk"
      },
      "execution_count": null,
      "outputs": []
    },
    {
      "cell_type": "markdown",
      "source": [
        "# 데이터 불러오기"
      ],
      "metadata": {
        "id": "wRanobFsbebF"
      }
    },
    {
      "cell_type": "markdown",
      "source": [
        "## 순회 조회"
      ],
      "metadata": {
        "id": "vYQ-hKwEennt"
      }
    },
    {
      "cell_type": "code",
      "source": [
        "cur.execute('SELECT * FROM PhoneBook')\n",
        "for row in cur:\n",
        "    print(row)"
      ],
      "metadata": {
        "id": "dACo-Xk1eo98"
      },
      "execution_count": null,
      "outputs": []
    },
    {
      "cell_type": "markdown",
      "source": [
        "## 단건 조회"
      ],
      "metadata": {
        "id": "uVu_XnsDeqza"
      }
    },
    {
      "cell_type": "code",
      "source": [
        "c.execute('select * from table1')\n",
        "print(c.fetchone())"
      ],
      "metadata": {
        "colab": {
          "base_uri": "https://localhost:8080/"
        },
        "id": "aHt9SXOdbFus",
        "outputId": "401efc6e-80d2-46f8-fd37-606457d7d3bb"
      },
      "execution_count": 19,
      "outputs": [
        {
          "output_type": "stream",
          "name": "stdout",
          "text": [
            "(1, 'LEE', '1987-00-00')\n"
          ]
        }
      ]
    },
    {
      "cell_type": "code",
      "source": [
        "c.execute('select * from table1')\n",
        "print(c.fetchall())"
      ],
      "metadata": {
        "colab": {
          "base_uri": "https://localhost:8080/"
        },
        "id": "neG8aqgab7nV",
        "outputId": "e79842c8-8ff7-466c-8ff0-43e99319f04b"
      },
      "execution_count": 18,
      "outputs": [
        {
          "output_type": "stream",
          "name": "stdout",
          "text": [
            "[(1, 'LEE', '1987-00-00'), (2, 'KIM', '1990-00-00'), (3, 'PARK', '1991-00-00'), (4, 'CHOI', '1999-00-00'), (5, 'JUNG', '1989-00-00')]\n"
          ]
        }
      ]
    },
    {
      "cell_type": "markdown",
      "source": [
        "## 다건 조회"
      ],
      "metadata": {
        "id": "x6SgKOqYexJl"
      }
    },
    {
      "cell_type": "code",
      "source": [
        "cur.fetchmany(2)"
      ],
      "metadata": {
        "id": "eL4eiEmLe09l"
      },
      "execution_count": null,
      "outputs": []
    },
    {
      "cell_type": "markdown",
      "source": [
        "## 모두 조회"
      ],
      "metadata": {
        "id": "7EOT1pOde1qV"
      }
    },
    {
      "cell_type": "code",
      "source": [
        "# 방법 1\n",
        "c.execute(\"SELECT * FROM table1\")\n",
        "for row in c.fetchall():\n",
        "    print(row)"
      ],
      "metadata": {
        "colab": {
          "base_uri": "https://localhost:8080/"
        },
        "id": "ykIxLcIMcDEc",
        "outputId": "0959111a-4f47-4de4-810c-bb531cb9e04a"
      },
      "execution_count": 20,
      "outputs": [
        {
          "output_type": "stream",
          "name": "stdout",
          "text": [
            "(1, 'LEE', '1987-00-00')\n",
            "(2, 'KIM', '1990-00-00')\n",
            "(3, 'PARK', '1991-00-00')\n",
            "(4, 'CHOI', '1999-00-00')\n",
            "(5, 'JUNG', '1989-00-00')\n"
          ]
        }
      ]
    },
    {
      "cell_type": "code",
      "source": [
        "# 방법 2\n",
        "for row in c.execute(\"SELECT * FROM table1 ORDER BY id ASC\"):\n",
        "    print(row)"
      ],
      "metadata": {
        "colab": {
          "base_uri": "https://localhost:8080/"
        },
        "id": "8awYJGGgcKvc",
        "outputId": "a46dd57c-e910-4552-d19b-50f12c197b27"
      },
      "execution_count": 21,
      "outputs": [
        {
          "output_type": "stream",
          "name": "stdout",
          "text": [
            "(1, 'LEE', '1987-00-00')\n",
            "(2, 'KIM', '1990-00-00')\n",
            "(3, 'PARK', '1991-00-00')\n",
            "(4, 'CHOI', '1999-00-00')\n",
            "(5, 'JUNG', '1989-00-00')\n"
          ]
        }
      ]
    },
    {
      "cell_type": "markdown",
      "source": [
        "# 데이터 조회하기 (필터링)"
      ],
      "metadata": {
        "id": "ChxbscW4cNME"
      }
    },
    {
      "cell_type": "code",
      "source": [
        "# 방법 1\n",
        "param1 = (1,)\n",
        "c.execute('SELECT * FROM table1 WHERE id=?', param1)\n",
        "print('param1', c.fetchone())\n",
        "print('param1', c.fetchall())"
      ],
      "metadata": {
        "colab": {
          "base_uri": "https://localhost:8080/"
        },
        "id": "ENhDOpZccU7E",
        "outputId": "5ea658f3-213e-4094-f49e-7085edfeb322"
      },
      "execution_count": 22,
      "outputs": [
        {
          "output_type": "stream",
          "name": "stdout",
          "text": [
            "param1 (1, 'LEE', '1987-00-00')\n",
            "param1 []\n"
          ]
        }
      ]
    },
    {
      "cell_type": "code",
      "source": [
        "# 방법 2\n",
        "param2 = 1\n",
        "c.execute(\"SELECT * FROM table1 WHERE id='%s'\" % param2)  # %s %d %f\n",
        "print('param2', c.fetchone())\n",
        "print('param2', c.fetchall())"
      ],
      "metadata": {
        "colab": {
          "base_uri": "https://localhost:8080/"
        },
        "id": "vwrjKtL7ccvU",
        "outputId": "506be682-da9c-4e4d-b70d-36b5496653dd"
      },
      "execution_count": 23,
      "outputs": [
        {
          "output_type": "stream",
          "name": "stdout",
          "text": [
            "param2 (1, 'LEE', '1987-00-00')\n",
            "param2 []\n"
          ]
        }
      ]
    },
    {
      "cell_type": "code",
      "source": [
        "# 방법 3\n",
        "c.execute(\"SELECT * FROM table1 WHERE id=:Id\", {\"Id\": 1})\n",
        "print('param3', c.fetchone())\n",
        "print('param3', c.fetchall())"
      ],
      "metadata": {
        "colab": {
          "base_uri": "https://localhost:8080/"
        },
        "id": "IM6R4mKLch3c",
        "outputId": "3f5888d9-280f-4389-b063-c52a6edbca92"
      },
      "execution_count": 24,
      "outputs": [
        {
          "output_type": "stream",
          "name": "stdout",
          "text": [
            "param3 (1, 'LEE', '1987-00-00')\n",
            "param3 []\n"
          ]
        }
      ]
    },
    {
      "cell_type": "code",
      "source": [
        "# 방법 4\n",
        "param4 = (1, 4)\n",
        "c.execute('SELECT * FROM table1 WHERE id IN(?,?)', param4)\n",
        "print('param4', c.fetchall())"
      ],
      "metadata": {
        "colab": {
          "base_uri": "https://localhost:8080/"
        },
        "id": "lQnJ31pOckFU",
        "outputId": "23ec5fb0-3129-416d-eaed-a6c945e88ea6"
      },
      "execution_count": 25,
      "outputs": [
        {
          "output_type": "stream",
          "name": "stdout",
          "text": [
            "param4 [(1, 'LEE', '1987-00-00'), (4, 'CHOI', '1999-00-00')]\n"
          ]
        }
      ]
    },
    {
      "cell_type": "code",
      "source": [
        "# 방법 5\n",
        "c.execute(\"SELECT * FROM table1 WHERE id In('%d','%d')\" % (1, 4))\n",
        "print('param5', c.fetchall())"
      ],
      "metadata": {
        "colab": {
          "base_uri": "https://localhost:8080/"
        },
        "id": "s6fBOmVrcmHM",
        "outputId": "eb06b26f-cd36-45ef-ee9d-3c47d3d1bbd9"
      },
      "execution_count": 26,
      "outputs": [
        {
          "output_type": "stream",
          "name": "stdout",
          "text": [
            "param5 [(1, 'LEE', '1987-00-00'), (4, 'CHOI', '1999-00-00')]\n"
          ]
        }
      ]
    },
    {
      "cell_type": "code",
      "source": [
        "\n",
        "# 방법 6\n",
        "c.execute(\"SELECT * FROM table1 WHERE id=:id1 OR id=:id2\", {\"id1\": 1, \"id2\": 4})\n",
        "print('param6', c.fetchall())"
      ],
      "metadata": {
        "colab": {
          "base_uri": "https://localhost:8080/"
        },
        "id": "ZmbdJLwgcn0c",
        "outputId": "89e0ff6d-77a4-467e-b362-0dd48ed7de8a"
      },
      "execution_count": 27,
      "outputs": [
        {
          "output_type": "stream",
          "name": "stdout",
          "text": [
            "param6 [(1, 'LEE', '1987-00-00'), (4, 'CHOI', '1999-00-00')]\n"
          ]
        }
      ]
    },
    {
      "cell_type": "markdown",
      "source": [
        "# 데이터 수정하기"
      ],
      "metadata": {
        "id": "lMhlPiNecqaE"
      }
    },
    {
      "cell_type": "code",
      "source": [
        "# 방법 1\n",
        "c.execute(\"UPDATE table1 SET name=? WHERE id=?\", ('NEW1', 1))\n",
        "# 방법 2\n",
        "c.execute(\"UPDATE table1 SET name=:name WHERE id=:id\", {\"name\": 'NEW2', 'id': 3})\n",
        "# 방법 3\n",
        "c.execute(\"UPDATE table1 SET name='%s' WHERE id='%s'\" % ('NEW3', 5))\n",
        "# 확인\n",
        "for row in c.execute('SELECT * FROM table1'):\n",
        "    print(row)"
      ],
      "metadata": {
        "colab": {
          "base_uri": "https://localhost:8080/"
        },
        "id": "hhXYyN3ectpc",
        "outputId": "22b84112-8d71-4549-fc33-7b1a59b15464"
      },
      "execution_count": 28,
      "outputs": [
        {
          "output_type": "stream",
          "name": "stdout",
          "text": [
            "(1, 'NEW1', '1987-00-00')\n",
            "(2, 'KIM', '1990-00-00')\n",
            "(3, 'NEW2', '1991-00-00')\n",
            "(4, 'CHOI', '1999-00-00')\n",
            "(5, 'NEW3', '1989-00-00')\n"
          ]
        }
      ]
    },
    {
      "cell_type": "markdown",
      "source": [
        "# 데이터 삭제하기"
      ],
      "metadata": {
        "id": "HlPLdGGTc-hN"
      }
    },
    {
      "cell_type": "code",
      "source": [
        "# 방법 1\n",
        "conn.execute(\"DELETE FROM table1\")"
      ],
      "metadata": {
        "colab": {
          "base_uri": "https://localhost:8080/"
        },
        "id": "qgMnDmBXcy1M",
        "outputId": "f8c4cc3d-3e7a-45c9-8bb2-23f7f6a867f3"
      },
      "execution_count": 29,
      "outputs": [
        {
          "output_type": "execute_result",
          "data": {
            "text/plain": [
              "<sqlite3.Cursor at 0x7f3f29a7b420>"
            ]
          },
          "metadata": {},
          "execution_count": 29
        }
      ]
    },
    {
      "cell_type": "code",
      "source": [
        "# 방법 2\n",
        "print(conn.execute(\"DELETE FROM table1\").rowcount)"
      ],
      "metadata": {
        "colab": {
          "base_uri": "https://localhost:8080/"
        },
        "id": "rtBzDGWkc8JF",
        "outputId": "9877de35-3841-49f6-c20a-a7c9995572a0"
      },
      "execution_count": 30,
      "outputs": [
        {
          "output_type": "stream",
          "name": "stdout",
          "text": [
            "0\n"
          ]
        }
      ]
    },
    {
      "cell_type": "markdown",
      "source": [
        "# DB 연결 해제"
      ],
      "metadata": {
        "id": "IKuwhgSBdC8-"
      }
    },
    {
      "cell_type": "code",
      "source": [
        "conn.close()"
      ],
      "metadata": {
        "id": "NQ4zXwqIdFCs"
      },
      "execution_count": 31,
      "outputs": []
    },
    {
      "cell_type": "markdown",
      "source": [
        "# DB 백업하기 (dump)"
      ],
      "metadata": {
        "id": "bLQj5CSNdJvl"
      }
    },
    {
      "cell_type": "code",
      "source": [
        "with conn:\n",
        "    with open('dump.sql', 'w') as f:\n",
        "        for line in conn.iterdump():\n",
        "            f.write('%s\\n' % line)\n",
        "        print('Completed.')"
      ],
      "metadata": {
        "colab": {
          "base_uri": "https://localhost:8080/"
        },
        "id": "b39sY8YOdLnc",
        "outputId": "8cf8a704-72f9-4c9b-9758-165311811bc1"
      },
      "execution_count": 37,
      "outputs": [
        {
          "output_type": "stream",
          "name": "stdout",
          "text": [
            "Completed.\n"
          ]
        }
      ]
    },
    {
      "cell_type": "markdown",
      "source": [
        "# sqlite와 pandas 연동하기"
      ],
      "metadata": {
        "id": "YbwQJ3NWfDPc"
      }
    },
    {
      "cell_type": "code",
      "source": [
        "import sqlite3"
      ],
      "metadata": {
        "id": "oAP_kw2sgEzk"
      },
      "execution_count": 1,
      "outputs": []
    },
    {
      "cell_type": "code",
      "source": [
        "conn = sqlite3.connect(\"employee.db\")\n",
        "cur = conn.cursor()"
      ],
      "metadata": {
        "id": "FCYdllYHFQnq"
      },
      "execution_count": 15,
      "outputs": []
    },
    {
      "cell_type": "code",
      "source": [
        "conn.execute(\"create table if not exists employee_data(\\\n",
        "id integer, name text, nickname text, department text,\\\n",
        "employee_date text)\")\n",
        "\n",
        "conn.executemany(\n",
        "    \"insert into employee_data values(?,?,?,?,?)\",\n",
        "    [\n",
        "        (1001, 'Donghyun', 'SOMJANG', 'Development', '2020-04-01 00:00:00.000'),\n",
        "        (2001, 'Sol', 'Fairy', 'Marketing', '2020-04-01 00:00:00.000'),\n",
        "        (2002, 'Jiyoung', 'Magician', 'Marketing', '2020-04-01 00:00:00.000'),\n",
        "        (1002, 'Hyeona', 'Theif', 'Development', '2020-04-01 00:00:00.000'),\n",
        "        (1003, 'Soyoung', 'Chief', 'Development', '2020-04-01 00:00:00.000'),\n",
        "    ]\n",
        ")\n",
        "\n",
        "conn.commit()\n",
        "conn.close()"
      ],
      "metadata": {
        "id": "GA6ZXihlF2XR"
      },
      "execution_count": 18,
      "outputs": []
    },
    {
      "cell_type": "code",
      "source": [
        "conn = sqlite3.connect(\"employee.db\")\n",
        "cur = conn.cursor()\n",
        "cur.execute(\"select * from employee_data\")\n",
        "rows = cur.fetchall()\n",
        "\n",
        "for row in rows:\n",
        "    print(row)\n",
        "\n",
        "conn.close()   "
      ],
      "metadata": {
        "colab": {
          "base_uri": "https://localhost:8080/"
        },
        "id": "f-W539LQHC3k",
        "outputId": "4cffa0d8-fe19-40cf-9378-bc0b56038604"
      },
      "execution_count": 19,
      "outputs": [
        {
          "output_type": "stream",
          "name": "stdout",
          "text": [
            "(1001, 'Donghyun', 'SOMJANG', 'Development', '2020-04-01 00:00:00.000')\n",
            "(1001, 'Donghyun', 'SOMJANG', 'Development', '2020-04-01 00:00:00.000')\n",
            "(2001, 'Sol', 'Fairy', 'Marketing', '2020-04-01 00:00:00.000')\n",
            "(2002, 'Jiyoung', 'Magician', 'Marketing', '2020-04-01 00:00:00.000')\n",
            "(1002, 'Hyeona', 'Theif', 'Development', '2020-04-01 00:00:00.000')\n",
            "(1003, 'Soyoung', 'Chief', 'Development', '2020-04-01 00:00:00.000')\n"
          ]
        }
      ]
    },
    {
      "cell_type": "code",
      "source": [
        "conn = sqlite3.connect(\"employee.db\")\n",
        "cur = conn.cursor()\n",
        "cur.execute(\"select name, department from employee_data where employee_data.id > 2000\")\n",
        "\n",
        "rows = cur.fetchall()\n",
        "\n",
        "for row in rows:\n",
        "    print(row)\n",
        "\n",
        "conn.close()  "
      ],
      "metadata": {
        "colab": {
          "base_uri": "https://localhost:8080/"
        },
        "id": "PaxGW2T_Jx-q",
        "outputId": "0d18b780-b66a-4c95-ca69-3c495e48c115"
      },
      "execution_count": 22,
      "outputs": [
        {
          "output_type": "stream",
          "name": "stdout",
          "text": [
            "('Sol', 'Marketing')\n",
            "('Jiyoung', 'Marketing')\n"
          ]
        }
      ]
    },
    {
      "cell_type": "code",
      "source": [
        "conn = sqlite3.connect(\"employee.db\")\n",
        "cur = conn.cursor()\n",
        "cur.execute(\"select nickname from employee_data where employee_data.name == 'Donghyun'\")\n",
        "\n",
        "rows = cur.fetchall()\n",
        "\n",
        "for row in rows:\n",
        "    print(row)\n",
        "\n",
        "conn.close()  "
      ],
      "metadata": {
        "colab": {
          "base_uri": "https://localhost:8080/"
        },
        "id": "ZHATQvqbKLW7",
        "outputId": "08d0165d-55d0-4587-d5e2-18b523bfc290"
      },
      "execution_count": 24,
      "outputs": [
        {
          "output_type": "stream",
          "name": "stdout",
          "text": [
            "('SOMJANG',)\n",
            "('SOMJANG',)\n"
          ]
        }
      ]
    },
    {
      "cell_type": "code",
      "source": [
        "import pandas as pd\n",
        "conn = sqlite3.connect(\"employee.db\")\n",
        "cur = conn.cursor()\n",
        "cur.execute(\"select * from employee_data\")\n",
        "rows = cur.fetchall()\n",
        "\n",
        "cols = [column[0] for column in cur.description]\n",
        "data_df = pd.DataFrame.from_records(data=rows, columns=cols)\n",
        "conn.close()\n",
        "\n",
        "data_df"
      ],
      "metadata": {
        "colab": {
          "base_uri": "https://localhost:8080/",
          "height": 238
        },
        "id": "Ue4vGXBYKZ8S",
        "outputId": "67bf164a-da3c-4bc6-a9df-036e8b1e5c37"
      },
      "execution_count": 25,
      "outputs": [
        {
          "output_type": "execute_result",
          "data": {
            "text/plain": [
              "     id      name  nickname   department            employee_date\n",
              "0  1001  Donghyun   SOMJANG  Development  2020-04-01 00:00:00.000\n",
              "1  1001  Donghyun   SOMJANG  Development  2020-04-01 00:00:00.000\n",
              "2  2001       Sol     Fairy    Marketing  2020-04-01 00:00:00.000\n",
              "3  2002   Jiyoung  Magician    Marketing  2020-04-01 00:00:00.000\n",
              "4  1002    Hyeona     Theif  Development  2020-04-01 00:00:00.000\n",
              "5  1003   Soyoung     Chief  Development  2020-04-01 00:00:00.000"
            ],
            "text/html": [
              "\n",
              "  <div id=\"df-d1c4bdab-ceb2-4506-b8a5-70deb8f34e5c\">\n",
              "    <div class=\"colab-df-container\">\n",
              "      <div>\n",
              "<style scoped>\n",
              "    .dataframe tbody tr th:only-of-type {\n",
              "        vertical-align: middle;\n",
              "    }\n",
              "\n",
              "    .dataframe tbody tr th {\n",
              "        vertical-align: top;\n",
              "    }\n",
              "\n",
              "    .dataframe thead th {\n",
              "        text-align: right;\n",
              "    }\n",
              "</style>\n",
              "<table border=\"1\" class=\"dataframe\">\n",
              "  <thead>\n",
              "    <tr style=\"text-align: right;\">\n",
              "      <th></th>\n",
              "      <th>id</th>\n",
              "      <th>name</th>\n",
              "      <th>nickname</th>\n",
              "      <th>department</th>\n",
              "      <th>employee_date</th>\n",
              "    </tr>\n",
              "  </thead>\n",
              "  <tbody>\n",
              "    <tr>\n",
              "      <th>0</th>\n",
              "      <td>1001</td>\n",
              "      <td>Donghyun</td>\n",
              "      <td>SOMJANG</td>\n",
              "      <td>Development</td>\n",
              "      <td>2020-04-01 00:00:00.000</td>\n",
              "    </tr>\n",
              "    <tr>\n",
              "      <th>1</th>\n",
              "      <td>1001</td>\n",
              "      <td>Donghyun</td>\n",
              "      <td>SOMJANG</td>\n",
              "      <td>Development</td>\n",
              "      <td>2020-04-01 00:00:00.000</td>\n",
              "    </tr>\n",
              "    <tr>\n",
              "      <th>2</th>\n",
              "      <td>2001</td>\n",
              "      <td>Sol</td>\n",
              "      <td>Fairy</td>\n",
              "      <td>Marketing</td>\n",
              "      <td>2020-04-01 00:00:00.000</td>\n",
              "    </tr>\n",
              "    <tr>\n",
              "      <th>3</th>\n",
              "      <td>2002</td>\n",
              "      <td>Jiyoung</td>\n",
              "      <td>Magician</td>\n",
              "      <td>Marketing</td>\n",
              "      <td>2020-04-01 00:00:00.000</td>\n",
              "    </tr>\n",
              "    <tr>\n",
              "      <th>4</th>\n",
              "      <td>1002</td>\n",
              "      <td>Hyeona</td>\n",
              "      <td>Theif</td>\n",
              "      <td>Development</td>\n",
              "      <td>2020-04-01 00:00:00.000</td>\n",
              "    </tr>\n",
              "    <tr>\n",
              "      <th>5</th>\n",
              "      <td>1003</td>\n",
              "      <td>Soyoung</td>\n",
              "      <td>Chief</td>\n",
              "      <td>Development</td>\n",
              "      <td>2020-04-01 00:00:00.000</td>\n",
              "    </tr>\n",
              "  </tbody>\n",
              "</table>\n",
              "</div>\n",
              "      <button class=\"colab-df-convert\" onclick=\"convertToInteractive('df-d1c4bdab-ceb2-4506-b8a5-70deb8f34e5c')\"\n",
              "              title=\"Convert this dataframe to an interactive table.\"\n",
              "              style=\"display:none;\">\n",
              "        \n",
              "  <svg xmlns=\"http://www.w3.org/2000/svg\" height=\"24px\"viewBox=\"0 0 24 24\"\n",
              "       width=\"24px\">\n",
              "    <path d=\"M0 0h24v24H0V0z\" fill=\"none\"/>\n",
              "    <path d=\"M18.56 5.44l.94 2.06.94-2.06 2.06-.94-2.06-.94-.94-2.06-.94 2.06-2.06.94zm-11 1L8.5 8.5l.94-2.06 2.06-.94-2.06-.94L8.5 2.5l-.94 2.06-2.06.94zm10 10l.94 2.06.94-2.06 2.06-.94-2.06-.94-.94-2.06-.94 2.06-2.06.94z\"/><path d=\"M17.41 7.96l-1.37-1.37c-.4-.4-.92-.59-1.43-.59-.52 0-1.04.2-1.43.59L10.3 9.45l-7.72 7.72c-.78.78-.78 2.05 0 2.83L4 21.41c.39.39.9.59 1.41.59.51 0 1.02-.2 1.41-.59l7.78-7.78 2.81-2.81c.8-.78.8-2.07 0-2.86zM5.41 20L4 18.59l7.72-7.72 1.47 1.35L5.41 20z\"/>\n",
              "  </svg>\n",
              "      </button>\n",
              "      \n",
              "  <style>\n",
              "    .colab-df-container {\n",
              "      display:flex;\n",
              "      flex-wrap:wrap;\n",
              "      gap: 12px;\n",
              "    }\n",
              "\n",
              "    .colab-df-convert {\n",
              "      background-color: #E8F0FE;\n",
              "      border: none;\n",
              "      border-radius: 50%;\n",
              "      cursor: pointer;\n",
              "      display: none;\n",
              "      fill: #1967D2;\n",
              "      height: 32px;\n",
              "      padding: 0 0 0 0;\n",
              "      width: 32px;\n",
              "    }\n",
              "\n",
              "    .colab-df-convert:hover {\n",
              "      background-color: #E2EBFA;\n",
              "      box-shadow: 0px 1px 2px rgba(60, 64, 67, 0.3), 0px 1px 3px 1px rgba(60, 64, 67, 0.15);\n",
              "      fill: #174EA6;\n",
              "    }\n",
              "\n",
              "    [theme=dark] .colab-df-convert {\n",
              "      background-color: #3B4455;\n",
              "      fill: #D2E3FC;\n",
              "    }\n",
              "\n",
              "    [theme=dark] .colab-df-convert:hover {\n",
              "      background-color: #434B5C;\n",
              "      box-shadow: 0px 1px 3px 1px rgba(0, 0, 0, 0.15);\n",
              "      filter: drop-shadow(0px 1px 2px rgba(0, 0, 0, 0.3));\n",
              "      fill: #FFFFFF;\n",
              "    }\n",
              "  </style>\n",
              "\n",
              "      <script>\n",
              "        const buttonEl =\n",
              "          document.querySelector('#df-d1c4bdab-ceb2-4506-b8a5-70deb8f34e5c button.colab-df-convert');\n",
              "        buttonEl.style.display =\n",
              "          google.colab.kernel.accessAllowed ? 'block' : 'none';\n",
              "\n",
              "        async function convertToInteractive(key) {\n",
              "          const element = document.querySelector('#df-d1c4bdab-ceb2-4506-b8a5-70deb8f34e5c');\n",
              "          const dataTable =\n",
              "            await google.colab.kernel.invokeFunction('convertToInteractive',\n",
              "                                                     [key], {});\n",
              "          if (!dataTable) return;\n",
              "\n",
              "          const docLinkHtml = 'Like what you see? Visit the ' +\n",
              "            '<a target=\"_blank\" href=https://colab.research.google.com/notebooks/data_table.ipynb>data table notebook</a>'\n",
              "            + ' to learn more about interactive tables.';\n",
              "          element.innerHTML = '';\n",
              "          dataTable['output_type'] = 'display_data';\n",
              "          await google.colab.output.renderOutput(dataTable, element);\n",
              "          const docLink = document.createElement('div');\n",
              "          docLink.innerHTML = docLinkHtml;\n",
              "          element.appendChild(docLink);\n",
              "        }\n",
              "      </script>\n",
              "    </div>\n",
              "  </div>\n",
              "  "
            ]
          },
          "metadata": {},
          "execution_count": 25
        }
      ]
    },
    {
      "cell_type": "code",
      "source": [
        ""
      ],
      "metadata": {
        "id": "hheKmX5jLMPC"
      },
      "execution_count": null,
      "outputs": []
    }
  ]
}