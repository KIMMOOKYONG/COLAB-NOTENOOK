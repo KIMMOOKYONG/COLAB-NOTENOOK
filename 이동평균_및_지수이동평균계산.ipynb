{
  "nbformat": 4,
  "nbformat_minor": 0,
  "metadata": {
    "colab": {
      "name": "이동평균 및 지수이동평균계산.ipynb",
      "provenance": [],
      "collapsed_sections": [],
      "toc_visible": true,
      "authorship_tag": "ABX9TyMIk9ooJgBvBlKub/jCajhV",
      "include_colab_link": true
    },
    "kernelspec": {
      "name": "python3",
      "display_name": "Python 3"
    }
  },
  "cells": [
    {
      "cell_type": "markdown",
      "metadata": {
        "id": "view-in-github",
        "colab_type": "text"
      },
      "source": [
        "<a href=\"https://colab.research.google.com/github/KIMMOOKYONG/COLAB-NOTENOOK/blob/main/%EC%9D%B4%EB%8F%99%ED%8F%89%EA%B7%A0_%EB%B0%8F_%EC%A7%80%EC%88%98%EC%9D%B4%EB%8F%99%ED%8F%89%EA%B7%A0%EA%B3%84%EC%82%B0.ipynb\" target=\"_parent\"><img src=\"https://colab.research.google.com/assets/colab-badge.svg\" alt=\"Open In Colab\"/></a>"
      ]
    },
    {
      "cell_type": "markdown",
      "source": [
        "# 목차\n",
        "- 필요 모듈 설치\n",
        "    - 야후 파이낸스 모듈 설치\n",
        "\n",
        "- 주가 데이터 다운로드\n",
        "    - AAPL 주가 데이터 다운로드\n",
        "\n",
        "- 주가 데이터 전처리\n",
        "\n",
        "    - 이동평균계산"
      ],
      "metadata": {
        "id": "OZU23Olhmz3k"
      }
    },
    {
      "cell_type": "markdown",
      "metadata": {
        "id": "zIcahL2abk1u"
      },
      "source": [
        "### 필요 모듈 설치"
      ]
    },
    {
      "cell_type": "code",
      "metadata": {
        "id": "xNZlE9TibqJO"
      },
      "source": [
        "# 주가 데이터 다운로드 모듈\n",
        "!pip install yfinance"
      ],
      "execution_count": null,
      "outputs": []
    },
    {
      "cell_type": "markdown",
      "metadata": {
        "id": "dmV2CwbfAK_S"
      },
      "source": [
        "### 이동평균계산"
      ]
    },
    {
      "cell_type": "code",
      "metadata": {
        "id": "cbKBVOClAPOu"
      },
      "source": [
        "# 파라미터\n",
        "# Data: 데이터, 넘파이 배열, lookback: 이동 평균 기간, what: 대상 데이터 위치, where: 저장할 위치\n",
        "# ma: moving average\n",
        "def ma(Data, lookback, what, where):\n",
        "\tfor i in range(len(Data)):\n",
        "\t\ttry:\n",
        "\t\t\tData[i, where] = (Data[i - lookback + 1:i + 1, what].mean())\n",
        "\t\texcept IndexError:\n",
        "\t\t\tpass\n",
        "\treturn Data\n",
        "\n",
        "# 사용 예시\n",
        "# ma(대상 데이터, 이동평균 기간, 소스 칼럼, 타겟 칼럼)\n",
        "# ma(ma_data, 100, CLOSE, MEAN)   "
      ],
      "execution_count": 3,
      "outputs": []
    },
    {
      "cell_type": "code",
      "metadata": {
        "id": "gXPmOul7AQnU"
      },
      "source": [
        "import yfinance as yf\n",
        "import pandas as pd\n",
        "import warnings"
      ],
      "execution_count": 4,
      "outputs": []
    },
    {
      "cell_type": "code",
      "metadata": {
        "colab": {
          "base_uri": "https://localhost:8080/"
        },
        "id": "ivg7UqSTAbnb",
        "outputId": "238d7eb0-2195-4c01-fa36-fbf1606cf8d0"
      },
      "source": [
        "data = yf.download(\"AAPL\", start=\"2020-01-01\")"
      ],
      "execution_count": 5,
      "outputs": [
        {
          "output_type": "stream",
          "name": "stdout",
          "text": [
            "\r[*********************100%***********************]  1 of 1 completed\n"
          ]
        }
      ]
    },
    {
      "cell_type": "code",
      "metadata": {
        "colab": {
          "base_uri": "https://localhost:8080/",
          "height": 238
        },
        "id": "z1rYrRL_Ard6",
        "outputId": "13781b1f-5604-4a4e-aa26-c2ebf129609b"
      },
      "source": [
        "data.head()"
      ],
      "execution_count": 6,
      "outputs": [
        {
          "output_type": "execute_result",
          "data": {
            "text/plain": [
              "                 Open       High        Low      Close  Adj Close     Volume\n",
              "Date                                                                        \n",
              "2020-01-02  74.059998  75.150002  73.797501  75.087502  73.785927  135480400\n",
              "2020-01-03  74.287498  75.144997  74.125000  74.357498  73.068573  146322800\n",
              "2020-01-06  73.447502  74.989998  73.187500  74.949997  73.650803  118387200\n",
              "2020-01-07  74.959999  75.224998  74.370003  74.597504  73.304413  108872000\n",
              "2020-01-08  74.290001  76.110001  74.290001  75.797501  74.483604  132079200"
            ],
            "text/html": [
              "\n",
              "  <div id=\"df-53d7f652-dc23-4ead-b7dc-0e28c58adad1\">\n",
              "    <div class=\"colab-df-container\">\n",
              "      <div>\n",
              "<style scoped>\n",
              "    .dataframe tbody tr th:only-of-type {\n",
              "        vertical-align: middle;\n",
              "    }\n",
              "\n",
              "    .dataframe tbody tr th {\n",
              "        vertical-align: top;\n",
              "    }\n",
              "\n",
              "    .dataframe thead th {\n",
              "        text-align: right;\n",
              "    }\n",
              "</style>\n",
              "<table border=\"1\" class=\"dataframe\">\n",
              "  <thead>\n",
              "    <tr style=\"text-align: right;\">\n",
              "      <th></th>\n",
              "      <th>Open</th>\n",
              "      <th>High</th>\n",
              "      <th>Low</th>\n",
              "      <th>Close</th>\n",
              "      <th>Adj Close</th>\n",
              "      <th>Volume</th>\n",
              "    </tr>\n",
              "    <tr>\n",
              "      <th>Date</th>\n",
              "      <th></th>\n",
              "      <th></th>\n",
              "      <th></th>\n",
              "      <th></th>\n",
              "      <th></th>\n",
              "      <th></th>\n",
              "    </tr>\n",
              "  </thead>\n",
              "  <tbody>\n",
              "    <tr>\n",
              "      <th>2020-01-02</th>\n",
              "      <td>74.059998</td>\n",
              "      <td>75.150002</td>\n",
              "      <td>73.797501</td>\n",
              "      <td>75.087502</td>\n",
              "      <td>73.785927</td>\n",
              "      <td>135480400</td>\n",
              "    </tr>\n",
              "    <tr>\n",
              "      <th>2020-01-03</th>\n",
              "      <td>74.287498</td>\n",
              "      <td>75.144997</td>\n",
              "      <td>74.125000</td>\n",
              "      <td>74.357498</td>\n",
              "      <td>73.068573</td>\n",
              "      <td>146322800</td>\n",
              "    </tr>\n",
              "    <tr>\n",
              "      <th>2020-01-06</th>\n",
              "      <td>73.447502</td>\n",
              "      <td>74.989998</td>\n",
              "      <td>73.187500</td>\n",
              "      <td>74.949997</td>\n",
              "      <td>73.650803</td>\n",
              "      <td>118387200</td>\n",
              "    </tr>\n",
              "    <tr>\n",
              "      <th>2020-01-07</th>\n",
              "      <td>74.959999</td>\n",
              "      <td>75.224998</td>\n",
              "      <td>74.370003</td>\n",
              "      <td>74.597504</td>\n",
              "      <td>73.304413</td>\n",
              "      <td>108872000</td>\n",
              "    </tr>\n",
              "    <tr>\n",
              "      <th>2020-01-08</th>\n",
              "      <td>74.290001</td>\n",
              "      <td>76.110001</td>\n",
              "      <td>74.290001</td>\n",
              "      <td>75.797501</td>\n",
              "      <td>74.483604</td>\n",
              "      <td>132079200</td>\n",
              "    </tr>\n",
              "  </tbody>\n",
              "</table>\n",
              "</div>\n",
              "      <button class=\"colab-df-convert\" onclick=\"convertToInteractive('df-53d7f652-dc23-4ead-b7dc-0e28c58adad1')\"\n",
              "              title=\"Convert this dataframe to an interactive table.\"\n",
              "              style=\"display:none;\">\n",
              "        \n",
              "  <svg xmlns=\"http://www.w3.org/2000/svg\" height=\"24px\"viewBox=\"0 0 24 24\"\n",
              "       width=\"24px\">\n",
              "    <path d=\"M0 0h24v24H0V0z\" fill=\"none\"/>\n",
              "    <path d=\"M18.56 5.44l.94 2.06.94-2.06 2.06-.94-2.06-.94-.94-2.06-.94 2.06-2.06.94zm-11 1L8.5 8.5l.94-2.06 2.06-.94-2.06-.94L8.5 2.5l-.94 2.06-2.06.94zm10 10l.94 2.06.94-2.06 2.06-.94-2.06-.94-.94-2.06-.94 2.06-2.06.94z\"/><path d=\"M17.41 7.96l-1.37-1.37c-.4-.4-.92-.59-1.43-.59-.52 0-1.04.2-1.43.59L10.3 9.45l-7.72 7.72c-.78.78-.78 2.05 0 2.83L4 21.41c.39.39.9.59 1.41.59.51 0 1.02-.2 1.41-.59l7.78-7.78 2.81-2.81c.8-.78.8-2.07 0-2.86zM5.41 20L4 18.59l7.72-7.72 1.47 1.35L5.41 20z\"/>\n",
              "  </svg>\n",
              "      </button>\n",
              "      \n",
              "  <style>\n",
              "    .colab-df-container {\n",
              "      display:flex;\n",
              "      flex-wrap:wrap;\n",
              "      gap: 12px;\n",
              "    }\n",
              "\n",
              "    .colab-df-convert {\n",
              "      background-color: #E8F0FE;\n",
              "      border: none;\n",
              "      border-radius: 50%;\n",
              "      cursor: pointer;\n",
              "      display: none;\n",
              "      fill: #1967D2;\n",
              "      height: 32px;\n",
              "      padding: 0 0 0 0;\n",
              "      width: 32px;\n",
              "    }\n",
              "\n",
              "    .colab-df-convert:hover {\n",
              "      background-color: #E2EBFA;\n",
              "      box-shadow: 0px 1px 2px rgba(60, 64, 67, 0.3), 0px 1px 3px 1px rgba(60, 64, 67, 0.15);\n",
              "      fill: #174EA6;\n",
              "    }\n",
              "\n",
              "    [theme=dark] .colab-df-convert {\n",
              "      background-color: #3B4455;\n",
              "      fill: #D2E3FC;\n",
              "    }\n",
              "\n",
              "    [theme=dark] .colab-df-convert:hover {\n",
              "      background-color: #434B5C;\n",
              "      box-shadow: 0px 1px 3px 1px rgba(0, 0, 0, 0.15);\n",
              "      filter: drop-shadow(0px 1px 2px rgba(0, 0, 0, 0.3));\n",
              "      fill: #FFFFFF;\n",
              "    }\n",
              "  </style>\n",
              "\n",
              "      <script>\n",
              "        const buttonEl =\n",
              "          document.querySelector('#df-53d7f652-dc23-4ead-b7dc-0e28c58adad1 button.colab-df-convert');\n",
              "        buttonEl.style.display =\n",
              "          google.colab.kernel.accessAllowed ? 'block' : 'none';\n",
              "\n",
              "        async function convertToInteractive(key) {\n",
              "          const element = document.querySelector('#df-53d7f652-dc23-4ead-b7dc-0e28c58adad1');\n",
              "          const dataTable =\n",
              "            await google.colab.kernel.invokeFunction('convertToInteractive',\n",
              "                                                     [key], {});\n",
              "          if (!dataTable) return;\n",
              "\n",
              "          const docLinkHtml = 'Like what you see? Visit the ' +\n",
              "            '<a target=\"_blank\" href=https://colab.research.google.com/notebooks/data_table.ipynb>data table notebook</a>'\n",
              "            + ' to learn more about interactive tables.';\n",
              "          element.innerHTML = '';\n",
              "          dataTable['output_type'] = 'display_data';\n",
              "          await google.colab.output.renderOutput(dataTable, element);\n",
              "          const docLink = document.createElement('div');\n",
              "          docLink.innerHTML = docLinkHtml;\n",
              "          element.appendChild(docLink);\n",
              "        }\n",
              "      </script>\n",
              "    </div>\n",
              "  </div>\n",
              "  "
            ]
          },
          "metadata": {},
          "execution_count": 6
        }
      ]
    },
    {
      "cell_type": "code",
      "metadata": {
        "id": "WMGYJGBhEfcQ"
      },
      "source": [
        "data[\"mean\"] = 0."
      ],
      "execution_count": 7,
      "outputs": []
    },
    {
      "cell_type": "code",
      "metadata": {
        "colab": {
          "base_uri": "https://localhost:8080/",
          "height": 238
        },
        "id": "VG584yfuEqi-",
        "outputId": "6d5cac5c-599e-4578-efc9-29f84e5b056a"
      },
      "source": [
        "data.head()"
      ],
      "execution_count": 8,
      "outputs": [
        {
          "output_type": "execute_result",
          "data": {
            "text/plain": [
              "                 Open       High        Low      Close  Adj Close     Volume  \\\n",
              "Date                                                                           \n",
              "2020-01-02  74.059998  75.150002  73.797501  75.087502  73.785927  135480400   \n",
              "2020-01-03  74.287498  75.144997  74.125000  74.357498  73.068573  146322800   \n",
              "2020-01-06  73.447502  74.989998  73.187500  74.949997  73.650803  118387200   \n",
              "2020-01-07  74.959999  75.224998  74.370003  74.597504  73.304413  108872000   \n",
              "2020-01-08  74.290001  76.110001  74.290001  75.797501  74.483604  132079200   \n",
              "\n",
              "            mean  \n",
              "Date              \n",
              "2020-01-02   0.0  \n",
              "2020-01-03   0.0  \n",
              "2020-01-06   0.0  \n",
              "2020-01-07   0.0  \n",
              "2020-01-08   0.0  "
            ],
            "text/html": [
              "\n",
              "  <div id=\"df-284551f9-deba-4562-ac56-fc1f1003b16d\">\n",
              "    <div class=\"colab-df-container\">\n",
              "      <div>\n",
              "<style scoped>\n",
              "    .dataframe tbody tr th:only-of-type {\n",
              "        vertical-align: middle;\n",
              "    }\n",
              "\n",
              "    .dataframe tbody tr th {\n",
              "        vertical-align: top;\n",
              "    }\n",
              "\n",
              "    .dataframe thead th {\n",
              "        text-align: right;\n",
              "    }\n",
              "</style>\n",
              "<table border=\"1\" class=\"dataframe\">\n",
              "  <thead>\n",
              "    <tr style=\"text-align: right;\">\n",
              "      <th></th>\n",
              "      <th>Open</th>\n",
              "      <th>High</th>\n",
              "      <th>Low</th>\n",
              "      <th>Close</th>\n",
              "      <th>Adj Close</th>\n",
              "      <th>Volume</th>\n",
              "      <th>mean</th>\n",
              "    </tr>\n",
              "    <tr>\n",
              "      <th>Date</th>\n",
              "      <th></th>\n",
              "      <th></th>\n",
              "      <th></th>\n",
              "      <th></th>\n",
              "      <th></th>\n",
              "      <th></th>\n",
              "      <th></th>\n",
              "    </tr>\n",
              "  </thead>\n",
              "  <tbody>\n",
              "    <tr>\n",
              "      <th>2020-01-02</th>\n",
              "      <td>74.059998</td>\n",
              "      <td>75.150002</td>\n",
              "      <td>73.797501</td>\n",
              "      <td>75.087502</td>\n",
              "      <td>73.785927</td>\n",
              "      <td>135480400</td>\n",
              "      <td>0.0</td>\n",
              "    </tr>\n",
              "    <tr>\n",
              "      <th>2020-01-03</th>\n",
              "      <td>74.287498</td>\n",
              "      <td>75.144997</td>\n",
              "      <td>74.125000</td>\n",
              "      <td>74.357498</td>\n",
              "      <td>73.068573</td>\n",
              "      <td>146322800</td>\n",
              "      <td>0.0</td>\n",
              "    </tr>\n",
              "    <tr>\n",
              "      <th>2020-01-06</th>\n",
              "      <td>73.447502</td>\n",
              "      <td>74.989998</td>\n",
              "      <td>73.187500</td>\n",
              "      <td>74.949997</td>\n",
              "      <td>73.650803</td>\n",
              "      <td>118387200</td>\n",
              "      <td>0.0</td>\n",
              "    </tr>\n",
              "    <tr>\n",
              "      <th>2020-01-07</th>\n",
              "      <td>74.959999</td>\n",
              "      <td>75.224998</td>\n",
              "      <td>74.370003</td>\n",
              "      <td>74.597504</td>\n",
              "      <td>73.304413</td>\n",
              "      <td>108872000</td>\n",
              "      <td>0.0</td>\n",
              "    </tr>\n",
              "    <tr>\n",
              "      <th>2020-01-08</th>\n",
              "      <td>74.290001</td>\n",
              "      <td>76.110001</td>\n",
              "      <td>74.290001</td>\n",
              "      <td>75.797501</td>\n",
              "      <td>74.483604</td>\n",
              "      <td>132079200</td>\n",
              "      <td>0.0</td>\n",
              "    </tr>\n",
              "  </tbody>\n",
              "</table>\n",
              "</div>\n",
              "      <button class=\"colab-df-convert\" onclick=\"convertToInteractive('df-284551f9-deba-4562-ac56-fc1f1003b16d')\"\n",
              "              title=\"Convert this dataframe to an interactive table.\"\n",
              "              style=\"display:none;\">\n",
              "        \n",
              "  <svg xmlns=\"http://www.w3.org/2000/svg\" height=\"24px\"viewBox=\"0 0 24 24\"\n",
              "       width=\"24px\">\n",
              "    <path d=\"M0 0h24v24H0V0z\" fill=\"none\"/>\n",
              "    <path d=\"M18.56 5.44l.94 2.06.94-2.06 2.06-.94-2.06-.94-.94-2.06-.94 2.06-2.06.94zm-11 1L8.5 8.5l.94-2.06 2.06-.94-2.06-.94L8.5 2.5l-.94 2.06-2.06.94zm10 10l.94 2.06.94-2.06 2.06-.94-2.06-.94-.94-2.06-.94 2.06-2.06.94z\"/><path d=\"M17.41 7.96l-1.37-1.37c-.4-.4-.92-.59-1.43-.59-.52 0-1.04.2-1.43.59L10.3 9.45l-7.72 7.72c-.78.78-.78 2.05 0 2.83L4 21.41c.39.39.9.59 1.41.59.51 0 1.02-.2 1.41-.59l7.78-7.78 2.81-2.81c.8-.78.8-2.07 0-2.86zM5.41 20L4 18.59l7.72-7.72 1.47 1.35L5.41 20z\"/>\n",
              "  </svg>\n",
              "      </button>\n",
              "      \n",
              "  <style>\n",
              "    .colab-df-container {\n",
              "      display:flex;\n",
              "      flex-wrap:wrap;\n",
              "      gap: 12px;\n",
              "    }\n",
              "\n",
              "    .colab-df-convert {\n",
              "      background-color: #E8F0FE;\n",
              "      border: none;\n",
              "      border-radius: 50%;\n",
              "      cursor: pointer;\n",
              "      display: none;\n",
              "      fill: #1967D2;\n",
              "      height: 32px;\n",
              "      padding: 0 0 0 0;\n",
              "      width: 32px;\n",
              "    }\n",
              "\n",
              "    .colab-df-convert:hover {\n",
              "      background-color: #E2EBFA;\n",
              "      box-shadow: 0px 1px 2px rgba(60, 64, 67, 0.3), 0px 1px 3px 1px rgba(60, 64, 67, 0.15);\n",
              "      fill: #174EA6;\n",
              "    }\n",
              "\n",
              "    [theme=dark] .colab-df-convert {\n",
              "      background-color: #3B4455;\n",
              "      fill: #D2E3FC;\n",
              "    }\n",
              "\n",
              "    [theme=dark] .colab-df-convert:hover {\n",
              "      background-color: #434B5C;\n",
              "      box-shadow: 0px 1px 3px 1px rgba(0, 0, 0, 0.15);\n",
              "      filter: drop-shadow(0px 1px 2px rgba(0, 0, 0, 0.3));\n",
              "      fill: #FFFFFF;\n",
              "    }\n",
              "  </style>\n",
              "\n",
              "      <script>\n",
              "        const buttonEl =\n",
              "          document.querySelector('#df-284551f9-deba-4562-ac56-fc1f1003b16d button.colab-df-convert');\n",
              "        buttonEl.style.display =\n",
              "          google.colab.kernel.accessAllowed ? 'block' : 'none';\n",
              "\n",
              "        async function convertToInteractive(key) {\n",
              "          const element = document.querySelector('#df-284551f9-deba-4562-ac56-fc1f1003b16d');\n",
              "          const dataTable =\n",
              "            await google.colab.kernel.invokeFunction('convertToInteractive',\n",
              "                                                     [key], {});\n",
              "          if (!dataTable) return;\n",
              "\n",
              "          const docLinkHtml = 'Like what you see? Visit the ' +\n",
              "            '<a target=\"_blank\" href=https://colab.research.google.com/notebooks/data_table.ipynb>data table notebook</a>'\n",
              "            + ' to learn more about interactive tables.';\n",
              "          element.innerHTML = '';\n",
              "          dataTable['output_type'] = 'display_data';\n",
              "          await google.colab.output.renderOutput(dataTable, element);\n",
              "          const docLink = document.createElement('div');\n",
              "          docLink.innerHTML = docLinkHtml;\n",
              "          element.appendChild(docLink);\n",
              "        }\n",
              "      </script>\n",
              "    </div>\n",
              "  </div>\n",
              "  "
            ]
          },
          "metadata": {},
          "execution_count": 8
        }
      ]
    },
    {
      "cell_type": "code",
      "metadata": {
        "id": "_qiFjcX1jnH_",
        "colab": {
          "base_uri": "https://localhost:8080/"
        },
        "outputId": "4eed2433-866d-4e1a-acef-597ae6136bab"
      },
      "source": [
        "ma_data = data.values\n",
        "ma_data"
      ],
      "execution_count": 10,
      "outputs": [
        {
          "output_type": "execute_result",
          "data": {
            "text/plain": [
              "array([[7.40599976e+01, 7.51500015e+01, 7.37975006e+01, ...,\n",
              "        7.37859268e+01, 1.35480400e+08, 0.00000000e+00],\n",
              "       [7.42874985e+01, 7.51449966e+01, 7.41250000e+01, ...,\n",
              "        7.30685730e+01, 1.46322800e+08, 0.00000000e+00],\n",
              "       [7.34475021e+01, 7.49899979e+01, 7.31875000e+01, ...,\n",
              "        7.36508026e+01, 1.18387200e+08, 0.00000000e+00],\n",
              "       ...,\n",
              "       [1.33419998e+02, 1.37059998e+02, 1.33320007e+02, ...,\n",
              "        1.35869995e+02, 8.10005000e+07, 0.00000000e+00],\n",
              "       [1.34789993e+02, 1.37759995e+02, 1.33910004e+02, ...,\n",
              "        1.35350006e+02, 7.34092000e+07, 0.00000000e+00],\n",
              "       [1.36820007e+02, 1.38589996e+02, 1.35630005e+02, ...,\n",
              "        1.38270004e+02, 7.23303000e+07, 0.00000000e+00]])"
            ]
          },
          "metadata": {},
          "execution_count": 10
        }
      ]
    },
    {
      "cell_type": "code",
      "metadata": {
        "id": "ATD7-se7Asg6"
      },
      "source": [
        "OPEN = 0\n",
        "HIGH = 1\n",
        "LOW = 2\n",
        "CLOSE = 3\n",
        "ADJ_CLOSE = 4\n",
        "VOLUM = 5\n",
        "MEAN = 6"
      ],
      "execution_count": 12,
      "outputs": []
    },
    {
      "cell_type": "code",
      "metadata": {
        "colab": {
          "base_uri": "https://localhost:8080/"
        },
        "id": "egkUHeh7CgMC",
        "outputId": "1da23e1d-0471-4ff1-a6e8-c3bf99cda965"
      },
      "source": [
        "data.shape, ma_data.shape"
      ],
      "execution_count": 13,
      "outputs": [
        {
          "output_type": "execute_result",
          "data": {
            "text/plain": [
              "((624, 7), (624, 7))"
            ]
          },
          "metadata": {},
          "execution_count": 13
        }
      ]
    },
    {
      "cell_type": "code",
      "metadata": {
        "id": "z7tvvp25EeHK"
      },
      "source": [
        ""
      ],
      "execution_count": null,
      "outputs": []
    },
    {
      "cell_type": "code",
      "metadata": {
        "colab": {
          "base_uri": "https://localhost:8080/"
        },
        "id": "R96vRwXdEA16",
        "outputId": "3615dc4a-8bbe-4f4c-bbb1-2bb708fa9732"
      },
      "source": [
        "ma_data"
      ],
      "execution_count": 14,
      "outputs": [
        {
          "output_type": "execute_result",
          "data": {
            "text/plain": [
              "array([[7.40599976e+01, 7.51500015e+01, 7.37975006e+01, ...,\n",
              "        7.37859268e+01, 1.35480400e+08, 0.00000000e+00],\n",
              "       [7.42874985e+01, 7.51449966e+01, 7.41250000e+01, ...,\n",
              "        7.30685730e+01, 1.46322800e+08, 0.00000000e+00],\n",
              "       [7.34475021e+01, 7.49899979e+01, 7.31875000e+01, ...,\n",
              "        7.36508026e+01, 1.18387200e+08, 0.00000000e+00],\n",
              "       ...,\n",
              "       [1.33419998e+02, 1.37059998e+02, 1.33320007e+02, ...,\n",
              "        1.35869995e+02, 8.10005000e+07, 0.00000000e+00],\n",
              "       [1.34789993e+02, 1.37759995e+02, 1.33910004e+02, ...,\n",
              "        1.35350006e+02, 7.34092000e+07, 0.00000000e+00],\n",
              "       [1.36820007e+02, 1.38589996e+02, 1.35630005e+02, ...,\n",
              "        1.38270004e+02, 7.23303000e+07, 0.00000000e+00]])"
            ]
          },
          "metadata": {},
          "execution_count": 14
        }
      ]
    },
    {
      "cell_type": "code",
      "metadata": {
        "id": "B-lp34L9E0wI"
      },
      "source": [
        "with warnings.catch_warnings():\n",
        "    warnings.simplefilter(\"ignore\", category=RuntimeWarning)\n",
        "    ma_result = ma(ma_data, 5, CLOSE, MEAN)"
      ],
      "execution_count": 15,
      "outputs": []
    },
    {
      "cell_type": "code",
      "source": [
        "ma_result"
      ],
      "metadata": {
        "colab": {
          "base_uri": "https://localhost:8080/"
        },
        "id": "ptKNjO6Gejzk",
        "outputId": "c06beb33-52af-434f-e46f-68731627111e"
      },
      "execution_count": 16,
      "outputs": [
        {
          "output_type": "execute_result",
          "data": {
            "text/plain": [
              "array([[7.40599976e+01, 7.51500015e+01, 7.37975006e+01, ...,\n",
              "        7.37859268e+01, 1.35480400e+08,            nan],\n",
              "       [7.42874985e+01, 7.51449966e+01, 7.41250000e+01, ...,\n",
              "        7.30685730e+01, 1.46322800e+08,            nan],\n",
              "       [7.34475021e+01, 7.49899979e+01, 7.31875000e+01, ...,\n",
              "        7.36508026e+01, 1.18387200e+08,            nan],\n",
              "       ...,\n",
              "       [1.33419998e+02, 1.37059998e+02, 1.33320007e+02, ...,\n",
              "        1.35869995e+02, 8.10005000e+07, 1.33135995e+02],\n",
              "       [1.34789993e+02, 1.37759995e+02, 1.33910004e+02, ...,\n",
              "        1.35350006e+02, 7.34092000e+07, 1.33653998e+02],\n",
              "       [1.36820007e+02, 1.38589996e+02, 1.35630005e+02, ...,\n",
              "        1.38270004e+02, 7.23303000e+07, 1.34222000e+02]])"
            ]
          },
          "metadata": {},
          "execution_count": 16
        }
      ]
    },
    {
      "cell_type": "code",
      "metadata": {
        "colab": {
          "base_uri": "https://localhost:8080/"
        },
        "id": "WDQBWogCE5xx",
        "outputId": "907d0364-e6d8-42aa-c958-909b569bf377"
      },
      "source": [
        "# 0 ~ 4까지의 이동평균\n",
        "ma_result[4, MEAN]"
      ],
      "execution_count": 18,
      "outputs": [
        {
          "output_type": "execute_result",
          "data": {
            "text/plain": [
              "74.95800018310547"
            ]
          },
          "metadata": {},
          "execution_count": 18
        }
      ]
    },
    {
      "cell_type": "code",
      "source": [
        "ma_result.shape"
      ],
      "metadata": {
        "colab": {
          "base_uri": "https://localhost:8080/"
        },
        "id": "Bh6OqJ5zfHrt",
        "outputId": "2910b6dd-d034-47c6-8368-c8c81a4b41dc"
      },
      "execution_count": 19,
      "outputs": [
        {
          "output_type": "execute_result",
          "data": {
            "text/plain": [
              "(624, 7)"
            ]
          },
          "metadata": {},
          "execution_count": 19
        }
      ]
    },
    {
      "cell_type": "code",
      "metadata": {
        "colab": {
          "base_uri": "https://localhost:8080/"
        },
        "id": "B1G_6PIplj_P",
        "outputId": "bb6c7a0c-8c17-45cd-d26c-19c21388cdbf"
      },
      "source": [
        "# 0 ~ 4까지의 이동평균 검증\n",
        "import numpy as np\n",
        "np.mean(ma_data[0:5, CLOSE])"
      ],
      "execution_count": null,
      "outputs": [
        {
          "output_type": "execute_result",
          "data": {
            "text/plain": [
              "74.95800018310547"
            ]
          },
          "metadata": {
            "tags": []
          },
          "execution_count": 81
        }
      ]
    },
    {
      "cell_type": "markdown",
      "metadata": {
        "id": "lkNLkSMHwC7b"
      },
      "source": [
        "### 가중 이동평균"
      ]
    },
    {
      "cell_type": "code",
      "metadata": {
        "id": "D44yR1LHl3Ru"
      },
      "source": [
        "# 가중 이동평균 함수\n",
        "# 지수 이동평균 함수\n",
        "def ema(Data, alpha, lookback, what, where):\n",
        "\t# alpha is the smoothing factor\n",
        "\t# window is the lookback period\n",
        "\t# what is the column that needs to have its average calculated\n",
        "\t# where is where to put the exponential moving average\n",
        "\n",
        "\talpha = alpha / (lookback + 1.0)\n",
        "\tbeta  = 1 - alpha\n",
        "\n",
        "\t# First value is a simple SMA\n",
        "\tData = ma(Data, lookback, what, where)\n",
        "\n",
        "\t# Calculating first EMA\n",
        "\tData[lookback + 1, where] = (Data[lookback + 1, what] * alpha) + (Data[lookback, where] * beta) # Calculating the rest of EMA\n",
        "\tfor i in range(lookback + 2, len(Data)):\n",
        "\t\t\ttry:\n",
        "\t\t\t\tData[i, where] = (Data[i, what] * alpha) + (Data[i - 1, where] * beta)\n",
        "\t\t\n",
        "\t\t\texcept IndexError:\n",
        "\t\t\t\tpass\n",
        "\treturn Data"
      ],
      "execution_count": null,
      "outputs": []
    },
    {
      "cell_type": "code",
      "metadata": {
        "id": "xOmXDwQPwHQT"
      },
      "source": [
        "ema_data = data.values"
      ],
      "execution_count": null,
      "outputs": []
    },
    {
      "cell_type": "code",
      "metadata": {
        "colab": {
          "base_uri": "https://localhost:8080/"
        },
        "id": "oJvPhXIKQ2tM",
        "outputId": "146f4eef-c750-4e14-a5a3-57aa61e6dd72"
      },
      "source": [
        "ema_data.shape"
      ],
      "execution_count": null,
      "outputs": [
        {
          "output_type": "execute_result",
          "data": {
            "text/plain": [
              "(279, 7)"
            ]
          },
          "metadata": {
            "tags": []
          },
          "execution_count": 84
        }
      ]
    },
    {
      "cell_type": "code",
      "metadata": {
        "id": "0hv--X63Q63c",
        "colab": {
          "base_uri": "https://localhost:8080/",
          "height": 211
        },
        "outputId": "7a3aa712-b760-481f-c81d-2f6665684fe0"
      },
      "source": [
        " # 파이썬 경고를 비활성화하는 방법\n",
        " with warnings.catch_warnings():\n",
        "    warnings.simplefilter(\"ignore\", category=RuntimeWarning)\n",
        "    ema_data_result = ema(ema_data, 2, 5, CLOSE, MEAN)"
      ],
      "execution_count": 20,
      "outputs": [
        {
          "output_type": "error",
          "ename": "NameError",
          "evalue": "ignored",
          "traceback": [
            "\u001b[0;31m---------------------------------------------------------------------------\u001b[0m",
            "\u001b[0;31mNameError\u001b[0m                                 Traceback (most recent call last)",
            "\u001b[0;32m<ipython-input-20-86881504e3d3>\u001b[0m in \u001b[0;36m<module>\u001b[0;34m()\u001b[0m\n\u001b[1;32m      2\u001b[0m \u001b[0;32mwith\u001b[0m \u001b[0mwarnings\u001b[0m\u001b[0;34m.\u001b[0m\u001b[0mcatch_warnings\u001b[0m\u001b[0;34m(\u001b[0m\u001b[0;34m)\u001b[0m\u001b[0;34m:\u001b[0m\u001b[0;34m\u001b[0m\u001b[0;34m\u001b[0m\u001b[0m\n\u001b[1;32m      3\u001b[0m    \u001b[0mwarnings\u001b[0m\u001b[0;34m.\u001b[0m\u001b[0msimplefilter\u001b[0m\u001b[0;34m(\u001b[0m\u001b[0;34m\"ignore\"\u001b[0m\u001b[0;34m,\u001b[0m \u001b[0mcategory\u001b[0m\u001b[0;34m=\u001b[0m\u001b[0mRuntimeWarning\u001b[0m\u001b[0;34m)\u001b[0m\u001b[0;34m\u001b[0m\u001b[0;34m\u001b[0m\u001b[0m\n\u001b[0;32m----> 4\u001b[0;31m    \u001b[0mema_data_result\u001b[0m \u001b[0;34m=\u001b[0m \u001b[0mema\u001b[0m\u001b[0;34m(\u001b[0m\u001b[0mema_data\u001b[0m\u001b[0;34m,\u001b[0m \u001b[0;36m2\u001b[0m\u001b[0;34m,\u001b[0m \u001b[0;36m5\u001b[0m\u001b[0;34m,\u001b[0m \u001b[0mCLOSE\u001b[0m\u001b[0;34m,\u001b[0m \u001b[0mMEAN\u001b[0m\u001b[0;34m)\u001b[0m\u001b[0;34m\u001b[0m\u001b[0;34m\u001b[0m\u001b[0m\n\u001b[0m",
            "\u001b[0;31mNameError\u001b[0m: name 'ema' is not defined"
          ]
        }
      ]
    },
    {
      "cell_type": "code",
      "metadata": {
        "colab": {
          "base_uri": "https://localhost:8080/"
        },
        "id": "sEsAbrrRRN6T",
        "outputId": "52130295-ae69-4ebc-c267-6c66a8ff9ffa"
      },
      "source": [
        "# 0 ~ 4까지의 이동평균\n",
        "ema_data_result[4, MEAN]"
      ],
      "execution_count": null,
      "outputs": [
        {
          "output_type": "execute_result",
          "data": {
            "text/plain": [
              "74.95800018310547"
            ]
          },
          "metadata": {
            "tags": []
          },
          "execution_count": 87
        }
      ]
    },
    {
      "cell_type": "code",
      "metadata": {
        "id": "GPQj-trWRUmU"
      },
      "source": [
        "ema_data_df = pd.DataFrame(ema_data_result)"
      ],
      "execution_count": null,
      "outputs": []
    },
    {
      "cell_type": "code",
      "metadata": {
        "colab": {
          "base_uri": "https://localhost:8080/",
          "height": 204
        },
        "id": "u1jtq-ykRnuU",
        "outputId": "209a49c5-aa68-4885-c8da-a9cacf49bd46"
      },
      "source": [
        "ema_data_df.head()"
      ],
      "execution_count": null,
      "outputs": [
        {
          "output_type": "execute_result",
          "data": {
            "text/html": [
              "<div>\n",
              "<style scoped>\n",
              "    .dataframe tbody tr th:only-of-type {\n",
              "        vertical-align: middle;\n",
              "    }\n",
              "\n",
              "    .dataframe tbody tr th {\n",
              "        vertical-align: top;\n",
              "    }\n",
              "\n",
              "    .dataframe thead th {\n",
              "        text-align: right;\n",
              "    }\n",
              "</style>\n",
              "<table border=\"1\" class=\"dataframe\">\n",
              "  <thead>\n",
              "    <tr style=\"text-align: right;\">\n",
              "      <th></th>\n",
              "      <th>0</th>\n",
              "      <th>1</th>\n",
              "      <th>2</th>\n",
              "      <th>3</th>\n",
              "      <th>4</th>\n",
              "      <th>5</th>\n",
              "      <th>6</th>\n",
              "    </tr>\n",
              "  </thead>\n",
              "  <tbody>\n",
              "    <tr>\n",
              "      <th>0</th>\n",
              "      <td>74.059998</td>\n",
              "      <td>75.150002</td>\n",
              "      <td>73.797501</td>\n",
              "      <td>75.087502</td>\n",
              "      <td>74.333511</td>\n",
              "      <td>135480400.0</td>\n",
              "      <td>NaN</td>\n",
              "    </tr>\n",
              "    <tr>\n",
              "      <th>1</th>\n",
              "      <td>74.287498</td>\n",
              "      <td>75.144997</td>\n",
              "      <td>74.125000</td>\n",
              "      <td>74.357498</td>\n",
              "      <td>73.610840</td>\n",
              "      <td>146322800.0</td>\n",
              "      <td>NaN</td>\n",
              "    </tr>\n",
              "    <tr>\n",
              "      <th>2</th>\n",
              "      <td>73.447502</td>\n",
              "      <td>74.989998</td>\n",
              "      <td>73.187500</td>\n",
              "      <td>74.949997</td>\n",
              "      <td>74.197395</td>\n",
              "      <td>118387200.0</td>\n",
              "      <td>NaN</td>\n",
              "    </tr>\n",
              "    <tr>\n",
              "      <th>3</th>\n",
              "      <td>74.959999</td>\n",
              "      <td>75.224998</td>\n",
              "      <td>74.370003</td>\n",
              "      <td>74.597504</td>\n",
              "      <td>73.848442</td>\n",
              "      <td>108872000.0</td>\n",
              "      <td>NaN</td>\n",
              "    </tr>\n",
              "    <tr>\n",
              "      <th>4</th>\n",
              "      <td>74.290001</td>\n",
              "      <td>76.110001</td>\n",
              "      <td>74.290001</td>\n",
              "      <td>75.797501</td>\n",
              "      <td>75.036385</td>\n",
              "      <td>132079200.0</td>\n",
              "      <td>74.958</td>\n",
              "    </tr>\n",
              "  </tbody>\n",
              "</table>\n",
              "</div>"
            ],
            "text/plain": [
              "           0          1          2          3          4            5       6\n",
              "0  74.059998  75.150002  73.797501  75.087502  74.333511  135480400.0     NaN\n",
              "1  74.287498  75.144997  74.125000  74.357498  73.610840  146322800.0     NaN\n",
              "2  73.447502  74.989998  73.187500  74.949997  74.197395  118387200.0     NaN\n",
              "3  74.959999  75.224998  74.370003  74.597504  73.848442  108872000.0     NaN\n",
              "4  74.290001  76.110001  74.290001  75.797501  75.036385  132079200.0  74.958"
            ]
          },
          "metadata": {
            "tags": []
          },
          "execution_count": 89
        }
      ]
    },
    {
      "cell_type": "code",
      "metadata": {
        "colab": {
          "base_uri": "https://localhost:8080/",
          "height": 337
        },
        "id": "bcrgKEMCRpHz",
        "outputId": "a6e94c47-46e2-48e4-9738-decf19254241"
      },
      "source": [
        "ema_data_df[6].plot(figsize=(18, 5))"
      ],
      "execution_count": null,
      "outputs": [
        {
          "output_type": "execute_result",
          "data": {
            "text/plain": [
              "<matplotlib.axes._subplots.AxesSubplot at 0x7fad0ec99b38>"
            ]
          },
          "metadata": {
            "tags": []
          },
          "execution_count": 90
        },
        {
          "output_type": "display_data",
          "data": {
            "image/png": "[encoded data removed]",
            "text/plain": [
              "<Figure size 1296x360 with 1 Axes>"
            ]
          },
          "metadata": {
            "tags": [],
            "needs_background": "light"
          }
        }
      ]
    },
    {
      "cell_type": "markdown",
      "metadata": {
        "id": "3B-CJhXLV6GR"
      },
      "source": [
        "### Q-Stick"
      ]
    },
    {
      "cell_type": "markdown",
      "metadata": {
        "id": "52ABMAl8Y8pW"
      },
      "source": [
        "#### Qstick Indicator\n",
        "https://corporatefinanceinstitute.com/resources/knowledge/trading-investing/qstick-indicator/"
      ]
    },
    {
      "cell_type": "code",
      "metadata": {
        "id": "hgQjNcuzRwr0"
      },
      "source": [
        "def q_stick(Data, ema_lookback, opening, close, where):\n",
        "\t# The variable Data refers to the OHLC array you are using\n",
        "\t# The variable ema_lookback refers to the selected lookback period\n",
        "\t# The variable opening refers to the open column in the OHLC array\n",
        "\t# The variable close refers to the close column in the OHLC array\n",
        "\t# The variable where refers to where the Q-Stick will be put\n",
        "\n",
        "\tfor i in range(len(Data)):\n",
        "\t\tData[i, where] = Data[i, close] - Data[i, opening]\n",
        "\n",
        "\tData = ema(Data, 2, ema_lookback, where, where + 1)\n",
        "\treturn Data"
      ],
      "execution_count": null,
      "outputs": []
    },
    {
      "cell_type": "code",
      "metadata": {
        "id": "guXxuySEgaKF"
      },
      "source": [
        "data[\"Q\"] = 0."
      ],
      "execution_count": null,
      "outputs": []
    },
    {
      "cell_type": "code",
      "metadata": {
        "colab": {
          "base_uri": "https://localhost:8080/"
        },
        "id": "05j3pKm5gf1N",
        "outputId": "2b5a0174-86a4-462f-f149-fa260fab90fc"
      },
      "source": [
        "data.shape"
      ],
      "execution_count": null,
      "outputs": [
        {
          "output_type": "execute_result",
          "data": {
            "text/plain": [
              "(279, 8)"
            ]
          },
          "metadata": {
            "tags": []
          },
          "execution_count": 103
        }
      ]
    },
    {
      "cell_type": "code",
      "metadata": {
        "id": "qrifrtdeWBTi"
      },
      "source": [
        "q_stick_data = data.values"
      ],
      "execution_count": null,
      "outputs": []
    },
    {
      "cell_type": "code",
      "metadata": {
        "colab": {
          "base_uri": "https://localhost:8080/"
        },
        "id": "kR8RhzL8WTwh",
        "outputId": "d163fc04-1bc6-4e1c-c5bc-163bb46b9c3f"
      },
      "source": [
        "q_stick_data.shape"
      ],
      "execution_count": null,
      "outputs": [
        {
          "output_type": "execute_result",
          "data": {
            "text/plain": [
              "(279, 8)"
            ]
          },
          "metadata": {
            "tags": []
          },
          "execution_count": 105
        }
      ]
    },
    {
      "cell_type": "code",
      "metadata": {
        "id": "ZUA9Ksp0WVRp"
      },
      "source": [
        " with warnings.catch_warnings():\n",
        "    warnings.simplefilter(\"ignore\", category=RuntimeWarning)\n",
        "    q_stick_result = q_stick(q_stick_data, 5, OPEN, CLOSE, MEAN)"
      ],
      "execution_count": null,
      "outputs": []
    },
    {
      "cell_type": "markdown",
      "metadata": {
        "id": "RzjyiPwXWikR"
      },
      "source": [
        "이동 평균 유형 : 이동 평균 유형에는 단순 이동 평균 (SMA), 지수 이동 평균 (EMA)  평활 이동 평균 (SMMA) 및 선형 가중 이동 평균 (LWMA)이 포함됩니다."
      ]
    },
    {
      "cell_type": "code",
      "metadata": {
        "colab": {
          "base_uri": "https://localhost:8080/"
        },
        "id": "vWS9DXh7a6pm",
        "outputId": "1a303d4a-7ffb-4c1d-c38b-3ffc06e8fe4f"
      },
      "source": [
        "q_stick_result"
      ],
      "execution_count": null,
      "outputs": [
        {
          "output_type": "execute_result",
          "data": {
            "text/plain": [
              "array([[ 7.40599976e+01,  7.51500015e+01,  7.37975006e+01, ...,\n",
              "         1.35480400e+08,  1.02750397e+00,             nan],\n",
              "       [ 7.42874985e+01,  7.51449966e+01,  7.41250000e+01, ...,\n",
              "         1.46322800e+08,  6.99996948e-02,             nan],\n",
              "       [ 7.34475021e+01,  7.49899979e+01,  7.31875000e+01, ...,\n",
              "         1.18387200e+08,  1.50249481e+00,             nan],\n",
              "       ...,\n",
              "       [ 1.37350006e+02,  1.37419998e+02,  1.35860001e+02, ...,\n",
              "         7.55240000e+07, -5.90011597e-01, -5.11661538e-01],\n",
              "       [ 1.36029999e+02,  1.36960007e+02,  1.34919998e+02, ...,\n",
              "         7.12972000e+07,  8.80004883e-01, -4.77727309e-02],\n",
              "       [ 1.36619995e+02,  1.37880005e+02,  1.35850006e+02, ...,\n",
              "         7.65328000e+07, -6.10000610e-01, -2.35182024e-01]])"
            ]
          },
          "metadata": {
            "tags": []
          },
          "execution_count": 107
        }
      ]
    },
    {
      "cell_type": "markdown",
      "metadata": {
        "id": "5bha_M-x6tHh"
      },
      "source": [
        "### Back-testing a Simple Strategy"
      ]
    },
    {
      "cell_type": "code",
      "metadata": {
        "id": "HbZSteLQ6zPK"
      },
      "source": [
        "def signal(Data, what, buy, sell):\n",
        "\tfor i in range(len(Data)):\n",
        "\t\tif Data[i, what] < lower_barrier and Data[i - 1, what] > lower_barrier and Data[i - 2, what] > lower_barrier :\n",
        "\t\t\tData[i, buy] = 1\n",
        "\t\t\t\n",
        "\t\tif Data[i, what] > upper_barrier and Data[i - 1, what] < upper_barrier and Data[i - 2, what] < upper_barrier :\n",
        "\t\t\tData[i, sell] = -1"
      ],
      "execution_count": null,
      "outputs": []
    },
    {
      "cell_type": "code",
      "metadata": {
        "id": "aJKcS-Oh7VuR"
      },
      "source": [
        "signal(Data, what, buy, sell)"
      ],
      "execution_count": null,
      "outputs": []
    }
  ]
}