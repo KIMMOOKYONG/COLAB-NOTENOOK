{
  "nbformat": 4,
  "nbformat_minor": 0,
  "metadata": {
    "colab": {
      "name": "스노우플레이크파이썬연동.ipynb",
      "provenance": [],
      "collapsed_sections": [],
      "authorship_tag": "ABX9TyORm/z7malfV1s8M8StayW0",
      "include_colab_link": true
    },
    "kernelspec": {
      "name": "python3",
      "display_name": "Python 3"
    },
    "language_info": {
      "name": "python"
    }
  },
  "cells": [
    {
      "cell_type": "markdown",
      "metadata": {
        "id": "view-in-github",
        "colab_type": "text"
      },
      "source": [
        "<a href=\"https://colab.research.google.com/github/KIMMOOKYONG/COLAB-NOTENOOK/blob/main/%EC%8A%A4%EB%85%B8%EC%9A%B0%ED%94%8C%EB%A0%88%EC%9D%B4%ED%81%AC%ED%8C%8C%EC%9D%B4%EC%8D%AC%EC%97%B0%EB%8F%99.ipynb\" target=\"_parent\"><img src=\"https://colab.research.google.com/assets/colab-badge.svg\" alt=\"Open In Colab\"/></a>"
      ]
    },
    {
      "cell_type": "code",
      "execution_count": 1,
      "metadata": {
        "colab": {
          "base_uri": "https://localhost:8080/"
        },
        "id": "I7sf0nyWaVuz",
        "outputId": "3432cd4b-5b8c-458d-a2bf-7d93084b6fd5"
      },
      "outputs": [
        {
          "output_type": "stream",
          "name": "stdout",
          "text": [
            "Python 3.7.13\n"
          ]
        }
      ],
      "source": [
        "!python --version"
      ]
    },
    {
      "cell_type": "code",
      "source": [
        "!sudo apt-get install -y libssl-dev libffi-dev"
      ],
      "metadata": {
        "id": "czurbqZBa6Sh"
      },
      "execution_count": null,
      "outputs": []
    },
    {
      "cell_type": "markdown",
      "source": [
        "# Step 1: Install the Connector"
      ],
      "metadata": {
        "id": "JSikRjSPblLk"
      }
    },
    {
      "cell_type": "code",
      "source": [
        "!pip install snowflake-connector-python==2.7.6"
      ],
      "metadata": {
        "colab": {
          "base_uri": "https://localhost:8080/"
        },
        "id": "NTFbnufLa7Bh",
        "outputId": "5cf9435a-84c5-4d49-8f0b-2b785f6fa4b9"
      },
      "execution_count": 4,
      "outputs": [
        {
          "output_type": "stream",
          "name": "stdout",
          "text": [
            "Looking in indexes: https://pypi.org/simple, https://us-python.pkg.dev/colab-wheels/public/simple/\n",
            "Collecting snowflake-connector-python==2.7.6\n",
            "  Downloading snowflake_connector_python-2.7.6-cp37-cp37m-manylinux_2_12_x86_64.manylinux2010_x86_64.manylinux_2_17_x86_64.manylinux2014_x86_64.whl (16.5 MB)\n",
            "\u001b[K     |████████████████████████████████| 16.5 MB 149 kB/s \n",
            "\u001b[?25hCollecting cryptography<37.0.0,>=3.1.0\n",
            "  Downloading cryptography-36.0.2-cp36-abi3-manylinux_2_24_x86_64.whl (3.6 MB)\n",
            "\u001b[K     |████████████████████████████████| 3.6 MB 38.3 MB/s \n",
            "\u001b[?25hRequirement already satisfied: charset-normalizer~=2.0.0 in /usr/local/lib/python3.7/dist-packages (from snowflake-connector-python==2.7.6) (2.0.12)\n",
            "Requirement already satisfied: idna<4,>=2.5 in /usr/local/lib/python3.7/dist-packages (from snowflake-connector-python==2.7.6) (2.10)\n",
            "Collecting pyOpenSSL<22.0.0,>=16.2.0\n",
            "  Downloading pyOpenSSL-21.0.0-py2.py3-none-any.whl (55 kB)\n",
            "\u001b[K     |████████████████████████████████| 55 kB 3.2 MB/s \n",
            "\u001b[?25hCollecting pycryptodomex!=3.5.0,<4.0.0,>=3.2\n",
            "  Downloading pycryptodomex-3.15.0-cp35-abi3-manylinux2010_x86_64.whl (2.3 MB)\n",
            "\u001b[K     |████████████████████████████████| 2.3 MB 40.2 MB/s \n",
            "\u001b[?25hRequirement already satisfied: requests<3.0.0 in /usr/local/lib/python3.7/dist-packages (from snowflake-connector-python==2.7.6) (2.23.0)\n",
            "Collecting pyjwt<3.0.0\n",
            "  Downloading PyJWT-2.4.0-py3-none-any.whl (18 kB)\n",
            "Requirement already satisfied: cffi<2.0.0,>=1.9 in /usr/local/lib/python3.7/dist-packages (from snowflake-connector-python==2.7.6) (1.15.0)\n",
            "Requirement already satisfied: pytz in /usr/local/lib/python3.7/dist-packages (from snowflake-connector-python==2.7.6) (2022.1)\n",
            "Requirement already satisfied: certifi>=2017.4.17 in /usr/local/lib/python3.7/dist-packages (from snowflake-connector-python==2.7.6) (2022.6.15)\n",
            "Requirement already satisfied: setuptools>34.0.0 in /usr/local/lib/python3.7/dist-packages (from snowflake-connector-python==2.7.6) (57.4.0)\n",
            "Collecting oscrypto<2.0.0\n",
            "  Downloading oscrypto-1.3.0-py2.py3-none-any.whl (194 kB)\n",
            "\u001b[K     |████████████████████████████████| 194 kB 65.0 MB/s \n",
            "\u001b[?25hCollecting asn1crypto<2.0.0,>0.24.0\n",
            "  Downloading asn1crypto-1.5.1-py2.py3-none-any.whl (105 kB)\n",
            "\u001b[K     |████████████████████████████████| 105 kB 44.6 MB/s \n",
            "\u001b[?25hRequirement already satisfied: pycparser in /usr/local/lib/python3.7/dist-packages (from cffi<2.0.0,>=1.9->snowflake-connector-python==2.7.6) (2.21)\n",
            "Requirement already satisfied: six>=1.5.2 in /usr/local/lib/python3.7/dist-packages (from pyOpenSSL<22.0.0,>=16.2.0->snowflake-connector-python==2.7.6) (1.15.0)\n",
            "Requirement already satisfied: chardet<4,>=3.0.2 in /usr/local/lib/python3.7/dist-packages (from requests<3.0.0->snowflake-connector-python==2.7.6) (3.0.4)\n",
            "Requirement already satisfied: urllib3!=1.25.0,!=1.25.1,<1.26,>=1.21.1 in /usr/local/lib/python3.7/dist-packages (from requests<3.0.0->snowflake-connector-python==2.7.6) (1.24.3)\n",
            "Installing collected packages: cryptography, asn1crypto, pyOpenSSL, pyjwt, pycryptodomex, oscrypto, snowflake-connector-python\n",
            "Successfully installed asn1crypto-1.5.1 cryptography-36.0.2 oscrypto-1.3.0 pyOpenSSL-21.0.0 pycryptodomex-3.15.0 pyjwt-2.4.0 snowflake-connector-python-2.7.6\n"
          ]
        }
      ]
    },
    {
      "cell_type": "markdown",
      "source": [
        "# Step 2: Verify Your Installation"
      ],
      "metadata": {
        "id": "HpJKIDa7bPnp"
      }
    },
    {
      "cell_type": "code",
      "source": [
        "import snowflake.connector\n",
        "\n",
        "ctx = snowflake.connector.connect(\n",
        "    user=\"****\",\n",
        "    password=\"****\",\n",
        "    account=\"****\",\n",
        "    warehouse=\"compute_wh\",\n",
        "    database=\"EMPLOYEES\",\n",
        "    schema=\"public\"\n",
        ")\n",
        "\n",
        "cs = ctx.cursor()\n",
        "try:\n",
        "    cs.execute(\"SELECT current_version()\")\n",
        "    one_row = cs.fetchone()\n",
        "    print(one_row[0])\n",
        "finally:\n",
        "    cs.close()\n",
        "\n",
        "# ctx.close()"
      ],
      "metadata": {
        "colab": {
          "base_uri": "https://localhost:8080/"
        },
        "id": "aZyPbtWnbpEq",
        "outputId": "27bf2b0c-075c-45d5-c784-f688bd342b8c"
      },
      "execution_count": 9,
      "outputs": [
        {
          "output_type": "stream",
          "name": "stdout",
          "text": [
            "6.21.0\n"
          ]
        }
      ]
    },
    {
      "cell_type": "markdown",
      "source": [
        "# Step 3: Specify a Temporary Directory"
      ],
      "metadata": {
        "id": "jOQwYaKAc4hy"
      }
    },
    {
      "cell_type": "code",
      "source": [
        "!mkdir /content/tmp"
      ],
      "metadata": {
        "id": "B5hQFDUFc1mJ"
      },
      "execution_count": null,
      "outputs": []
    },
    {
      "cell_type": "code",
      "source": [
        "!export TMPDIR=/content/tmp"
      ],
      "metadata": {
        "id": "T0JWiOchcMBR"
      },
      "execution_count": 8,
      "outputs": []
    },
    {
      "cell_type": "markdown",
      "source": [
        "# Step 4: DB 연동 테스트"
      ],
      "metadata": {
        "id": "mldhu0gJcqCo"
      }
    },
    {
      "cell_type": "code",
      "source": [
        "import snowflake.connector\n",
        "\n",
        "conn = snowflake.connector.connect(\n",
        "    user=\"dharma6872\",\n",
        "    password=\"0084Khmk!))\",\n",
        "    account=\"fp41225.ap-northeast-2.aws\",\n",
        "    warehouse=\"compute_wh\",\n",
        "    database=\"EMPLOYEES\",\n",
        "    schema=\"public\"\n",
        ")\n",
        "\n",
        "cur = conn.cursor().execute(\"select * from departments\")\n",
        "try:\n",
        "    for (dept_no, dept_name) in cur:\n",
        "        print(\"{0}, {1}\".format(dept_no, dept_name))\n",
        "finally:\n",
        "    cur.close()"
      ],
      "metadata": {
        "colab": {
          "base_uri": "https://localhost:8080/"
        },
        "id": "l_ihj8RBdxRw",
        "outputId": "3f60eba2-be8d-430c-8fc1-33ca3d553fef"
      },
      "execution_count": 10,
      "outputs": [
        {
          "output_type": "stream",
          "name": "stdout",
          "text": [
            "d001, Marketing\n",
            "d002, Finance\n",
            "d003, Human Resources\n",
            "d004, Production\n",
            "d005, Development\n",
            "d006, Quality Management\n",
            "d007, Sales\n",
            "d008, Research\n",
            "d009, Customer Service\n"
          ]
        }
      ]
    },
    {
      "cell_type": "code",
      "source": [
        "import snowflake.connector\n",
        "\n",
        "conn = snowflake.connector.connect(\n",
        "    user=\"dharma6872\",\n",
        "    password=\"0084Khmk!))\",\n",
        "    account=\"fp41225.ap-northeast-2.aws\",\n",
        "    warehouse=\"compute_wh\",\n",
        "    database=\"EMPLOYEES\",\n",
        "    schema=\"public\"\n",
        ")"
      ],
      "metadata": {
        "id": "DRKbTGu2frA6"
      },
      "execution_count": 14,
      "outputs": []
    },
    {
      "cell_type": "code",
      "source": [
        "cur = conn.cursor().execute(\"select * from dept_manager\")\n",
        "try:\n",
        "    for (emp_no, dept_no, from_date, to_date) in cur:\n",
        "        print(\"{0}, {1}, {2}, {3}\".format(emp_no, dept_no, from_date, to_date))\n",
        "finally:\n",
        "    cur.close()"
      ],
      "metadata": {
        "colab": {
          "base_uri": "https://localhost:8080/"
        },
        "id": "ZA6PGo3UfBBY",
        "outputId": "1dd4b25d-e36d-4b72-b5d6-6c69cf60192c"
      },
      "execution_count": 16,
      "outputs": [
        {
          "output_type": "stream",
          "name": "stdout",
          "text": [
            "110022, d001, 1985-01-01, 1991-10-01\n",
            "110039, d001, 1991-10-01, 9999-01-01\n",
            "110085, d002, 1985-01-01, 1989-12-17\n",
            "110114, d002, 1989-12-17, 9999-01-01\n",
            "110183, d003, 1985-01-01, 1992-03-21\n",
            "110228, d003, 1992-03-21, 9999-01-01\n",
            "110303, d004, 1985-01-01, 1988-09-09\n",
            "110344, d004, 1988-09-09, 1992-08-02\n",
            "110386, d004, 1992-08-02, 1996-08-30\n",
            "110420, d004, 1996-08-30, 9999-01-01\n",
            "110511, d005, 1985-01-01, 1992-04-25\n",
            "110567, d005, 1992-04-25, 9999-01-01\n",
            "110725, d006, 1985-01-01, 1989-05-06\n",
            "110765, d006, 1989-05-06, 1991-09-12\n",
            "110800, d006, 1991-09-12, 1994-06-28\n",
            "110854, d006, 1994-06-28, 9999-01-01\n",
            "111035, d007, 1985-01-01, 1991-03-07\n",
            "111133, d007, 1991-03-07, 9999-01-01\n",
            "111400, d008, 1985-01-01, 1991-04-08\n",
            "111534, d008, 1991-04-08, 9999-01-01\n",
            "111692, d009, 1985-01-01, 1988-10-17\n",
            "111784, d009, 1988-10-17, 1992-09-08\n",
            "111877, d009, 1992-09-08, 1996-01-03\n",
            "111939, d009, 1996-01-03, 9999-01-01\n"
          ]
        }
      ]
    },
    {
      "cell_type": "code",
      "source": [
        "import pandas as pd\n",
        "\n",
        "sql = \"show tables;\"\n",
        "df = pd.read_sql(sql, conn)\n",
        "df"
      ],
      "metadata": {
        "colab": {
          "base_uri": "https://localhost:8080/",
          "height": 406
        },
        "id": "cGtuIYFJhkQV",
        "outputId": "4e59c2aa-234a-48ba-9642-ef64156cad49"
      },
      "execution_count": 19,
      "outputs": [
        {
          "output_type": "execute_result",
          "data": {
            "text/plain": [
              "                        created_on          name database_name schema_name  \\\n",
              "0 2022-06-07 09:12:40.195000+00:00   DEPARTMENTS     EMPLOYEES      PUBLIC   \n",
              "1 2022-06-06 03:06:16.195000+00:00      DEPT_EMP     EMPLOYEES      PUBLIC   \n",
              "2 2022-06-06 03:05:42.434000+00:00  DEPT_MANAGER     EMPLOYEES      PUBLIC   \n",
              "3 2022-06-06 03:01:04.289000+00:00     EMPLOYEES     EMPLOYEES      PUBLIC   \n",
              "4 2022-06-06 03:06:33.248000+00:00      SALARIES     EMPLOYEES      PUBLIC   \n",
              "5 2022-06-06 03:06:25.519000+00:00        TITLES     EMPLOYEES      PUBLIC   \n",
              "\n",
              "    kind comment cluster_by     rows     bytes     owner retention_time  \\\n",
              "0  TABLE                           9      1536  SYSADMIN              1   \n",
              "1  TABLE                      331603   2445312  SYSADMIN              1   \n",
              "2  TABLE                          24      2048  SYSADMIN              1   \n",
              "3  TABLE                      300024   4431872  SYSADMIN              1   \n",
              "4  TABLE                     2844047  21235712  SYSADMIN              1   \n",
              "5  TABLE                      443308   3655680  SYSADMIN              1   \n",
              "\n",
              "  automatic_clustering change_tracking search_optimization  \\\n",
              "0                  OFF             OFF                 OFF   \n",
              "1                  OFF             OFF                 OFF   \n",
              "2                  OFF             OFF                 OFF   \n",
              "3                  OFF             OFF                 OFF   \n",
              "4                  OFF             OFF                 OFF   \n",
              "5                  OFF             OFF                 OFF   \n",
              "\n",
              "  search_optimization_progress search_optimization_bytes is_external  \n",
              "0                         None                      None           N  \n",
              "1                         None                      None           N  \n",
              "2                         None                      None           N  \n",
              "3                         None                      None           N  \n",
              "4                         None                      None           N  \n",
              "5                         None                      None           N  "
            ],
            "text/html": [
              "\n",
              "  <div id=\"df-fe2810f9-984e-449b-a61c-61678418ab71\">\n",
              "    <div class=\"colab-df-container\">\n",
              "      <div>\n",
              "<style scoped>\n",
              "    .dataframe tbody tr th:only-of-type {\n",
              "        vertical-align: middle;\n",
              "    }\n",
              "\n",
              "    .dataframe tbody tr th {\n",
              "        vertical-align: top;\n",
              "    }\n",
              "\n",
              "    .dataframe thead th {\n",
              "        text-align: right;\n",
              "    }\n",
              "</style>\n",
              "<table border=\"1\" class=\"dataframe\">\n",
              "  <thead>\n",
              "    <tr style=\"text-align: right;\">\n",
              "      <th></th>\n",
              "      <th>created_on</th>\n",
              "      <th>name</th>\n",
              "      <th>database_name</th>\n",
              "      <th>schema_name</th>\n",
              "      <th>kind</th>\n",
              "      <th>comment</th>\n",
              "      <th>cluster_by</th>\n",
              "      <th>rows</th>\n",
              "      <th>bytes</th>\n",
              "      <th>owner</th>\n",
              "      <th>retention_time</th>\n",
              "      <th>automatic_clustering</th>\n",
              "      <th>change_tracking</th>\n",
              "      <th>search_optimization</th>\n",
              "      <th>search_optimization_progress</th>\n",
              "      <th>search_optimization_bytes</th>\n",
              "      <th>is_external</th>\n",
              "    </tr>\n",
              "  </thead>\n",
              "  <tbody>\n",
              "    <tr>\n",
              "      <th>0</th>\n",
              "      <td>2022-06-07 09:12:40.195000+00:00</td>\n",
              "      <td>DEPARTMENTS</td>\n",
              "      <td>EMPLOYEES</td>\n",
              "      <td>PUBLIC</td>\n",
              "      <td>TABLE</td>\n",
              "      <td></td>\n",
              "      <td></td>\n",
              "      <td>9</td>\n",
              "      <td>1536</td>\n",
              "      <td>SYSADMIN</td>\n",
              "      <td>1</td>\n",
              "      <td>OFF</td>\n",
              "      <td>OFF</td>\n",
              "      <td>OFF</td>\n",
              "      <td>None</td>\n",
              "      <td>None</td>\n",
              "      <td>N</td>\n",
              "    </tr>\n",
              "    <tr>\n",
              "      <th>1</th>\n",
              "      <td>2022-06-06 03:06:16.195000+00:00</td>\n",
              "      <td>DEPT_EMP</td>\n",
              "      <td>EMPLOYEES</td>\n",
              "      <td>PUBLIC</td>\n",
              "      <td>TABLE</td>\n",
              "      <td></td>\n",
              "      <td></td>\n",
              "      <td>331603</td>\n",
              "      <td>2445312</td>\n",
              "      <td>SYSADMIN</td>\n",
              "      <td>1</td>\n",
              "      <td>OFF</td>\n",
              "      <td>OFF</td>\n",
              "      <td>OFF</td>\n",
              "      <td>None</td>\n",
              "      <td>None</td>\n",
              "      <td>N</td>\n",
              "    </tr>\n",
              "    <tr>\n",
              "      <th>2</th>\n",
              "      <td>2022-06-06 03:05:42.434000+00:00</td>\n",
              "      <td>DEPT_MANAGER</td>\n",
              "      <td>EMPLOYEES</td>\n",
              "      <td>PUBLIC</td>\n",
              "      <td>TABLE</td>\n",
              "      <td></td>\n",
              "      <td></td>\n",
              "      <td>24</td>\n",
              "      <td>2048</td>\n",
              "      <td>SYSADMIN</td>\n",
              "      <td>1</td>\n",
              "      <td>OFF</td>\n",
              "      <td>OFF</td>\n",
              "      <td>OFF</td>\n",
              "      <td>None</td>\n",
              "      <td>None</td>\n",
              "      <td>N</td>\n",
              "    </tr>\n",
              "    <tr>\n",
              "      <th>3</th>\n",
              "      <td>2022-06-06 03:01:04.289000+00:00</td>\n",
              "      <td>EMPLOYEES</td>\n",
              "      <td>EMPLOYEES</td>\n",
              "      <td>PUBLIC</td>\n",
              "      <td>TABLE</td>\n",
              "      <td></td>\n",
              "      <td></td>\n",
              "      <td>300024</td>\n",
              "      <td>4431872</td>\n",
              "      <td>SYSADMIN</td>\n",
              "      <td>1</td>\n",
              "      <td>OFF</td>\n",
              "      <td>OFF</td>\n",
              "      <td>OFF</td>\n",
              "      <td>None</td>\n",
              "      <td>None</td>\n",
              "      <td>N</td>\n",
              "    </tr>\n",
              "    <tr>\n",
              "      <th>4</th>\n",
              "      <td>2022-06-06 03:06:33.248000+00:00</td>\n",
              "      <td>SALARIES</td>\n",
              "      <td>EMPLOYEES</td>\n",
              "      <td>PUBLIC</td>\n",
              "      <td>TABLE</td>\n",
              "      <td></td>\n",
              "      <td></td>\n",
              "      <td>2844047</td>\n",
              "      <td>21235712</td>\n",
              "      <td>SYSADMIN</td>\n",
              "      <td>1</td>\n",
              "      <td>OFF</td>\n",
              "      <td>OFF</td>\n",
              "      <td>OFF</td>\n",
              "      <td>None</td>\n",
              "      <td>None</td>\n",
              "      <td>N</td>\n",
              "    </tr>\n",
              "    <tr>\n",
              "      <th>5</th>\n",
              "      <td>2022-06-06 03:06:25.519000+00:00</td>\n",
              "      <td>TITLES</td>\n",
              "      <td>EMPLOYEES</td>\n",
              "      <td>PUBLIC</td>\n",
              "      <td>TABLE</td>\n",
              "      <td></td>\n",
              "      <td></td>\n",
              "      <td>443308</td>\n",
              "      <td>3655680</td>\n",
              "      <td>SYSADMIN</td>\n",
              "      <td>1</td>\n",
              "      <td>OFF</td>\n",
              "      <td>OFF</td>\n",
              "      <td>OFF</td>\n",
              "      <td>None</td>\n",
              "      <td>None</td>\n",
              "      <td>N</td>\n",
              "    </tr>\n",
              "  </tbody>\n",
              "</table>\n",
              "</div>\n",
              "      <button class=\"colab-df-convert\" onclick=\"convertToInteractive('df-fe2810f9-984e-449b-a61c-61678418ab71')\"\n",
              "              title=\"Convert this dataframe to an interactive table.\"\n",
              "              style=\"display:none;\">\n",
              "        \n",
              "  <svg xmlns=\"http://www.w3.org/2000/svg\" height=\"24px\"viewBox=\"0 0 24 24\"\n",
              "       width=\"24px\">\n",
              "    <path d=\"M0 0h24v24H0V0z\" fill=\"none\"/>\n",
              "    <path d=\"M18.56 5.44l.94 2.06.94-2.06 2.06-.94-2.06-.94-.94-2.06-.94 2.06-2.06.94zm-11 1L8.5 8.5l.94-2.06 2.06-.94-2.06-.94L8.5 2.5l-.94 2.06-2.06.94zm10 10l.94 2.06.94-2.06 2.06-.94-2.06-.94-.94-2.06-.94 2.06-2.06.94z\"/><path d=\"M17.41 7.96l-1.37-1.37c-.4-.4-.92-.59-1.43-.59-.52 0-1.04.2-1.43.59L10.3 9.45l-7.72 7.72c-.78.78-.78 2.05 0 2.83L4 21.41c.39.39.9.59 1.41.59.51 0 1.02-.2 1.41-.59l7.78-7.78 2.81-2.81c.8-.78.8-2.07 0-2.86zM5.41 20L4 18.59l7.72-7.72 1.47 1.35L5.41 20z\"/>\n",
              "  </svg>\n",
              "      </button>\n",
              "      \n",
              "  <style>\n",
              "    .colab-df-container {\n",
              "      display:flex;\n",
              "      flex-wrap:wrap;\n",
              "      gap: 12px;\n",
              "    }\n",
              "\n",
              "    .colab-df-convert {\n",
              "      background-color: #E8F0FE;\n",
              "      border: none;\n",
              "      border-radius: 50%;\n",
              "      cursor: pointer;\n",
              "      display: none;\n",
              "      fill: #1967D2;\n",
              "      height: 32px;\n",
              "      padding: 0 0 0 0;\n",
              "      width: 32px;\n",
              "    }\n",
              "\n",
              "    .colab-df-convert:hover {\n",
              "      background-color: #E2EBFA;\n",
              "      box-shadow: 0px 1px 2px rgba(60, 64, 67, 0.3), 0px 1px 3px 1px rgba(60, 64, 67, 0.15);\n",
              "      fill: #174EA6;\n",
              "    }\n",
              "\n",
              "    [theme=dark] .colab-df-convert {\n",
              "      background-color: #3B4455;\n",
              "      fill: #D2E3FC;\n",
              "    }\n",
              "\n",
              "    [theme=dark] .colab-df-convert:hover {\n",
              "      background-color: #434B5C;\n",
              "      box-shadow: 0px 1px 3px 1px rgba(0, 0, 0, 0.15);\n",
              "      filter: drop-shadow(0px 1px 2px rgba(0, 0, 0, 0.3));\n",
              "      fill: #FFFFFF;\n",
              "    }\n",
              "  </style>\n",
              "\n",
              "      <script>\n",
              "        const buttonEl =\n",
              "          document.querySelector('#df-fe2810f9-984e-449b-a61c-61678418ab71 button.colab-df-convert');\n",
              "        buttonEl.style.display =\n",
              "          google.colab.kernel.accessAllowed ? 'block' : 'none';\n",
              "\n",
              "        async function convertToInteractive(key) {\n",
              "          const element = document.querySelector('#df-fe2810f9-984e-449b-a61c-61678418ab71');\n",
              "          const dataTable =\n",
              "            await google.colab.kernel.invokeFunction('convertToInteractive',\n",
              "                                                     [key], {});\n",
              "          if (!dataTable) return;\n",
              "\n",
              "          const docLinkHtml = 'Like what you see? Visit the ' +\n",
              "            '<a target=\"_blank\" href=https://colab.research.google.com/notebooks/data_table.ipynb>data table notebook</a>'\n",
              "            + ' to learn more about interactive tables.';\n",
              "          element.innerHTML = '';\n",
              "          dataTable['output_type'] = 'display_data';\n",
              "          await google.colab.output.renderOutput(dataTable, element);\n",
              "          const docLink = document.createElement('div');\n",
              "          docLink.innerHTML = docLinkHtml;\n",
              "          element.appendChild(docLink);\n",
              "        }\n",
              "      </script>\n",
              "    </div>\n",
              "  </div>\n",
              "  "
            ]
          },
          "metadata": {},
          "execution_count": 19
        }
      ]
    },
    {
      "cell_type": "code",
      "source": [
        "conn.close()"
      ],
      "metadata": {
        "id": "2CFEPv7IfnNG"
      },
      "execution_count": 20,
      "outputs": []
    }
  ]
}
