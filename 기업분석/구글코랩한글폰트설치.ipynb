{
  "nbformat": 4,
  "nbformat_minor": 0,
  "metadata": {
    "colab": {
      "name": "구글코랩한글폰트설치.ipynb",
      "provenance": [],
      "collapsed_sections": [],
      "include_colab_link": true
    },
    "kernelspec": {
      "name": "python3",
      "display_name": "Python 3"
    },
    "language_info": {
      "name": "python"
    }
  },
  "cells": [
    {
      "cell_type": "markdown",
      "metadata": {
        "id": "view-in-github",
        "colab_type": "text"
      },
      "source": [
        "<a href=\"https://colab.research.google.com/github/KIMMOOKYONG/COLAB-NOTENOOK/blob/main/%EA%B8%B0%EC%97%85%EB%B6%84%EC%84%9D/%EA%B5%AC%EA%B8%80%EC%BD%94%EB%9E%A9%ED%95%9C%EA%B8%80%ED%8F%B0%ED%8A%B8%EC%84%A4%EC%B9%98.ipynb\" target=\"_parent\"><img src=\"https://colab.research.google.com/assets/colab-badge.svg\" alt=\"Open In Colab\"/></a>"
      ]
    },
    {
      "cell_type": "code",
      "source": [
        "# 일단 import \n",
        "%matplotlib inline  \n",
        "\n",
        "import matplotlib as mpl  # 기본 설정 만지는 용도\n",
        "import matplotlib.pyplot as plt  # 그래프 그리는 용도\n",
        "import matplotlib.font_manager as fm  # 폰트 관련 용도"
      ],
      "metadata": {
        "id": "rEmITak7qCJt"
      },
      "execution_count": null,
      "outputs": []
    },
    {
      "cell_type": "code",
      "execution_count": null,
      "metadata": {
        "colab": {
          "base_uri": "https://localhost:8080/"
        },
        "id": "ZilIpHX0pZ8d",
        "outputId": "cf28d39b-3aec-45bf-b33b-fa9567ca932e"
      },
      "outputs": [
        {
          "output_type": "stream",
          "name": "stdout",
          "text": [
            "Selecting previously unselected package fonts-nanum.\n",
            "(Reading database ... 155639 files and directories currently installed.)\n",
            "Preparing to unpack .../fonts-nanum_20170925-1_all.deb ...\n",
            "Unpacking fonts-nanum (20170925-1) ...\n",
            "Selecting previously unselected package fonts-nanum-eco.\n",
            "Preparing to unpack .../fonts-nanum-eco_1.000-6_all.deb ...\n",
            "Unpacking fonts-nanum-eco (1.000-6) ...\n",
            "Selecting previously unselected package fonts-nanum-extra.\n",
            "Preparing to unpack .../fonts-nanum-extra_20170925-1_all.deb ...\n",
            "Unpacking fonts-nanum-extra (20170925-1) ...\n",
            "Selecting previously unselected package fonts-nanum-coding.\n",
            "Preparing to unpack .../fonts-nanum-coding_2.5-1_all.deb ...\n",
            "Unpacking fonts-nanum-coding (2.5-1) ...\n",
            "Setting up fonts-nanum-extra (20170925-1) ...\n",
            "Setting up fonts-nanum (20170925-1) ...\n",
            "Setting up fonts-nanum-coding (2.5-1) ...\n",
            "Setting up fonts-nanum-eco (1.000-6) ...\n",
            "Processing triggers for fontconfig (2.12.6-0ubuntu2) ...\n"
          ]
        }
      ],
      "source": [
        "!apt-get update -qq\n",
        "!apt-get install fonts-nanum* -qq"
      ]
    },
    {
      "cell_type": "code",
      "source": [        
        "# 설치 후 반드시 런타임을 재시작해야 적용된다. 중요!!\n",
        "# 체크해보면 폰트 개수가 늘어났다\n",
        "sys_font=fm.findSystemFonts()\n",
        "print(f\"sys_font number: {len(sys_font)}\")\n",
        "\n",
        "nanum_font = [f for f in sys_font if 'Nanum' in f]\n",
        "print(f\"nanum_font number: {len(nanum_font)}\")\n",
        "nanum_font"
      ],
      "metadata": {
        "colab": {
          "base_uri": "https://localhost:8080/"
        },
        "id": "5DQpU75Epy4M",
        "outputId": "c8e837b8-e72d-4b79-ead3-68b8a3c185a2"
      },
      "execution_count": null,
      "outputs": [
        {
          "output_type": "stream",
          "name": "stdout",
          "text": [
            "sys_font number: 48\n",
            "nanum_font number: 31\n"
          ]
        },
        {
          "output_type": "execute_result",
          "data": {
            "text/plain": [
              "['/usr/share/fonts/truetype/nanum/NanumGothicEcoBold.ttf',\n",
              " '/usr/share/fonts/truetype/nanum/NanumGothic.ttf',\n",
              " '/usr/share/fonts/truetype/nanum/NanumMyeongjoBold.ttf',\n",
              " '/usr/share/fonts/truetype/nanum/NanumSquareRoundR.ttf',\n",
              " '/usr/share/fonts/truetype/nanum/NanumGothicCoding.ttf',\n",
              " '/usr/share/fonts/truetype/nanum/NanumGothicExtraBold.ttf',\n",
              " '/usr/share/fonts/truetype/nanum/NanumMyeongjoExtraBold.ttf',\n",
              " '/usr/share/fonts/truetype/nanum/NanumBarunGothicUltraLight.ttf',\n",
              " '/usr/share/fonts/truetype/nanum/NanumSquareRoundB.ttf',\n",
              " '/usr/share/fonts/truetype/nanum/NanumSquareR.ttf',\n",
              " '/usr/share/fonts/truetype/nanum/NanumGothicCoding-Bold.ttf',\n",
              " '/usr/share/fonts/truetype/nanum/NanumBarunGothic.ttf',\n",
              " '/usr/share/fonts/truetype/nanum/NanumGothicEcoExtraBold.ttf',\n",
              " '/usr/share/fonts/truetype/nanum/NanumBarunpenR.ttf',\n",
              " '/usr/share/fonts/truetype/nanum/NanumBarunpenB.ttf',\n",
              " '/usr/share/fonts/truetype/nanum/NanumSquareB.ttf',\n",
              " '/usr/share/fonts/truetype/nanum/NanumMyeongjo.ttf',\n",
              " '/usr/share/fonts/truetype/nanum/NanumBarunGothicLight.ttf',\n",
              " '/usr/share/fonts/truetype/nanum/NanumBrush.ttf',\n",
              " '/usr/share/fonts/truetype/nanum/NanumMyeongjoEcoBold.ttf',\n",
              " '/usr/share/fonts/truetype/nanum/NanumPen.ttf',\n",
              " '/usr/share/fonts/truetype/nanum/NanumBarunGothicBold.ttf',\n",
              " '/usr/share/fonts/truetype/nanum/NanumGothicBold.ttf',\n",
              " '/usr/share/fonts/truetype/nanum/NanumSquareL.ttf',\n",
              " '/usr/share/fonts/truetype/nanum/NanumSquareEB.ttf',\n",
              " '/usr/share/fonts/truetype/nanum/NanumMyeongjoEcoExtraBold.ttf',\n",
              " '/usr/share/fonts/truetype/nanum/NanumGothicEco.ttf',\n",
              " '/usr/share/fonts/truetype/nanum/NanumMyeongjoEco.ttf',\n",
              " '/usr/share/fonts/truetype/nanum/NanumSquareRoundL.ttf',\n",
              " '/usr/share/fonts/truetype/nanum/NanumGothicLight.ttf',\n",
              " '/usr/share/fonts/truetype/nanum/NanumSquareRoundEB.ttf']"
            ]
          },
          "metadata": {},
          "execution_count": 15
        }
      ]
    },
    {
      "cell_type": "code",
      "source": [
        "# 현재 설정되어 있는 폰트 사이즈와 글꼴을 알아보자\n",
        "!python --version\n",
        "def current_font():\n",
        "  print(f\"설정 폰트 글꼴: {plt.rcParams['font.family']}, 설정 폰트 사이즈: {plt.rcParams['font.size']}\")  # 파이썬 3.6 이상 사용가능하다\n",
        "        \n",
        "current_font()"
      ],
      "metadata": {
        "colab": {
          "base_uri": "https://localhost:8080/"
        },
        "id": "TuBWlGwCqJTz",
        "outputId": "88ef3b20-fcea-4d00-847c-f61070f09259"
      },
      "execution_count": null,
      "outputs": [
        {
          "output_type": "stream",
          "name": "stdout",
          "text": [
            "Python 3.7.13\n",
            "설정 폰트 글꼴: ['NanumGothic Eco'], 설정 폰트 사이즈: 10.0\n"
          ]
        }
      ]
    },
    {
      "cell_type": "code",
      "source": [
        "path = '/usr/share/fonts/truetype/nanum/NanumGothicEco.ttf'  # 설치된 나눔글꼴중 원하는 녀석의 전체 경로를 가져오자\n",
        "font_name = fm.FontProperties(fname=path, size=10).get_name()\n",
        "print(font_name)\n",
        "plt.rc('font', family=font_name)"
      ],
      "metadata": {
        "colab": {
          "base_uri": "https://localhost:8080/"
        },
        "id": "hY6-RQ3HqMRj",
        "outputId": "3cef0d72-52bc-4b46-e312-7d0a878f0369"
      },
      "execution_count": null,
      "outputs": [
        {
          "output_type": "stream",
          "name": "stdout",
          "text": [
            "NanumGothic Eco\n"
          ]
        }
      ]
    },
    {
      "cell_type": "code",
      "source": [
        "# 우선 fm._rebuild() 를 해주고\n",
        "fm._rebuild()\n",
        "\n",
        "# 마이너스 기호 깨짐 방지\n",
        "mpl.rcParams['axes.unicode_minus'] = False"
      ],
      "metadata": {
        "id": "0hlVSibOrVmO"
      },
      "execution_count": null,
      "outputs": []
    },
    {
      "cell_type": "code",
      "source": [
        "# 데이터 준비\n",
        "import numpy as np\n",
        "\n",
        "data = np.random.randint(-200, 100, 50).cumsum()\n",
        "data"
      ],
      "metadata": {
        "colab": {
          "base_uri": "https://localhost:8080/"
        },
        "id": "opxyCWT3qWV2",
        "outputId": "4d4bd6dc-d45a-4998-c883-518f483f7c92"
      },
      "execution_count": null,
      "outputs": [
        {
          "output_type": "execute_result",
          "data": {
            "text/plain": [
              "array([  -69,  -124,   -43,   -70,  -134,  -245,  -198,  -139,  -212,\n",
              "        -212,  -406,  -561,  -637,  -835,  -798,  -856,  -781,  -689,\n",
              "        -630,  -585,  -510,  -425,  -611,  -574,  -480,  -609,  -684,\n",
              "        -775,  -694,  -720,  -667,  -672,  -783,  -908,  -869, -1035,\n",
              "       -1044, -1176, -1127, -1172, -1244, -1261, -1262, -1239, -1294,\n",
              "       -1464, -1608, -1556, -1634, -1585])"
            ]
          },
          "metadata": {},
          "execution_count": 12
        }
      ]
    },
    {
      "cell_type": "code",
      "source": [
        "# 그래프를 그려보자. 하지만 한글은 깨진다\n",
        "plt.plot(range(50), data, 'r')\n",
        "plt.title('시간별 가격 추이')\n",
        "plt.ylabel('주식 가격')\n",
        "plt.xlabel('시간(분)')\n",
        "plt.style.use('seaborn-pastel')\n",
        "plt.show()"
      ],
      "metadata": {
        "colab": {
          "base_uri": "https://localhost:8080/",
          "height": 293
        },
        "id": "iyxCgwGoqP2D",
        "outputId": "31cfabd5-92f9-4f96-9b94-05ba0d6c977e"
      },
      "execution_count": null,
      "outputs": [
        {
          "output_type": "display_data",
          "data": {
            "text/plain": [
              "<Figure size 432x288 with 1 Axes>"
            ],
            "image/png": "[encoded data removed]"
          },
          "metadata": {
            "needs_background": "light"
          }
        }
      ]
    }
  ]
}
