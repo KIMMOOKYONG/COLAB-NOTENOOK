{
  "nbformat": 4,
  "nbformat_minor": 0,
  "metadata": {
    "colab": {
      "name": "OpenDartReader와 marcap으로 PER/PBR/ROE등 투자지표 구하기.ipynb",
      "provenance": [],
      "collapsed_sections": [],
      "authorship_tag": "ABX9TyMXJwqVKPPV3V7JX9UovROL",
      "include_colab_link": true
    },
    "kernelspec": {
      "name": "python3",
      "display_name": "Python 3"
    },
    "language_info": {
      "name": "python"
    }
  },
  "cells": [
    {
      "cell_type": "markdown",
      "metadata": {
        "id": "view-in-github",
        "colab_type": "text"
      },
      "source": [
        "<a href=\"https://colab.research.google.com/github/KIMMOOKYONG/COLAB-NOTENOOK/blob/main/OpenDartReader%EC%99%80_marcap%EC%9C%BC%EB%A1%9C_PER_PBR_ROE%EB%93%B1_%ED%88%AC%EC%9E%90%EC%A7%80%ED%91%9C_%EA%B5%AC%ED%95%98%EA%B8%B0.ipynb\" target=\"_parent\"><img src=\"https://colab.research.google.com/assets/colab-badge.svg\" alt=\"Open In Colab\"/></a>"
      ]
    },
    {
      "cell_type": "code",
      "source": [
        "!pip install opendartreader"
      ],
      "metadata": {
        "id": "0tw99uEFcZ52"
      },
      "execution_count": null,
      "outputs": []
    },
    {
      "cell_type": "code",
      "source": [
        "# OpenDartReader와 marcap으로 PER/PBR/ROE등 투자지표 구하기\n",
        "# 1. 용어정리\n",
        "# 1.1 PER(주가수익률; Price Earnings Ratio)\n",
        "# 주가를 1주당 순이익(EPS)로 나눈 값\n",
        "\n",
        "# PER이 1이면 시가총액과 기업의 순이익이 동일한 것이고, PER이 10이면 시가총액이 순이익의 10배라는 뜻\n",
        "# 보통 PER이 낮으면 주가가 기업의 이익에 비해 저평가된 것이라고 봄\n",
        "# 바이오기업이나 테크 기업 같은 경우 시장에서 기대하는 미래가치에 비해 현재의 순이익은 매우 적기 때문에 PER이 매우 크게 나타남. 그렇다고 이들 기업이 투자 가치가 떨어지는 것은 아님\n",
        "\n",
        "# 1.2. PBR(주가 순자산 비율; Price Book-value Ratio)\n",
        "# 주가를 1주당 순자산가치로 나눈 값\n",
        "# PBR이 1이면 시가총액과 기업의 순자산가치가 같다는 의미\n",
        "# 보통 PBR이 낮으면 주가가 기업의 장부가치에 비해 저평가된 것이라고 봄\n",
        "\n",
        "# 1.3. ROE(자기자본이익률; Return On Equity)\n",
        "# 당기순이익을 순자산(자기자본)으로 나눈 값\n",
        "# PBR과 PER을 알고 있으면 ROE를 계산할 수 있음\n",
        "# ROE/PER > 3 일 경우 투자가치가 있다고 판단하는 경우도 있음(브라운스톤공식)\n",
        "# PBR이 같아도 ROE와 PER에 따라 다른 의미를 가짐\n",
        "# ROE와 PER이 각각 (20%, 5배), (5%, 20배)인 두 기업이 있으면 PBR은 1로 같지만 ROE가 높고 PER이 낮은 기업이 현재 재무구조상 더 좋다고 볼 수 있음\n",
        "\n",
        "# 1.4. ROA(총자산수익률; Return On Assets)\n",
        "# 당기순이익을 자산총액으로 나눈 값\n",
        "# 특정 기업이 자산을 얼마나 효율적으로 운영했는지 보여주는 지표\n",
        "# 일반적으로 ROE의 경우 업계 평균 ROE, 동종기업 ROE와 비교하여 기업 실적을 판단하는데 사용됨\n",
        "# 하지만 ROE로는 부채로 발생한 손익여부를 확인할 수 없기 때문에 부채 비중이 큰 업종에는 적합하지 않을 수 있음. 이 경우에는 ROE보다 ROA를 사용하는 것이 적합\n",
        "\n",
        "# 2. OpenDartReader로 투자지표 계산에 필요한 정보 조회하기\n",
        "# PER을 계산하기 위해 필요한 정보: 주가, 당기순이익, 총발행주식수(보통주+우선주)\n",
        "# PBR을 계산하기 위해 필요한 정보: 주가, 순자산(자본), 총발행주식수(보통주+우선주)\n",
        "# ROE를 계산하기 위해 필요한 정보: 당기순이익, 순자산(자본)\n",
        "# ROA를 계산하기 위해 필요한 정보: 당기순이익, 자산(자본+부채)\n",
        "# 4개 지표를 계산하기 위해 필요한 정보는 주가, 당기순이익, 총발행주식수, 자본, 부채\n",
        "\n",
        "# 2.1. 자본, 자산, 당기순이익 조회\n",
        "# corp: 종목코드, bsns_year: 사업연도, reprt_code: 보고서코드(1분기보고서 : 11013, 반기보고서 : 11012, 3분기보고서 : 11014, 사업보고서 : 11011)"
      ],
      "metadata": {
        "id": "hbLywnRmicqz"
      },
      "execution_count": 209,
      "outputs": []
    },
    {
      "cell_type": "code",
      "source": [
        "import OpenDartReader\n",
        "import pandas as pd\n",
        "api_key = \"API키\"\n",
        "dart = OpenDartReader(api_key)"
      ],
      "metadata": {
        "id": "N3gSZC0JlD4H"
      },
      "execution_count": 210,
      "outputs": []
    },
    {
      "cell_type": "code",
      "source": [
        "fs_2019 = dart.finstate_all(corp=\"005930\", bsns_year=\"2019\", fs_div=\"CFS\", reprt_code=11011) \n",
        "fs_2020_3Q = dart.finstate_all(corp=\"005930\", bsns_year=\"2020\", fs_div=\"CFS\", reprt_code=11014)"
      ],
      "metadata": {
        "id": "7FMoUZcRlWSv"
      },
      "execution_count": 211,
      "outputs": []
    },
    {
      "cell_type": "code",
      "source": [
        "# 자본과 자산(자본+부채)은 재무상태표(sj_vis='BIS'), 당기순이익은 포괄손익계산서(sj_div='CIS')에서 확인할 수 있다.\n",
        "fs_2020_3Q.loc[fs_2020_3Q[\"sj_div\"].isin([\"BS\"]) & fs_2020_3Q[\"account_id\"].isin([\"ifrs-full_Equity\"]), ]"
      ],
      "metadata": {
        "colab": {
          "base_uri": "https://localhost:8080/",
          "height": 179
        },
        "id": "B71_ugDLlal6",
        "outputId": "ed7937a0-b252-49be-846f-16118ce56505"
      },
      "execution_count": 212,
      "outputs": [
        {
          "output_type": "execute_result",
          "data": {
            "text/plain": [
              "          rcept_no reprt_code bsns_year corp_code sj_div  sj_nm  \\\n",
              "52  20201116001248      11014      2020  00126380     BS  재무상태표   \n",
              "\n",
              "          account_id account_nm account_detail    thstrm_nm    thstrm_amount  \\\n",
              "52  ifrs-full_Equity       자본총계              -  제 52 기 3분기말  276136188000000   \n",
              "\n",
              "   frmtrm_nm    frmtrm_amount ord currency thstrm_add_amount frmtrm_q_nm  \\\n",
              "52   제 51 기말  262880421000000  55      KRW               NaN         NaN   \n",
              "\n",
              "   frmtrm_q_amount frmtrm_add_amount  \n",
              "52             NaN               NaN  "
            ],
            "text/html": [
              "\n",
              "  <div id=\"df-acb0b86c-6a32-4105-9838-50d6335eff4e\">\n",
              "    <div class=\"colab-df-container\">\n",
              "      <div>\n",
              "<style scoped>\n",
              "    .dataframe tbody tr th:only-of-type {\n",
              "        vertical-align: middle;\n",
              "    }\n",
              "\n",
              "    .dataframe tbody tr th {\n",
              "        vertical-align: top;\n",
              "    }\n",
              "\n",
              "    .dataframe thead th {\n",
              "        text-align: right;\n",
              "    }\n",
              "</style>\n",
              "<table border=\"1\" class=\"dataframe\">\n",
              "  <thead>\n",
              "    <tr style=\"text-align: right;\">\n",
              "      <th></th>\n",
              "      <th>rcept_no</th>\n",
              "      <th>reprt_code</th>\n",
              "      <th>bsns_year</th>\n",
              "      <th>corp_code</th>\n",
              "      <th>sj_div</th>\n",
              "      <th>sj_nm</th>\n",
              "      <th>account_id</th>\n",
              "      <th>account_nm</th>\n",
              "      <th>account_detail</th>\n",
              "      <th>thstrm_nm</th>\n",
              "      <th>thstrm_amount</th>\n",
              "      <th>frmtrm_nm</th>\n",
              "      <th>frmtrm_amount</th>\n",
              "      <th>ord</th>\n",
              "      <th>currency</th>\n",
              "      <th>thstrm_add_amount</th>\n",
              "      <th>frmtrm_q_nm</th>\n",
              "      <th>frmtrm_q_amount</th>\n",
              "      <th>frmtrm_add_amount</th>\n",
              "    </tr>\n",
              "  </thead>\n",
              "  <tbody>\n",
              "    <tr>\n",
              "      <th>52</th>\n",
              "      <td>20201116001248</td>\n",
              "      <td>11014</td>\n",
              "      <td>2020</td>\n",
              "      <td>00126380</td>\n",
              "      <td>BS</td>\n",
              "      <td>재무상태표</td>\n",
              "      <td>ifrs-full_Equity</td>\n",
              "      <td>자본총계</td>\n",
              "      <td>-</td>\n",
              "      <td>제 52 기 3분기말</td>\n",
              "      <td>276136188000000</td>\n",
              "      <td>제 51 기말</td>\n",
              "      <td>262880421000000</td>\n",
              "      <td>55</td>\n",
              "      <td>KRW</td>\n",
              "      <td>NaN</td>\n",
              "      <td>NaN</td>\n",
              "      <td>NaN</td>\n",
              "      <td>NaN</td>\n",
              "    </tr>\n",
              "  </tbody>\n",
              "</table>\n",
              "</div>\n",
              "      <button class=\"colab-df-convert\" onclick=\"convertToInteractive('df-acb0b86c-6a32-4105-9838-50d6335eff4e')\"\n",
              "              title=\"Convert this dataframe to an interactive table.\"\n",
              "              style=\"display:none;\">\n",
              "        \n",
              "  <svg xmlns=\"http://www.w3.org/2000/svg\" height=\"24px\"viewBox=\"0 0 24 24\"\n",
              "       width=\"24px\">\n",
              "    <path d=\"M0 0h24v24H0V0z\" fill=\"none\"/>\n",
              "    <path d=\"M18.56 5.44l.94 2.06.94-2.06 2.06-.94-2.06-.94-.94-2.06-.94 2.06-2.06.94zm-11 1L8.5 8.5l.94-2.06 2.06-.94-2.06-.94L8.5 2.5l-.94 2.06-2.06.94zm10 10l.94 2.06.94-2.06 2.06-.94-2.06-.94-.94-2.06-.94 2.06-2.06.94z\"/><path d=\"M17.41 7.96l-1.37-1.37c-.4-.4-.92-.59-1.43-.59-.52 0-1.04.2-1.43.59L10.3 9.45l-7.72 7.72c-.78.78-.78 2.05 0 2.83L4 21.41c.39.39.9.59 1.41.59.51 0 1.02-.2 1.41-.59l7.78-7.78 2.81-2.81c.8-.78.8-2.07 0-2.86zM5.41 20L4 18.59l7.72-7.72 1.47 1.35L5.41 20z\"/>\n",
              "  </svg>\n",
              "      </button>\n",
              "      \n",
              "  <style>\n",
              "    .colab-df-container {\n",
              "      display:flex;\n",
              "      flex-wrap:wrap;\n",
              "      gap: 12px;\n",
              "    }\n",
              "\n",
              "    .colab-df-convert {\n",
              "      background-color: #E8F0FE;\n",
              "      border: none;\n",
              "      border-radius: 50%;\n",
              "      cursor: pointer;\n",
              "      display: none;\n",
              "      fill: #1967D2;\n",
              "      height: 32px;\n",
              "      padding: 0 0 0 0;\n",
              "      width: 32px;\n",
              "    }\n",
              "\n",
              "    .colab-df-convert:hover {\n",
              "      background-color: #E2EBFA;\n",
              "      box-shadow: 0px 1px 2px rgba(60, 64, 67, 0.3), 0px 1px 3px 1px rgba(60, 64, 67, 0.15);\n",
              "      fill: #174EA6;\n",
              "    }\n",
              "\n",
              "    [theme=dark] .colab-df-convert {\n",
              "      background-color: #3B4455;\n",
              "      fill: #D2E3FC;\n",
              "    }\n",
              "\n",
              "    [theme=dark] .colab-df-convert:hover {\n",
              "      background-color: #434B5C;\n",
              "      box-shadow: 0px 1px 3px 1px rgba(0, 0, 0, 0.15);\n",
              "      filter: drop-shadow(0px 1px 2px rgba(0, 0, 0, 0.3));\n",
              "      fill: #FFFFFF;\n",
              "    }\n",
              "  </style>\n",
              "\n",
              "      <script>\n",
              "        const buttonEl =\n",
              "          document.querySelector('#df-acb0b86c-6a32-4105-9838-50d6335eff4e button.colab-df-convert');\n",
              "        buttonEl.style.display =\n",
              "          google.colab.kernel.accessAllowed ? 'block' : 'none';\n",
              "\n",
              "        async function convertToInteractive(key) {\n",
              "          const element = document.querySelector('#df-acb0b86c-6a32-4105-9838-50d6335eff4e');\n",
              "          const dataTable =\n",
              "            await google.colab.kernel.invokeFunction('convertToInteractive',\n",
              "                                                     [key], {});\n",
              "          if (!dataTable) return;\n",
              "\n",
              "          const docLinkHtml = 'Like what you see? Visit the ' +\n",
              "            '<a target=\"_blank\" href=https://colab.research.google.com/notebooks/data_table.ipynb>data table notebook</a>'\n",
              "            + ' to learn more about interactive tables.';\n",
              "          element.innerHTML = '';\n",
              "          dataTable['output_type'] = 'display_data';\n",
              "          await google.colab.output.renderOutput(dataTable, element);\n",
              "          const docLink = document.createElement('div');\n",
              "          docLink.innerHTML = docLinkHtml;\n",
              "          element.appendChild(docLink);\n",
              "        }\n",
              "      </script>\n",
              "    </div>\n",
              "  </div>\n",
              "  "
            ]
          },
          "metadata": {},
          "execution_count": 212
        }
      ]
    },
    {
      "cell_type": "code",
      "source": [
        "fs_2020_3Q.loc[fs_2020_3Q[\"sj_div\"].isin([\"BS\"]) & fs_2020_3Q[\"account_id\"].isin([\"ifrs-full_Liabilities\"]), ]"
      ],
      "metadata": {
        "colab": {
          "base_uri": "https://localhost:8080/",
          "height": 179
        },
        "id": "LAwK8xU4lkRh",
        "outputId": "8c88f81c-1f4b-4602-9a5b-7c54115e1a43"
      },
      "execution_count": 213,
      "outputs": [
        {
          "output_type": "execute_result",
          "data": {
            "text/plain": [
              "          rcept_no reprt_code bsns_year corp_code sj_div  sj_nm  \\\n",
              "42  20201116001248      11014      2020  00126380     BS  재무상태표   \n",
              "\n",
              "               account_id account_nm account_detail    thstrm_nm  \\\n",
              "42  ifrs-full_Liabilities       부채총계              -  제 52 기 3분기말   \n",
              "\n",
              "     thstrm_amount frmtrm_nm   frmtrm_amount ord currency thstrm_add_amount  \\\n",
              "42  99652554000000   제 51 기말  89684076000000  44      KRW               NaN   \n",
              "\n",
              "   frmtrm_q_nm frmtrm_q_amount frmtrm_add_amount  \n",
              "42         NaN             NaN               NaN  "
            ],
            "text/html": [
              "\n",
              "  <div id=\"df-d5981a06-350c-43cc-a1d4-54e6f5d06429\">\n",
              "    <div class=\"colab-df-container\">\n",
              "      <div>\n",
              "<style scoped>\n",
              "    .dataframe tbody tr th:only-of-type {\n",
              "        vertical-align: middle;\n",
              "    }\n",
              "\n",
              "    .dataframe tbody tr th {\n",
              "        vertical-align: top;\n",
              "    }\n",
              "\n",
              "    .dataframe thead th {\n",
              "        text-align: right;\n",
              "    }\n",
              "</style>\n",
              "<table border=\"1\" class=\"dataframe\">\n",
              "  <thead>\n",
              "    <tr style=\"text-align: right;\">\n",
              "      <th></th>\n",
              "      <th>rcept_no</th>\n",
              "      <th>reprt_code</th>\n",
              "      <th>bsns_year</th>\n",
              "      <th>corp_code</th>\n",
              "      <th>sj_div</th>\n",
              "      <th>sj_nm</th>\n",
              "      <th>account_id</th>\n",
              "      <th>account_nm</th>\n",
              "      <th>account_detail</th>\n",
              "      <th>thstrm_nm</th>\n",
              "      <th>thstrm_amount</th>\n",
              "      <th>frmtrm_nm</th>\n",
              "      <th>frmtrm_amount</th>\n",
              "      <th>ord</th>\n",
              "      <th>currency</th>\n",
              "      <th>thstrm_add_amount</th>\n",
              "      <th>frmtrm_q_nm</th>\n",
              "      <th>frmtrm_q_amount</th>\n",
              "      <th>frmtrm_add_amount</th>\n",
              "    </tr>\n",
              "  </thead>\n",
              "  <tbody>\n",
              "    <tr>\n",
              "      <th>42</th>\n",
              "      <td>20201116001248</td>\n",
              "      <td>11014</td>\n",
              "      <td>2020</td>\n",
              "      <td>00126380</td>\n",
              "      <td>BS</td>\n",
              "      <td>재무상태표</td>\n",
              "      <td>ifrs-full_Liabilities</td>\n",
              "      <td>부채총계</td>\n",
              "      <td>-</td>\n",
              "      <td>제 52 기 3분기말</td>\n",
              "      <td>99652554000000</td>\n",
              "      <td>제 51 기말</td>\n",
              "      <td>89684076000000</td>\n",
              "      <td>44</td>\n",
              "      <td>KRW</td>\n",
              "      <td>NaN</td>\n",
              "      <td>NaN</td>\n",
              "      <td>NaN</td>\n",
              "      <td>NaN</td>\n",
              "    </tr>\n",
              "  </tbody>\n",
              "</table>\n",
              "</div>\n",
              "      <button class=\"colab-df-convert\" onclick=\"convertToInteractive('df-d5981a06-350c-43cc-a1d4-54e6f5d06429')\"\n",
              "              title=\"Convert this dataframe to an interactive table.\"\n",
              "              style=\"display:none;\">\n",
              "        \n",
              "  <svg xmlns=\"http://www.w3.org/2000/svg\" height=\"24px\"viewBox=\"0 0 24 24\"\n",
              "       width=\"24px\">\n",
              "    <path d=\"M0 0h24v24H0V0z\" fill=\"none\"/>\n",
              "    <path d=\"M18.56 5.44l.94 2.06.94-2.06 2.06-.94-2.06-.94-.94-2.06-.94 2.06-2.06.94zm-11 1L8.5 8.5l.94-2.06 2.06-.94-2.06-.94L8.5 2.5l-.94 2.06-2.06.94zm10 10l.94 2.06.94-2.06 2.06-.94-2.06-.94-.94-2.06-.94 2.06-2.06.94z\"/><path d=\"M17.41 7.96l-1.37-1.37c-.4-.4-.92-.59-1.43-.59-.52 0-1.04.2-1.43.59L10.3 9.45l-7.72 7.72c-.78.78-.78 2.05 0 2.83L4 21.41c.39.39.9.59 1.41.59.51 0 1.02-.2 1.41-.59l7.78-7.78 2.81-2.81c.8-.78.8-2.07 0-2.86zM5.41 20L4 18.59l7.72-7.72 1.47 1.35L5.41 20z\"/>\n",
              "  </svg>\n",
              "      </button>\n",
              "      \n",
              "  <style>\n",
              "    .colab-df-container {\n",
              "      display:flex;\n",
              "      flex-wrap:wrap;\n",
              "      gap: 12px;\n",
              "    }\n",
              "\n",
              "    .colab-df-convert {\n",
              "      background-color: #E8F0FE;\n",
              "      border: none;\n",
              "      border-radius: 50%;\n",
              "      cursor: pointer;\n",
              "      display: none;\n",
              "      fill: #1967D2;\n",
              "      height: 32px;\n",
              "      padding: 0 0 0 0;\n",
              "      width: 32px;\n",
              "    }\n",
              "\n",
              "    .colab-df-convert:hover {\n",
              "      background-color: #E2EBFA;\n",
              "      box-shadow: 0px 1px 2px rgba(60, 64, 67, 0.3), 0px 1px 3px 1px rgba(60, 64, 67, 0.15);\n",
              "      fill: #174EA6;\n",
              "    }\n",
              "\n",
              "    [theme=dark] .colab-df-convert {\n",
              "      background-color: #3B4455;\n",
              "      fill: #D2E3FC;\n",
              "    }\n",
              "\n",
              "    [theme=dark] .colab-df-convert:hover {\n",
              "      background-color: #434B5C;\n",
              "      box-shadow: 0px 1px 3px 1px rgba(0, 0, 0, 0.15);\n",
              "      filter: drop-shadow(0px 1px 2px rgba(0, 0, 0, 0.3));\n",
              "      fill: #FFFFFF;\n",
              "    }\n",
              "  </style>\n",
              "\n",
              "      <script>\n",
              "        const buttonEl =\n",
              "          document.querySelector('#df-d5981a06-350c-43cc-a1d4-54e6f5d06429 button.colab-df-convert');\n",
              "        buttonEl.style.display =\n",
              "          google.colab.kernel.accessAllowed ? 'block' : 'none';\n",
              "\n",
              "        async function convertToInteractive(key) {\n",
              "          const element = document.querySelector('#df-d5981a06-350c-43cc-a1d4-54e6f5d06429');\n",
              "          const dataTable =\n",
              "            await google.colab.kernel.invokeFunction('convertToInteractive',\n",
              "                                                     [key], {});\n",
              "          if (!dataTable) return;\n",
              "\n",
              "          const docLinkHtml = 'Like what you see? Visit the ' +\n",
              "            '<a target=\"_blank\" href=https://colab.research.google.com/notebooks/data_table.ipynb>data table notebook</a>'\n",
              "            + ' to learn more about interactive tables.';\n",
              "          element.innerHTML = '';\n",
              "          dataTable['output_type'] = 'display_data';\n",
              "          await google.colab.output.renderOutput(dataTable, element);\n",
              "          const docLink = document.createElement('div');\n",
              "          docLink.innerHTML = docLinkHtml;\n",
              "          element.appendChild(docLink);\n",
              "        }\n",
              "      </script>\n",
              "    </div>\n",
              "  </div>\n",
              "  "
            ]
          },
          "metadata": {},
          "execution_count": 213
        }
      ]
    },
    {
      "cell_type": "code",
      "source": [
        "fs_2020_3Q.loc[fs_2020_3Q[\"sj_div\"].isin([\"IS\"]) & fs_2020_3Q[\"account_id\"].isin([\"ifrs-full_ProfitLossAttributableToOwnersOfParent\"]), ]"
      ],
      "metadata": {
        "colab": {
          "base_uri": "https://localhost:8080/",
          "height": 214
        },
        "id": "jjm9acVflwnh",
        "outputId": "4cf0b449-8110-47ee-83f7-83467d0a235a"
      },
      "execution_count": 214,
      "outputs": [
        {
          "output_type": "execute_result",
          "data": {
            "text/plain": [
              "          rcept_no reprt_code bsns_year corp_code sj_div  sj_nm  \\\n",
              "68  20201116001248      11014      2020  00126380     IS  손익계산서   \n",
              "\n",
              "                                          account_id  \\\n",
              "68  ifrs-full_ProfitLossAttributableToOwnersOfParent   \n",
              "\n",
              "                    account_nm account_detail   thstrm_nm  thstrm_amount  \\\n",
              "68  지배기업의 소유주에게 귀속되는 당기순이익(손실)              -  제 52 기 3분기  9266814000000   \n",
              "\n",
              "   frmtrm_nm frmtrm_amount ord currency thstrm_add_amount frmtrm_q_nm  \\\n",
              "68       NaN           NaN  15      KRW    19645377000000  제 51 기 3분기   \n",
              "\n",
              "   frmtrm_q_amount frmtrm_add_amount  \n",
              "68   6105039000000    16277059000000  "
            ],
            "text/html": [
              "\n",
              "  <div id=\"df-980c98c3-2162-426e-9bab-1ed329dddcc4\">\n",
              "    <div class=\"colab-df-container\">\n",
              "      <div>\n",
              "<style scoped>\n",
              "    .dataframe tbody tr th:only-of-type {\n",
              "        vertical-align: middle;\n",
              "    }\n",
              "\n",
              "    .dataframe tbody tr th {\n",
              "        vertical-align: top;\n",
              "    }\n",
              "\n",
              "    .dataframe thead th {\n",
              "        text-align: right;\n",
              "    }\n",
              "</style>\n",
              "<table border=\"1\" class=\"dataframe\">\n",
              "  <thead>\n",
              "    <tr style=\"text-align: right;\">\n",
              "      <th></th>\n",
              "      <th>rcept_no</th>\n",
              "      <th>reprt_code</th>\n",
              "      <th>bsns_year</th>\n",
              "      <th>corp_code</th>\n",
              "      <th>sj_div</th>\n",
              "      <th>sj_nm</th>\n",
              "      <th>account_id</th>\n",
              "      <th>account_nm</th>\n",
              "      <th>account_detail</th>\n",
              "      <th>thstrm_nm</th>\n",
              "      <th>thstrm_amount</th>\n",
              "      <th>frmtrm_nm</th>\n",
              "      <th>frmtrm_amount</th>\n",
              "      <th>ord</th>\n",
              "      <th>currency</th>\n",
              "      <th>thstrm_add_amount</th>\n",
              "      <th>frmtrm_q_nm</th>\n",
              "      <th>frmtrm_q_amount</th>\n",
              "      <th>frmtrm_add_amount</th>\n",
              "    </tr>\n",
              "  </thead>\n",
              "  <tbody>\n",
              "    <tr>\n",
              "      <th>68</th>\n",
              "      <td>20201116001248</td>\n",
              "      <td>11014</td>\n",
              "      <td>2020</td>\n",
              "      <td>00126380</td>\n",
              "      <td>IS</td>\n",
              "      <td>손익계산서</td>\n",
              "      <td>ifrs-full_ProfitLossAttributableToOwnersOfParent</td>\n",
              "      <td>지배기업의 소유주에게 귀속되는 당기순이익(손실)</td>\n",
              "      <td>-</td>\n",
              "      <td>제 52 기 3분기</td>\n",
              "      <td>9266814000000</td>\n",
              "      <td>NaN</td>\n",
              "      <td>NaN</td>\n",
              "      <td>15</td>\n",
              "      <td>KRW</td>\n",
              "      <td>19645377000000</td>\n",
              "      <td>제 51 기 3분기</td>\n",
              "      <td>6105039000000</td>\n",
              "      <td>16277059000000</td>\n",
              "    </tr>\n",
              "  </tbody>\n",
              "</table>\n",
              "</div>\n",
              "      <button class=\"colab-df-convert\" onclick=\"convertToInteractive('df-980c98c3-2162-426e-9bab-1ed329dddcc4')\"\n",
              "              title=\"Convert this dataframe to an interactive table.\"\n",
              "              style=\"display:none;\">\n",
              "        \n",
              "  <svg xmlns=\"http://www.w3.org/2000/svg\" height=\"24px\"viewBox=\"0 0 24 24\"\n",
              "       width=\"24px\">\n",
              "    <path d=\"M0 0h24v24H0V0z\" fill=\"none\"/>\n",
              "    <path d=\"M18.56 5.44l.94 2.06.94-2.06 2.06-.94-2.06-.94-.94-2.06-.94 2.06-2.06.94zm-11 1L8.5 8.5l.94-2.06 2.06-.94-2.06-.94L8.5 2.5l-.94 2.06-2.06.94zm10 10l.94 2.06.94-2.06 2.06-.94-2.06-.94-.94-2.06-.94 2.06-2.06.94z\"/><path d=\"M17.41 7.96l-1.37-1.37c-.4-.4-.92-.59-1.43-.59-.52 0-1.04.2-1.43.59L10.3 9.45l-7.72 7.72c-.78.78-.78 2.05 0 2.83L4 21.41c.39.39.9.59 1.41.59.51 0 1.02-.2 1.41-.59l7.78-7.78 2.81-2.81c.8-.78.8-2.07 0-2.86zM5.41 20L4 18.59l7.72-7.72 1.47 1.35L5.41 20z\"/>\n",
              "  </svg>\n",
              "      </button>\n",
              "      \n",
              "  <style>\n",
              "    .colab-df-container {\n",
              "      display:flex;\n",
              "      flex-wrap:wrap;\n",
              "      gap: 12px;\n",
              "    }\n",
              "\n",
              "    .colab-df-convert {\n",
              "      background-color: #E8F0FE;\n",
              "      border: none;\n",
              "      border-radius: 50%;\n",
              "      cursor: pointer;\n",
              "      display: none;\n",
              "      fill: #1967D2;\n",
              "      height: 32px;\n",
              "      padding: 0 0 0 0;\n",
              "      width: 32px;\n",
              "    }\n",
              "\n",
              "    .colab-df-convert:hover {\n",
              "      background-color: #E2EBFA;\n",
              "      box-shadow: 0px 1px 2px rgba(60, 64, 67, 0.3), 0px 1px 3px 1px rgba(60, 64, 67, 0.15);\n",
              "      fill: #174EA6;\n",
              "    }\n",
              "\n",
              "    [theme=dark] .colab-df-convert {\n",
              "      background-color: #3B4455;\n",
              "      fill: #D2E3FC;\n",
              "    }\n",
              "\n",
              "    [theme=dark] .colab-df-convert:hover {\n",
              "      background-color: #434B5C;\n",
              "      box-shadow: 0px 1px 3px 1px rgba(0, 0, 0, 0.15);\n",
              "      filter: drop-shadow(0px 1px 2px rgba(0, 0, 0, 0.3));\n",
              "      fill: #FFFFFF;\n",
              "    }\n",
              "  </style>\n",
              "\n",
              "      <script>\n",
              "        const buttonEl =\n",
              "          document.querySelector('#df-980c98c3-2162-426e-9bab-1ed329dddcc4 button.colab-df-convert');\n",
              "        buttonEl.style.display =\n",
              "          google.colab.kernel.accessAllowed ? 'block' : 'none';\n",
              "\n",
              "        async function convertToInteractive(key) {\n",
              "          const element = document.querySelector('#df-980c98c3-2162-426e-9bab-1ed329dddcc4');\n",
              "          const dataTable =\n",
              "            await google.colab.kernel.invokeFunction('convertToInteractive',\n",
              "                                                     [key], {});\n",
              "          if (!dataTable) return;\n",
              "\n",
              "          const docLinkHtml = 'Like what you see? Visit the ' +\n",
              "            '<a target=\"_blank\" href=https://colab.research.google.com/notebooks/data_table.ipynb>data table notebook</a>'\n",
              "            + ' to learn more about interactive tables.';\n",
              "          element.innerHTML = '';\n",
              "          dataTable['output_type'] = 'display_data';\n",
              "          await google.colab.output.renderOutput(dataTable, element);\n",
              "          const docLink = document.createElement('div');\n",
              "          docLink.innerHTML = docLinkHtml;\n",
              "          element.appendChild(docLink);\n",
              "        }\n",
              "      </script>\n",
              "    </div>\n",
              "  </div>\n",
              "  "
            ]
          },
          "metadata": {},
          "execution_count": 214
        }
      ]
    },
    {
      "cell_type": "code",
      "source": [
        "# 자본과 부채는 재무상태표에서 당기금액(\"thstrm_amount\") 값을 가져오면 됨\n",
        "equity = int(fs_2020_3Q.loc[fs_2020_3Q[\"sj_div\"].isin([\"BS\"]) & fs_2020_3Q[\"account_id\"].isin([\"ifrs-full_Equity\"]), \"thstrm_amount\"].replace(\",\", \"\")) # 당기자본(자본총계)\n",
        "liability = int(fs_2020_3Q.loc[fs_2020_3Q[\"sj_div\"].isin([\"BS\"]) & fs_2020_3Q[\"account_id\"].isin([\"ifrs-full_Liabilities\"]), \"thstrm_amount\"].replace(\",\", \"\")) # 당기부채(부채총계)\n",
        "assets = equity + liability # 자산총계"
      ],
      "metadata": {
        "id": "DNQs3pcFl0_P"
      },
      "execution_count": 215,
      "outputs": []
    },
    {
      "cell_type": "code",
      "source": [
        "# 당기순이익은 \"지배기업귀속\"에 해당하는 값을 조회\n",
        "# 2019 4분기 ~ 2020 3분기까지의 당기순이익의 합을 구하려면 2019년 4분기 당기순이익과 2020년 1분기 ~ 3분기 당기순이익의 합을 알아여함\n",
        "# 2020년 1분기 ~ 3분기 당기순이익의 합은 2020년 3분기 손익계산서에서 \"thstrm_add_amount\" 값을 가져오면 되고\n",
        "# 2019년 4분기 당기순이익은 2019년 전체 당기순이익에서 2019년 1분기 ~ 3분기 당기순이익의 합을 빼서 구할 수 있음\n",
        "profit_2019_3Q = int(fs_2020_3Q.loc[fs_2020_3Q[\"sj_div\"].isin([\"IS\"]) & fs_2020_3Q[\"account_id\"].isin([\"ifrs-full_ProfitLossAttributableToOwnersOfParent\"]), \"frmtrm_add_amount\"].replace(\",\", \"\")) # 당기순이익\n",
        "profit_2019 = int(fs_2019.loc[fs_2019[\"sj_div\"].isin([\"IS\"]) & fs_2019[\"account_id\"].isin([\"ifrs-full_ProfitLossAttributableToOwnersOfParent\"]), \"thstrm_amount\"].replace(\",\", \"\")) # 당기순이익\n",
        "profit_2020_3Q = int(fs_2020_3Q.loc[fs_2020_3Q[\"sj_div\"].isin([\"IS\"]) & fs_2020_3Q[\"account_id\"].isin([\"ifrs-full_ProfitLossAttributableToOwnersOfParent\"]), \"thstrm_add_amount\"].replace(\",\", \"\")) # 당기순이익\n",
        "profit = (profit_2019-profit_2019_3Q) + profit_2020_3Q\n",
        "profit"
      ],
      "metadata": {
        "colab": {
          "base_uri": "https://localhost:8080/"
        },
        "id": "DwM0S8i9l7gQ",
        "outputId": "b4de57d3-1c47-412f-9e67-20c19a749a1c"
      },
      "execution_count": 216,
      "outputs": [
        {
          "output_type": "execute_result",
          "data": {
            "text/plain": [
              "24873372000000"
            ]
          },
          "metadata": {},
          "execution_count": 216
        }
      ]
    },
    {
      "cell_type": "code",
      "source": [
        "# 총발행주식수 조회\n",
        "# 사업보고서 - '소액주주'에서 보통주 총발행 주식수 확인가능\n",
        "small = dart.report(\"005930\", \"소액주주\", 2020, reprt_code=11014)\n",
        "small"
      ],
      "metadata": {
        "colab": {
          "base_uri": "https://localhost:8080/",
          "height": 81
        },
        "id": "HMujSC0HmCIn",
        "outputId": "4cb74cc4-c64f-4002-b6a1-faf3acbbbdd0"
      },
      "execution_count": 217,
      "outputs": [
        {
          "output_type": "execute_result",
          "data": {
            "text/plain": [
              "         rcept_no corp_cls corp_code corp_name    se shrholdr_co  \\\n",
              "0  20201116001248        Y  00126380      삼성전자  소액주주   1,754,623   \n",
              "\n",
              "  shrholdr_tot_co shrholdr_rate  hold_stock_co   stock_tot_co hold_stock_rate  \n",
              "0       1,754,776        99.99%  3,711,273,219  5,969,782,550          62.17%  "
            ],
            "text/html": [
              "\n",
              "  <div id=\"df-7337ba3b-8947-4d5f-ba53-ee786b91f321\">\n",
              "    <div class=\"colab-df-container\">\n",
              "      <div>\n",
              "<style scoped>\n",
              "    .dataframe tbody tr th:only-of-type {\n",
              "        vertical-align: middle;\n",
              "    }\n",
              "\n",
              "    .dataframe tbody tr th {\n",
              "        vertical-align: top;\n",
              "    }\n",
              "\n",
              "    .dataframe thead th {\n",
              "        text-align: right;\n",
              "    }\n",
              "</style>\n",
              "<table border=\"1\" class=\"dataframe\">\n",
              "  <thead>\n",
              "    <tr style=\"text-align: right;\">\n",
              "      <th></th>\n",
              "      <th>rcept_no</th>\n",
              "      <th>corp_cls</th>\n",
              "      <th>corp_code</th>\n",
              "      <th>corp_name</th>\n",
              "      <th>se</th>\n",
              "      <th>shrholdr_co</th>\n",
              "      <th>shrholdr_tot_co</th>\n",
              "      <th>shrholdr_rate</th>\n",
              "      <th>hold_stock_co</th>\n",
              "      <th>stock_tot_co</th>\n",
              "      <th>hold_stock_rate</th>\n",
              "    </tr>\n",
              "  </thead>\n",
              "  <tbody>\n",
              "    <tr>\n",
              "      <th>0</th>\n",
              "      <td>20201116001248</td>\n",
              "      <td>Y</td>\n",
              "      <td>00126380</td>\n",
              "      <td>삼성전자</td>\n",
              "      <td>소액주주</td>\n",
              "      <td>1,754,623</td>\n",
              "      <td>1,754,776</td>\n",
              "      <td>99.99%</td>\n",
              "      <td>3,711,273,219</td>\n",
              "      <td>5,969,782,550</td>\n",
              "      <td>62.17%</td>\n",
              "    </tr>\n",
              "  </tbody>\n",
              "</table>\n",
              "</div>\n",
              "      <button class=\"colab-df-convert\" onclick=\"convertToInteractive('df-7337ba3b-8947-4d5f-ba53-ee786b91f321')\"\n",
              "              title=\"Convert this dataframe to an interactive table.\"\n",
              "              style=\"display:none;\">\n",
              "        \n",
              "  <svg xmlns=\"http://www.w3.org/2000/svg\" height=\"24px\"viewBox=\"0 0 24 24\"\n",
              "       width=\"24px\">\n",
              "    <path d=\"M0 0h24v24H0V0z\" fill=\"none\"/>\n",
              "    <path d=\"M18.56 5.44l.94 2.06.94-2.06 2.06-.94-2.06-.94-.94-2.06-.94 2.06-2.06.94zm-11 1L8.5 8.5l.94-2.06 2.06-.94-2.06-.94L8.5 2.5l-.94 2.06-2.06.94zm10 10l.94 2.06.94-2.06 2.06-.94-2.06-.94-.94-2.06-.94 2.06-2.06.94z\"/><path d=\"M17.41 7.96l-1.37-1.37c-.4-.4-.92-.59-1.43-.59-.52 0-1.04.2-1.43.59L10.3 9.45l-7.72 7.72c-.78.78-.78 2.05 0 2.83L4 21.41c.39.39.9.59 1.41.59.51 0 1.02-.2 1.41-.59l7.78-7.78 2.81-2.81c.8-.78.8-2.07 0-2.86zM5.41 20L4 18.59l7.72-7.72 1.47 1.35L5.41 20z\"/>\n",
              "  </svg>\n",
              "      </button>\n",
              "      \n",
              "  <style>\n",
              "    .colab-df-container {\n",
              "      display:flex;\n",
              "      flex-wrap:wrap;\n",
              "      gap: 12px;\n",
              "    }\n",
              "\n",
              "    .colab-df-convert {\n",
              "      background-color: #E8F0FE;\n",
              "      border: none;\n",
              "      border-radius: 50%;\n",
              "      cursor: pointer;\n",
              "      display: none;\n",
              "      fill: #1967D2;\n",
              "      height: 32px;\n",
              "      padding: 0 0 0 0;\n",
              "      width: 32px;\n",
              "    }\n",
              "\n",
              "    .colab-df-convert:hover {\n",
              "      background-color: #E2EBFA;\n",
              "      box-shadow: 0px 1px 2px rgba(60, 64, 67, 0.3), 0px 1px 3px 1px rgba(60, 64, 67, 0.15);\n",
              "      fill: #174EA6;\n",
              "    }\n",
              "\n",
              "    [theme=dark] .colab-df-convert {\n",
              "      background-color: #3B4455;\n",
              "      fill: #D2E3FC;\n",
              "    }\n",
              "\n",
              "    [theme=dark] .colab-df-convert:hover {\n",
              "      background-color: #434B5C;\n",
              "      box-shadow: 0px 1px 3px 1px rgba(0, 0, 0, 0.15);\n",
              "      filter: drop-shadow(0px 1px 2px rgba(0, 0, 0, 0.3));\n",
              "      fill: #FFFFFF;\n",
              "    }\n",
              "  </style>\n",
              "\n",
              "      <script>\n",
              "        const buttonEl =\n",
              "          document.querySelector('#df-7337ba3b-8947-4d5f-ba53-ee786b91f321 button.colab-df-convert');\n",
              "        buttonEl.style.display =\n",
              "          google.colab.kernel.accessAllowed ? 'block' : 'none';\n",
              "\n",
              "        async function convertToInteractive(key) {\n",
              "          const element = document.querySelector('#df-7337ba3b-8947-4d5f-ba53-ee786b91f321');\n",
              "          const dataTable =\n",
              "            await google.colab.kernel.invokeFunction('convertToInteractive',\n",
              "                                                     [key], {});\n",
              "          if (!dataTable) return;\n",
              "\n",
              "          const docLinkHtml = 'Like what you see? Visit the ' +\n",
              "            '<a target=\"_blank\" href=https://colab.research.google.com/notebooks/data_table.ipynb>data table notebook</a>'\n",
              "            + ' to learn more about interactive tables.';\n",
              "          element.innerHTML = '';\n",
              "          dataTable['output_type'] = 'display_data';\n",
              "          await google.colab.output.renderOutput(dataTable, element);\n",
              "          const docLink = document.createElement('div');\n",
              "          docLink.innerHTML = docLinkHtml;\n",
              "          element.appendChild(docLink);\n",
              "        }\n",
              "      </script>\n",
              "    </div>\n",
              "  </div>\n",
              "  "
            ]
          },
          "metadata": {},
          "execution_count": 217
        }
      ]
    },
    {
      "cell_type": "code",
      "source": [
        "stock_tot_co = int(small[\"stock_tot_co\"].str.replace(\",\", \"\"))\n",
        "stock_tot_co"
      ],
      "metadata": {
        "colab": {
          "base_uri": "https://localhost:8080/"
        },
        "id": "_S0-wqldmJlg",
        "outputId": "358b4fac-e7af-4acf-84fc-58621c5a56a4"
      },
      "execution_count": 218,
      "outputs": [
        {
          "output_type": "execute_result",
          "data": {
            "text/plain": [
              "5969782550"
            ]
          },
          "metadata": {},
          "execution_count": 218
        }
      ]
    },
    {
      "cell_type": "code",
      "source": [
        "# marcap으로 종가와 총발행주식수 구하기\n",
        "# 문제점: EPS는 보통주와 우선주의 합인 수정평균발행주식수를 이용하여 계산하는데 Open dart API를 통해서는 우선주의 총발행 주식수를 정확하게 확인할 수 있는 방법이 없음\n",
        "# https://financedata.github.io/marcap/ 에서 제공하는 상장기업 시가총액 데이터셋 사용\n",
        "\n",
        "# git 명령으로 깃허브의 저장소를 복제(clone)\n",
        "# 데이터와 데이터를 읽는데 도움이 되는 간단한 파이썬 유틸리티 함수가 포함되어 있음\n",
        "# 윈도우 + 아나콘다 사용자는 conda install git 으로 git 설치 후 실행\n",
        "!git clone \"https://github.com/FinanceData/marcap.git\" marcap"
      ],
      "metadata": {
        "colab": {
          "base_uri": "https://localhost:8080/"
        },
        "id": "omVjC4xkmRoC",
        "outputId": "26f468bf-4e30-469f-9ab5-081ea2d8c8e8"
      },
      "execution_count": 219,
      "outputs": [
        {
          "output_type": "stream",
          "name": "stdout",
          "text": [
            "Cloning into 'marcap'...\n",
            "remote: Enumerating objects: 2005, done.\u001b[K\n",
            "remote: Counting objects: 100% (44/44), done.\u001b[K\n",
            "remote: Compressing objects: 100% (17/17), done.\u001b[K\n",
            "remote: Total 2005 (delta 30), reused 41 (delta 27), pack-reused 1961\u001b[K\n",
            "Receiving objects: 100% (2005/2005), 2.36 GiB | 38.65 MiB/s, done.\n",
            "\n",
            "Resolving deltas: 100% (1349/1349), done.\n",
            "Checking out files: 100% (40/40), done.\n"
          ]
        }
      ]
    },
    {
      "cell_type": "code",
      "source": [
        "# from marcap import marcap_data\n",
        "# marcap_data 함수 안에 데이터타입 정의하는 부분에서 에러가 발생하여 직접 함수 정의 후 사용"
      ],
      "metadata": {
        "id": "gwmYqqSKmeBH"
      },
      "execution_count": 220,
      "outputs": []
    },
    {
      "cell_type": "code",
      "source": [
        "from datetime import datetime\n",
        "import numpy as np\n",
        "import pandas as pd\n",
        "\n",
        "def marcap_data(start, end=None, code=None):\n",
        "    \"\"\"\n",
        "    지정한 기간 데이터 가져오기\n",
        "    :param datetime start: 시작일\n",
        "    :param datetime end: 종료일 (지정하지 않으면 시작일과 동일)\n",
        "    :param str code: 종목코드 (지정하지 않으면 모든 종목)\n",
        "    :return: DataFrame\n",
        "    \"\"\"\n",
        "    start = pd.to_datetime(start)\n",
        "    end = start if end==None else pd.to_datetime(end)\n",
        "    df_list = []\n",
        "\n",
        "#     dtypes={\"Code\":str, \"Name\":str, \n",
        "#             \"Open\":int, \"High\":int, \"Low\":int, \"Close\":int, \"Volume\":int, \"Amount\":int,\n",
        "#             \"Changes\":int, \"ChangeCode\":str, \"ChagesRatio\":float, \"Marcap\":int, \"Stocks\":int,\n",
        "#             \"MarketId\":str, \"Market\":str, \"Dept\":str,\n",
        "#             \"Rank\":int}\n",
        "\n",
        "# Amount, Marcap을 int 타입으로 변환할 수 없다는 에러메시지 발생\n",
        "\n",
        "    dtypes={\"Code\":str, \"Name\":str, \n",
        "            \"Open\":int, \"High\":int, \"Low\":int, \"Close\":int, \"Volume\":int, \"Amount\":float,\n",
        "            \"Changes\":int, \"ChangeCode\":str, \"ChagesRatio\":float, \"Marcap\":float, \"Stocks\":int,\n",
        "            \"MarketId\":str, \"Market\":str, \"Dept\":str,\n",
        "            \"Rank\":int}\n",
        "\n",
        "    for year in range(start.year, end.year + 1):\n",
        "        try:\n",
        "            csv_file = \"marcap/data/marcap-%s.csv.gz\" % (year)\n",
        "            df = pd.read_csv(csv_file, dtype=dtypes, parse_dates=[\"Date\"])\n",
        "            df_list.append(df)\n",
        "        except Exception as e:\n",
        "            print(e)\n",
        "            pass\n",
        "    df_merged = pd.concat(df_list)\n",
        "    df_merged = df_merged[(start <= df_merged[\"Date\"]) & (df_merged[\"Date\"] <= end)]  \n",
        "    df_merged = df_merged.sort_values([\"Date\",\"Rank\"])\n",
        "    if code:\n",
        "        df_merged = df_merged[code == df_merged[\"Code\"]]  \n",
        "    df_merged.set_index(\"Date\", inplace=True)\n",
        "    return df_merged[df_merged[\"Volume\"] > 0]"
      ],
      "metadata": {
        "id": "a8D_nUaPmocg"
      },
      "execution_count": 221,
      "outputs": []
    },
    {
      "cell_type": "code",
      "source": [
        "# 삼성전자\n",
        "df_005930 = marcap_data(\"2021-01-21\", code=\"005930\")\n",
        "df_005930 = df_005930.assign(Amount=df_005930[\"Amount\"].astype(\"int64\"),\n",
        "                             Marcap=df_005930[\"Marcap\"].astype(\"int64\"))\n",
        "df_005930"
      ],
      "metadata": {
        "colab": {
          "base_uri": "https://localhost:8080/",
          "height": 112
        },
        "id": "9w2jKu_xm4qr",
        "outputId": "0fd79f6a-1e9a-4ef3-da75-1f7b797a0cdd"
      },
      "execution_count": 222,
      "outputs": [
        {
          "output_type": "execute_result",
          "data": {
            "text/plain": [
              "              Code  Name Market Dept  Close ChangeCode  Changes  ChagesRatio  \\\n",
              "Date                                                                           \n",
              "2021-01-21  005930  삼성전자  KOSPI  NaN  88100          1      900         1.03   \n",
              "\n",
              "             Open   High    Low    Volume         Amount           Marcap  \\\n",
              "Date                                                                        \n",
              "2021-01-21  87500  88600  86500  25318011  2211209788500  525937842655000   \n",
              "\n",
              "                Stocks MarketId  Rank  \n",
              "Date                                   \n",
              "2021-01-21  5969782550      STK     1  "
            ],
            "text/html": [
              "\n",
              "  <div id=\"df-97c9d9c5-0371-403d-bdfd-aae92512d16d\">\n",
              "    <div class=\"colab-df-container\">\n",
              "      <div>\n",
              "<style scoped>\n",
              "    .dataframe tbody tr th:only-of-type {\n",
              "        vertical-align: middle;\n",
              "    }\n",
              "\n",
              "    .dataframe tbody tr th {\n",
              "        vertical-align: top;\n",
              "    }\n",
              "\n",
              "    .dataframe thead th {\n",
              "        text-align: right;\n",
              "    }\n",
              "</style>\n",
              "<table border=\"1\" class=\"dataframe\">\n",
              "  <thead>\n",
              "    <tr style=\"text-align: right;\">\n",
              "      <th></th>\n",
              "      <th>Code</th>\n",
              "      <th>Name</th>\n",
              "      <th>Market</th>\n",
              "      <th>Dept</th>\n",
              "      <th>Close</th>\n",
              "      <th>ChangeCode</th>\n",
              "      <th>Changes</th>\n",
              "      <th>ChagesRatio</th>\n",
              "      <th>Open</th>\n",
              "      <th>High</th>\n",
              "      <th>Low</th>\n",
              "      <th>Volume</th>\n",
              "      <th>Amount</th>\n",
              "      <th>Marcap</th>\n",
              "      <th>Stocks</th>\n",
              "      <th>MarketId</th>\n",
              "      <th>Rank</th>\n",
              "    </tr>\n",
              "    <tr>\n",
              "      <th>Date</th>\n",
              "      <th></th>\n",
              "      <th></th>\n",
              "      <th></th>\n",
              "      <th></th>\n",
              "      <th></th>\n",
              "      <th></th>\n",
              "      <th></th>\n",
              "      <th></th>\n",
              "      <th></th>\n",
              "      <th></th>\n",
              "      <th></th>\n",
              "      <th></th>\n",
              "      <th></th>\n",
              "      <th></th>\n",
              "      <th></th>\n",
              "      <th></th>\n",
              "      <th></th>\n",
              "    </tr>\n",
              "  </thead>\n",
              "  <tbody>\n",
              "    <tr>\n",
              "      <th>2021-01-21</th>\n",
              "      <td>005930</td>\n",
              "      <td>삼성전자</td>\n",
              "      <td>KOSPI</td>\n",
              "      <td>NaN</td>\n",
              "      <td>88100</td>\n",
              "      <td>1</td>\n",
              "      <td>900</td>\n",
              "      <td>1.03</td>\n",
              "      <td>87500</td>\n",
              "      <td>88600</td>\n",
              "      <td>86500</td>\n",
              "      <td>25318011</td>\n",
              "      <td>2211209788500</td>\n",
              "      <td>525937842655000</td>\n",
              "      <td>5969782550</td>\n",
              "      <td>STK</td>\n",
              "      <td>1</td>\n",
              "    </tr>\n",
              "  </tbody>\n",
              "</table>\n",
              "</div>\n",
              "      <button class=\"colab-df-convert\" onclick=\"convertToInteractive('df-97c9d9c5-0371-403d-bdfd-aae92512d16d')\"\n",
              "              title=\"Convert this dataframe to an interactive table.\"\n",
              "              style=\"display:none;\">\n",
              "        \n",
              "  <svg xmlns=\"http://www.w3.org/2000/svg\" height=\"24px\"viewBox=\"0 0 24 24\"\n",
              "       width=\"24px\">\n",
              "    <path d=\"M0 0h24v24H0V0z\" fill=\"none\"/>\n",
              "    <path d=\"M18.56 5.44l.94 2.06.94-2.06 2.06-.94-2.06-.94-.94-2.06-.94 2.06-2.06.94zm-11 1L8.5 8.5l.94-2.06 2.06-.94-2.06-.94L8.5 2.5l-.94 2.06-2.06.94zm10 10l.94 2.06.94-2.06 2.06-.94-2.06-.94-.94-2.06-.94 2.06-2.06.94z\"/><path d=\"M17.41 7.96l-1.37-1.37c-.4-.4-.92-.59-1.43-.59-.52 0-1.04.2-1.43.59L10.3 9.45l-7.72 7.72c-.78.78-.78 2.05 0 2.83L4 21.41c.39.39.9.59 1.41.59.51 0 1.02-.2 1.41-.59l7.78-7.78 2.81-2.81c.8-.78.8-2.07 0-2.86zM5.41 20L4 18.59l7.72-7.72 1.47 1.35L5.41 20z\"/>\n",
              "  </svg>\n",
              "      </button>\n",
              "      \n",
              "  <style>\n",
              "    .colab-df-container {\n",
              "      display:flex;\n",
              "      flex-wrap:wrap;\n",
              "      gap: 12px;\n",
              "    }\n",
              "\n",
              "    .colab-df-convert {\n",
              "      background-color: #E8F0FE;\n",
              "      border: none;\n",
              "      border-radius: 50%;\n",
              "      cursor: pointer;\n",
              "      display: none;\n",
              "      fill: #1967D2;\n",
              "      height: 32px;\n",
              "      padding: 0 0 0 0;\n",
              "      width: 32px;\n",
              "    }\n",
              "\n",
              "    .colab-df-convert:hover {\n",
              "      background-color: #E2EBFA;\n",
              "      box-shadow: 0px 1px 2px rgba(60, 64, 67, 0.3), 0px 1px 3px 1px rgba(60, 64, 67, 0.15);\n",
              "      fill: #174EA6;\n",
              "    }\n",
              "\n",
              "    [theme=dark] .colab-df-convert {\n",
              "      background-color: #3B4455;\n",
              "      fill: #D2E3FC;\n",
              "    }\n",
              "\n",
              "    [theme=dark] .colab-df-convert:hover {\n",
              "      background-color: #434B5C;\n",
              "      box-shadow: 0px 1px 3px 1px rgba(0, 0, 0, 0.15);\n",
              "      filter: drop-shadow(0px 1px 2px rgba(0, 0, 0, 0.3));\n",
              "      fill: #FFFFFF;\n",
              "    }\n",
              "  </style>\n",
              "\n",
              "      <script>\n",
              "        const buttonEl =\n",
              "          document.querySelector('#df-97c9d9c5-0371-403d-bdfd-aae92512d16d button.colab-df-convert');\n",
              "        buttonEl.style.display =\n",
              "          google.colab.kernel.accessAllowed ? 'block' : 'none';\n",
              "\n",
              "        async function convertToInteractive(key) {\n",
              "          const element = document.querySelector('#df-97c9d9c5-0371-403d-bdfd-aae92512d16d');\n",
              "          const dataTable =\n",
              "            await google.colab.kernel.invokeFunction('convertToInteractive',\n",
              "                                                     [key], {});\n",
              "          if (!dataTable) return;\n",
              "\n",
              "          const docLinkHtml = 'Like what you see? Visit the ' +\n",
              "            '<a target=\"_blank\" href=https://colab.research.google.com/notebooks/data_table.ipynb>data table notebook</a>'\n",
              "            + ' to learn more about interactive tables.';\n",
              "          element.innerHTML = '';\n",
              "          dataTable['output_type'] = 'display_data';\n",
              "          await google.colab.output.renderOutput(dataTable, element);\n",
              "          const docLink = document.createElement('div');\n",
              "          docLink.innerHTML = docLinkHtml;\n",
              "          element.appendChild(docLink);\n",
              "        }\n",
              "      </script>\n",
              "    </div>\n",
              "  </div>\n",
              "  "
            ]
          },
          "metadata": {},
          "execution_count": 222
        }
      ]
    },
    {
      "cell_type": "code",
      "source": [
        "df_005930[\"Stocks\"].iat[0]"
      ],
      "metadata": {
        "colab": {
          "base_uri": "https://localhost:8080/"
        },
        "id": "QVW793sjm8zx",
        "outputId": "11970530-bd60-4449-c4c4-e77081654e8f"
      },
      "execution_count": 223,
      "outputs": [
        {
          "output_type": "execute_result",
          "data": {
            "text/plain": [
              "5969782550"
            ]
          },
          "metadata": {},
          "execution_count": 223
        }
      ]
    },
    {
      "cell_type": "code",
      "source": [
        "# 시가총액/종가 로 계산하면 맞게 나옴\n",
        "stocks_005930 = int(df_005930[\"Marcap\"]/df_005930[\"Close\"])\n",
        "stocks_005930"
      ],
      "metadata": {
        "colab": {
          "base_uri": "https://localhost:8080/"
        },
        "id": "3vJE57nknFOI",
        "outputId": "4bb4c5e1-ad22-4b3b-b9c2-7a29f9aba4eb"
      },
      "execution_count": 224,
      "outputs": [
        {
          "output_type": "execute_result",
          "data": {
            "text/plain": [
              "5969782550"
            ]
          },
          "metadata": {},
          "execution_count": 224
        }
      ]
    },
    {
      "cell_type": "code",
      "source": [
        "# 삼성전자우\n",
        "df_005935 = marcap_data(\"2021-01-21\", code=\"005935\")\n",
        "df_005935 = df_005935.assign(Amount=df_005935[\"Amount\"].astype(\"int64\"),\n",
        "                             Marcap=df_005935[\"Marcap\"].astype(\"int64\"))\n",
        "df_005935"
      ],
      "metadata": {
        "colab": {
          "base_uri": "https://localhost:8080/",
          "height": 112
        },
        "id": "0aSJhUYinIg4",
        "outputId": "86c6727e-ef04-4621-fad3-a385365a02be"
      },
      "execution_count": 225,
      "outputs": [
        {
          "output_type": "execute_result",
          "data": {
            "text/plain": [
              "              Code   Name Market Dept  Close ChangeCode  Changes  ChagesRatio  \\\n",
              "Date                                                                            \n",
              "2021-01-21  005935  삼성전자우  KOSPI  NaN  77600          1      800         1.04   \n",
              "\n",
              "             Open   High    Low   Volume        Amount          Marcap  \\\n",
              "Date                                                                     \n",
              "2021-01-21  77500  77800  76800  2512634  194360911300  63856007920000   \n",
              "\n",
              "               Stocks MarketId  Rank  \n",
              "Date                                  \n",
              "2021-01-21  822886700      STK     4  "
            ],
            "text/html": [
              "\n",
              "  <div id=\"df-08ab0409-f0bf-41c0-ac67-c9ec612eb411\">\n",
              "    <div class=\"colab-df-container\">\n",
              "      <div>\n",
              "<style scoped>\n",
              "    .dataframe tbody tr th:only-of-type {\n",
              "        vertical-align: middle;\n",
              "    }\n",
              "\n",
              "    .dataframe tbody tr th {\n",
              "        vertical-align: top;\n",
              "    }\n",
              "\n",
              "    .dataframe thead th {\n",
              "        text-align: right;\n",
              "    }\n",
              "</style>\n",
              "<table border=\"1\" class=\"dataframe\">\n",
              "  <thead>\n",
              "    <tr style=\"text-align: right;\">\n",
              "      <th></th>\n",
              "      <th>Code</th>\n",
              "      <th>Name</th>\n",
              "      <th>Market</th>\n",
              "      <th>Dept</th>\n",
              "      <th>Close</th>\n",
              "      <th>ChangeCode</th>\n",
              "      <th>Changes</th>\n",
              "      <th>ChagesRatio</th>\n",
              "      <th>Open</th>\n",
              "      <th>High</th>\n",
              "      <th>Low</th>\n",
              "      <th>Volume</th>\n",
              "      <th>Amount</th>\n",
              "      <th>Marcap</th>\n",
              "      <th>Stocks</th>\n",
              "      <th>MarketId</th>\n",
              "      <th>Rank</th>\n",
              "    </tr>\n",
              "    <tr>\n",
              "      <th>Date</th>\n",
              "      <th></th>\n",
              "      <th></th>\n",
              "      <th></th>\n",
              "      <th></th>\n",
              "      <th></th>\n",
              "      <th></th>\n",
              "      <th></th>\n",
              "      <th></th>\n",
              "      <th></th>\n",
              "      <th></th>\n",
              "      <th></th>\n",
              "      <th></th>\n",
              "      <th></th>\n",
              "      <th></th>\n",
              "      <th></th>\n",
              "      <th></th>\n",
              "      <th></th>\n",
              "    </tr>\n",
              "  </thead>\n",
              "  <tbody>\n",
              "    <tr>\n",
              "      <th>2021-01-21</th>\n",
              "      <td>005935</td>\n",
              "      <td>삼성전자우</td>\n",
              "      <td>KOSPI</td>\n",
              "      <td>NaN</td>\n",
              "      <td>77600</td>\n",
              "      <td>1</td>\n",
              "      <td>800</td>\n",
              "      <td>1.04</td>\n",
              "      <td>77500</td>\n",
              "      <td>77800</td>\n",
              "      <td>76800</td>\n",
              "      <td>2512634</td>\n",
              "      <td>194360911300</td>\n",
              "      <td>63856007920000</td>\n",
              "      <td>822886700</td>\n",
              "      <td>STK</td>\n",
              "      <td>4</td>\n",
              "    </tr>\n",
              "  </tbody>\n",
              "</table>\n",
              "</div>\n",
              "      <button class=\"colab-df-convert\" onclick=\"convertToInteractive('df-08ab0409-f0bf-41c0-ac67-c9ec612eb411')\"\n",
              "              title=\"Convert this dataframe to an interactive table.\"\n",
              "              style=\"display:none;\">\n",
              "        \n",
              "  <svg xmlns=\"http://www.w3.org/2000/svg\" height=\"24px\"viewBox=\"0 0 24 24\"\n",
              "       width=\"24px\">\n",
              "    <path d=\"M0 0h24v24H0V0z\" fill=\"none\"/>\n",
              "    <path d=\"M18.56 5.44l.94 2.06.94-2.06 2.06-.94-2.06-.94-.94-2.06-.94 2.06-2.06.94zm-11 1L8.5 8.5l.94-2.06 2.06-.94-2.06-.94L8.5 2.5l-.94 2.06-2.06.94zm10 10l.94 2.06.94-2.06 2.06-.94-2.06-.94-.94-2.06-.94 2.06-2.06.94z\"/><path d=\"M17.41 7.96l-1.37-1.37c-.4-.4-.92-.59-1.43-.59-.52 0-1.04.2-1.43.59L10.3 9.45l-7.72 7.72c-.78.78-.78 2.05 0 2.83L4 21.41c.39.39.9.59 1.41.59.51 0 1.02-.2 1.41-.59l7.78-7.78 2.81-2.81c.8-.78.8-2.07 0-2.86zM5.41 20L4 18.59l7.72-7.72 1.47 1.35L5.41 20z\"/>\n",
              "  </svg>\n",
              "      </button>\n",
              "      \n",
              "  <style>\n",
              "    .colab-df-container {\n",
              "      display:flex;\n",
              "      flex-wrap:wrap;\n",
              "      gap: 12px;\n",
              "    }\n",
              "\n",
              "    .colab-df-convert {\n",
              "      background-color: #E8F0FE;\n",
              "      border: none;\n",
              "      border-radius: 50%;\n",
              "      cursor: pointer;\n",
              "      display: none;\n",
              "      fill: #1967D2;\n",
              "      height: 32px;\n",
              "      padding: 0 0 0 0;\n",
              "      width: 32px;\n",
              "    }\n",
              "\n",
              "    .colab-df-convert:hover {\n",
              "      background-color: #E2EBFA;\n",
              "      box-shadow: 0px 1px 2px rgba(60, 64, 67, 0.3), 0px 1px 3px 1px rgba(60, 64, 67, 0.15);\n",
              "      fill: #174EA6;\n",
              "    }\n",
              "\n",
              "    [theme=dark] .colab-df-convert {\n",
              "      background-color: #3B4455;\n",
              "      fill: #D2E3FC;\n",
              "    }\n",
              "\n",
              "    [theme=dark] .colab-df-convert:hover {\n",
              "      background-color: #434B5C;\n",
              "      box-shadow: 0px 1px 3px 1px rgba(0, 0, 0, 0.15);\n",
              "      filter: drop-shadow(0px 1px 2px rgba(0, 0, 0, 0.3));\n",
              "      fill: #FFFFFF;\n",
              "    }\n",
              "  </style>\n",
              "\n",
              "      <script>\n",
              "        const buttonEl =\n",
              "          document.querySelector('#df-08ab0409-f0bf-41c0-ac67-c9ec612eb411 button.colab-df-convert');\n",
              "        buttonEl.style.display =\n",
              "          google.colab.kernel.accessAllowed ? 'block' : 'none';\n",
              "\n",
              "        async function convertToInteractive(key) {\n",
              "          const element = document.querySelector('#df-08ab0409-f0bf-41c0-ac67-c9ec612eb411');\n",
              "          const dataTable =\n",
              "            await google.colab.kernel.invokeFunction('convertToInteractive',\n",
              "                                                     [key], {});\n",
              "          if (!dataTable) return;\n",
              "\n",
              "          const docLinkHtml = 'Like what you see? Visit the ' +\n",
              "            '<a target=\"_blank\" href=https://colab.research.google.com/notebooks/data_table.ipynb>data table notebook</a>'\n",
              "            + ' to learn more about interactive tables.';\n",
              "          element.innerHTML = '';\n",
              "          dataTable['output_type'] = 'display_data';\n",
              "          await google.colab.output.renderOutput(dataTable, element);\n",
              "          const docLink = document.createElement('div');\n",
              "          docLink.innerHTML = docLinkHtml;\n",
              "          element.appendChild(docLink);\n",
              "        }\n",
              "      </script>\n",
              "    </div>\n",
              "  </div>\n",
              "  "
            ]
          },
          "metadata": {},
          "execution_count": 225
        }
      ]
    },
    {
      "cell_type": "code",
      "source": [
        "df_005935[\"Stocks\"].iat[0]"
      ],
      "metadata": {
        "colab": {
          "base_uri": "https://localhost:8080/"
        },
        "id": "kw99RfpCnMdA",
        "outputId": "3c089f8a-bfd3-43ba-b5fa-dcb6e33cd67e"
      },
      "execution_count": 226,
      "outputs": [
        {
          "output_type": "execute_result",
          "data": {
            "text/plain": [
              "822886700"
            ]
          },
          "metadata": {},
          "execution_count": 226
        }
      ]
    },
    {
      "cell_type": "code",
      "source": [
        "stocks_005935 = int(df_005935[\"Marcap\"]/df_005935[\"Close\"])\n",
        "stocks_005935"
      ],
      "metadata": {
        "colab": {
          "base_uri": "https://localhost:8080/"
        },
        "id": "-ey0b2RxnRmW",
        "outputId": "d3fe06b5-b9fe-4e0b-c914-b3630e548b27"
      },
      "execution_count": 227,
      "outputs": [
        {
          "output_type": "execute_result",
          "data": {
            "text/plain": [
              "822886700"
            ]
          },
          "metadata": {},
          "execution_count": 227
        }
      ]
    },
    {
      "cell_type": "code",
      "source": [
        "total_stocks = stocks_005930 + stocks_005935\n",
        "total_stocks"
      ],
      "metadata": {
        "colab": {
          "base_uri": "https://localhost:8080/"
        },
        "id": "Yed77uF5nUxv",
        "outputId": "8c88fa9a-d445-4334-a325-f7975acc8ad4"
      },
      "execution_count": 228,
      "outputs": [
        {
          "output_type": "execute_result",
          "data": {
            "text/plain": [
              "6792669250"
            ]
          },
          "metadata": {},
          "execution_count": 228
        }
      ]
    },
    {
      "cell_type": "code",
      "source": [
        "# 지표계산\n",
        "\n",
        "EPS = profit/total_stocks\n",
        "PER = df_005930[\"Close\"].iat[0]/EPS\n",
        "print(\"EPS: {}, PER: {}\".format(int(round(EPS)), round(PER, 2)))"
      ],
      "metadata": {
        "colab": {
          "base_uri": "https://localhost:8080/"
        },
        "id": "9QMh9H9enbE5",
        "outputId": "7fe621b6-827f-4272-f3f2-0665ea62cb2c"
      },
      "execution_count": 229,
      "outputs": [
        {
          "output_type": "stream",
          "name": "stdout",
          "text": [
            "EPS: 3662, PER: 24.06\n"
          ]
        }
      ]
    },
    {
      "cell_type": "code",
      "source": [
        "BPS = equity/total_stocks\n",
        "PBR = df_005930[\"Close\"].iat[0]/BPS\n",
        "print(\"BPS: {}, PBR: {}\".format(int(round(BPS)), round(PBR, 2)))"
      ],
      "metadata": {
        "colab": {
          "base_uri": "https://localhost:8080/"
        },
        "id": "L5k_437KnhZ-",
        "outputId": "36e54315-8cda-44a6-af00-8c40700a672c"
      },
      "execution_count": 230,
      "outputs": [
        {
          "output_type": "stream",
          "name": "stdout",
          "text": [
            "BPS: 40652, PBR: 2.17\n"
          ]
        }
      ]
    },
    {
      "cell_type": "code",
      "source": [
        "ROE = PBR/PER\n",
        "ROA = profit/assets\n",
        "print(\"ROE: {}%, ROA: {}%\".format(round(ROE*100, 2), round(ROA*100, 2)))"
      ],
      "metadata": {
        "colab": {
          "base_uri": "https://localhost:8080/"
        },
        "id": "iOyCgj8ynmWB",
        "outputId": "d33c6f94-24a0-435b-b890-5a917cf45b20"
      },
      "execution_count": 231,
      "outputs": [
        {
          "output_type": "stream",
          "name": "stdout",
          "text": [
            "ROE: 9.01%, ROA: 6.62%\n"
          ]
        }
      ]
    }
  ]
}