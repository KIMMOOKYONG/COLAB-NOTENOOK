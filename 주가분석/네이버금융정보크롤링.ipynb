{
  "nbformat": 4,
  "nbformat_minor": 0,
  "metadata": {
    "colab": {
      "name": "네이버금융정보수집.ipynb",
      "provenance": [],
      "collapsed_sections": [
        "4XlEpawL9SXw",
        "z-7UHrEf-tWb",
        "ZEy7SXI2-v4O",
        "-5O5sKt-GyFt"
      ],
      "authorship_tag": "ABX9TyNTTtbOtbjSdHoNaPM+SYSx",
      "include_colab_link": true
    },
    "kernelspec": {
      "name": "python3",
      "display_name": "Python 3"
    },
    "language_info": {
      "name": "python"
    }
  },
  "cells": [
    {
      "cell_type": "markdown",
      "metadata": {
        "id": "view-in-github",
        "colab_type": "text"
      },
      "source": [
        "<a href=\"https://colab.research.google.com/github/KIMMOOKYONG/COLAB-NOTENOOK/blob/main/%EB%84%A4%EC%9D%B4%EB%B2%84%EA%B8%88%EC%9C%B5%EC%A0%95%EB%B3%B4%EC%88%98%EC%A7%91.ipynb\" target=\"_parent\"><img src=\"https://colab.research.google.com/assets/colab-badge.svg\" alt=\"Open In Colab\"/></a>"
      ]
    },
    {
      "cell_type": "markdown",
      "source": [
        "# 참조"
      ],
      "metadata": {
        "id": "rlNOa6A4B0Hi"
      }
    },
    {
      "cell_type": "code",
      "source": [
        "# https://bigdata-doctrine.tistory.com/3\n"
      ],
      "metadata": {
        "id": "aq2IpqXKB1Xa"
      },
      "execution_count": null,
      "outputs": []
    },
    {
      "cell_type": "markdown",
      "source": [
        "# 변수 설정"
      ],
      "metadata": {
        "id": "6L0brZXfoynh"
      }
    },
    {
      "cell_type": "code",
      "source": [
        "# 현재일 기준으로 코스피에 상장되어 있는 주식의 이름과 티커 수집\n",
        "# 수집 기준일 설정\n",
        "today = datetime.today().strftime(\"%Y%m%d\")\n",
        "\n",
        "# 네이버 금융 웹페이지에서 수집할 데이터의 CSS Selector 설정하기\n",
        "per_selector = \"#_per\"\n",
        "pbr_selector = \"#_pbr\"\n",
        "eps_selector = \"#_pbr\"\n",
        "# 배당수익률\n",
        "dividend_yield_selector = \"#_dvr\"\n",
        "\n",
        "# 크롤링 데이터를 저장할 리스트 변수 선언\n",
        "pers = []\n",
        "pbrs = []\n",
        "# 배당수익률\n",
        "dividend_yields = []\n",
        "\n",
        "tickers = None\n",
        "symbols = None"
      ],
      "metadata": {
        "id": "FoJao58fo1PI"
      },
      "execution_count": null,
      "outputs": []
    },
    {
      "cell_type": "markdown",
      "source": [
        "# 모듈 설치"
      ],
      "metadata": {
        "id": "4XlEpawL9SXw"
      }
    },
    {
      "cell_type": "code",
      "execution_count": null,
      "metadata": {
        "colab": {
          "base_uri": "https://localhost:8080/"
        },
        "id": "rzOjVv0y860u",
        "outputId": "9525a8db-5bcb-4832-a087-1a5077c23c14"
      },
      "outputs": [
        {
          "output_type": "stream",
          "name": "stdout",
          "text": [
            "Looking in indexes: https://pypi.org/simple, https://us-python.pkg.dev/colab-wheels/public/simple/\n",
            "Collecting pykrx\n",
            "  Downloading pykrx-1.0.37-py3-none-any.whl (97 kB)\n",
            "\u001b[K     |████████████████████████████████| 97 kB 3.2 MB/s \n",
            "\u001b[?25hRequirement already satisfied: xlrd in /usr/local/lib/python3.7/dist-packages (from pykrx) (1.1.0)\n",
            "Requirement already satisfied: numpy in /usr/local/lib/python3.7/dist-packages (from pykrx) (1.21.6)\n",
            "Collecting deprecated\n",
            "  Downloading Deprecated-1.2.13-py2.py3-none-any.whl (9.6 kB)\n",
            "Requirement already satisfied: requests in /usr/local/lib/python3.7/dist-packages (from pykrx) (2.23.0)\n",
            "Collecting datetime\n",
            "  Downloading DateTime-4.4-py2.py3-none-any.whl (51 kB)\n",
            "\u001b[K     |████████████████████████████████| 51 kB 281 kB/s \n",
            "\u001b[?25hRequirement already satisfied: pandas in /usr/local/lib/python3.7/dist-packages (from pykrx) (1.3.5)\n",
            "Collecting zope.interface\n",
            "  Downloading zope.interface-5.4.0-cp37-cp37m-manylinux2010_x86_64.whl (251 kB)\n",
            "\u001b[K     |████████████████████████████████| 251 kB 42.5 MB/s \n",
            "\u001b[?25hRequirement already satisfied: pytz in /usr/local/lib/python3.7/dist-packages (from datetime->pykrx) (2022.1)\n",
            "Requirement already satisfied: wrapt<2,>=1.10 in /usr/local/lib/python3.7/dist-packages (from deprecated->pykrx) (1.14.1)\n",
            "Requirement already satisfied: python-dateutil>=2.7.3 in /usr/local/lib/python3.7/dist-packages (from pandas->pykrx) (2.8.2)\n",
            "Requirement already satisfied: six>=1.5 in /usr/local/lib/python3.7/dist-packages (from python-dateutil>=2.7.3->pandas->pykrx) (1.15.0)\n",
            "Requirement already satisfied: idna<3,>=2.5 in /usr/local/lib/python3.7/dist-packages (from requests->pykrx) (2.10)\n",
            "Requirement already satisfied: chardet<4,>=3.0.2 in /usr/local/lib/python3.7/dist-packages (from requests->pykrx) (3.0.4)\n",
            "Requirement already satisfied: urllib3!=1.25.0,!=1.25.1,<1.26,>=1.21.1 in /usr/local/lib/python3.7/dist-packages (from requests->pykrx) (1.24.3)\n",
            "Requirement already satisfied: certifi>=2017.4.17 in /usr/local/lib/python3.7/dist-packages (from requests->pykrx) (2022.6.15)\n",
            "Requirement already satisfied: setuptools in /usr/local/lib/python3.7/dist-packages (from zope.interface->datetime->pykrx) (57.4.0)\n",
            "Installing collected packages: zope.interface, deprecated, datetime, pykrx\n",
            "Successfully installed datetime-4.4 deprecated-1.2.13 pykrx-1.0.37 zope.interface-5.4.0\n"
          ]
        }
      ],
      "source": [
        "!pip install pykrx"
      ]
    },
    {
      "cell_type": "markdown",
      "source": [
        "# 라이브러리 로딩"
      ],
      "metadata": {
        "id": "z-7UHrEf-tWb"
      }
    },
    {
      "cell_type": "code",
      "source": [
        "import pandas as pd \n",
        "import numpy as np\n",
        "from pykrx import stock\n",
        "from datetime import datetime\n",
        "import requests\n",
        "from bs4 import BeautifulSoup\n",
        "from tqdm import tqdm"
      ],
      "metadata": {
        "id": "wbCo10n889tc"
      },
      "execution_count": null,
      "outputs": []
    },
    {
      "cell_type": "markdown",
      "source": [
        "# 주식 티커와 주식 이름 데이터 수집"
      ],
      "metadata": {
        "id": "ZEy7SXI2-v4O"
      }
    },
    {
      "cell_type": "code",
      "source": [
        "# 터커 목록 수집\n",
        "# 파라미터\n",
        "# date - 날짜, 문자열, 예시 20220703\n",
        "# market - \"KOSPI\", \"KOSDAQ\", \"KONEX\", \"ALL\"\n",
        "ticker_list = stock.get_market_ticker_list(date = today, market=\"KOSPI\")\n",
        "\n",
        "# 종목명 저장\n",
        "symbol_list = []\n",
        "# 티커에 매핑되는 종목명 수집\n",
        "for ticker in ticker_list:\n",
        "    symbol = stock.get_market_ticker_name(ticker)\n",
        "    symbol_list.append(symbol)"
      ],
      "metadata": {
        "id": "MqQWXaOj92kz"
      },
      "execution_count": null,
      "outputs": []
    },
    {
      "cell_type": "code",
      "source": [
        "# 수집 데이터 갯수 확인(티커 숫자, 종목명 숫자)\n",
        "len(ticker_list), len(symbol_list)"
      ],
      "metadata": {
        "colab": {
          "base_uri": "https://localhost:8080/"
        },
        "id": "bUp9-S4M-IVH",
        "outputId": "c490d28b-6e5d-4221-ef5f-a084ba206387"
      },
      "execution_count": null,
      "outputs": [
        {
          "output_type": "execute_result",
          "data": {
            "text/plain": [
              "(941, 941)"
            ]
          },
          "metadata": {},
          "execution_count": 7
        }
      ]
    },
    {
      "cell_type": "markdown",
      "source": [
        "# 크롤링 모듈 설치"
      ],
      "metadata": {
        "id": "-5O5sKt-GyFt"
      }
    },
    {
      "cell_type": "code",
      "source": [
        "!pip install beautifulsoup4 "
      ],
      "metadata": {
        "colab": {
          "base_uri": "https://localhost:8080/"
        },
        "id": "59s7zO2vElZh",
        "outputId": "06497a83-4c43-4abb-ef82-13adb563febd"
      },
      "execution_count": null,
      "outputs": [
        {
          "output_type": "stream",
          "name": "stdout",
          "text": [
            "Looking in indexes: https://pypi.org/simple, https://us-python.pkg.dev/colab-wheels/public/simple/\n",
            "Requirement already satisfied: beautifulsoup4 in /usr/local/lib/python3.7/dist-packages (4.6.3)\n"
          ]
        }
      ]
    },
    {
      "cell_type": "markdown",
      "source": [
        "# PER, PBR, 배당수익률 데이터 크롤링"
      ],
      "metadata": {
        "id": "SihlaT3RG2eq"
      }
    },
    {
      "cell_type": "code",
      "source": [
        "print(ticker_list[:10])\n",
        "print(symbol_list[:10])\n",
        "tickers = ticker_list[:10]\n",
        "symbols = symbol_list[:10]"
      ],
      "metadata": {
        "colab": {
          "base_uri": "https://localhost:8080/"
        },
        "id": "4gU8vx_mFriY",
        "outputId": "61ec9ab0-6428-4b2d-a883-4d0b73d72efe"
      },
      "execution_count": null,
      "outputs": [
        {
          "output_type": "stream",
          "name": "stdout",
          "text": [
            "['095570', '006840', '027410', '282330', '138930', '001460', '001465', '001040', '079160', '00104K']\n",
            "['AJ네트웍스', 'AK홀딩스', 'BGF', 'BGF리테일', 'BNK금융지주', 'BYC', 'BYC우', 'CJ', 'CJ CGV', 'CJ4우(전환)']\n"
          ]
        }
      ]
    },
    {
      "cell_type": "code",
      "source": [
        "for ticker in tqdm(tickers):\n",
        "    url = f\"https://finance.naver.com/item/main.nhn?code={ticker}\"\n",
        "    html = requests.get(url, headers={'User-agent':'Mozilla/5.0'})\n",
        "    soup = BeautifulSoup(html.text, \"lxml\")\n",
        "    per = soup.select(per_selector)\n",
        "    pbr = soup.select(pbr_selector)\n",
        "    dividend_yield = soup.select(dividend_yield_selector)\n",
        "\n",
        "    if not per:  # 리스트가 비어있을 경우 None으로 변환\n",
        "        per = [None]\n",
        "    for pe in per:\n",
        "        if pe != None:\n",
        "            per_text = pe.text\n",
        "            per_text = per_text.replace(\",\", \"\")  # float변환을 위해 따옴표 제거\n",
        "            pers.append(float(per_text))\n",
        "        else:\n",
        "            per_text = pe\n",
        "            pers.append(per_text)\n",
        "\n",
        "    if not pbr:  # 리스트가 비어있을 경우 None으로 변환\n",
        "        pbr = [None]\n",
        "    for pb in pbr:\n",
        "        if pb != None:\n",
        "            pbr_text = pb.text\n",
        "            pbr_text = pbr_text.replace(\",\", \"\")  # float변환을 위해 따옴표 제거\n",
        "            pbrs.append(float(pbr_text))\n",
        "        else:\n",
        "            pbr_text = pb\n",
        "            pbrs.append(pbr_text)\n",
        "        \n",
        "    if not dividend_yield:  # 리스트가 비어있을 경우 None으로 변환\n",
        "        dividend_yield = [None]\n",
        "    for d in dividend_yield:\n",
        "        if d != None:\n",
        "            dividend_yield_text = d.text\n",
        "            dividend_yield_text = dividend_yield_text.replace(\",\", \"\")  # float변환을 위해 따옴표 제거\n",
        "            dividend_yields.append(float(dividend_yield_text))\n",
        "        else:\n",
        "            dividend_yield_text = d\n",
        "            dividend_yields.append(dividend_yield_text)"
      ],
      "metadata": {
        "id": "V7lUkCTFFd_a",
        "colab": {
          "base_uri": "https://localhost:8080/"
        },
        "outputId": "c8d20a68-87e6-4efb-dc61-b1c8726dff29"
      },
      "execution_count": null,
      "outputs": [
        {
          "output_type": "stream",
          "name": "stderr",
          "text": [
            "100%|██████████| 10/10 [00:09<00:00,  1.03it/s]\n"
          ]
        }
      ]
    },
    {
      "cell_type": "code",
      "source": [
        "print(pers)\n",
        "print(pbrs)\n",
        "print(dividend_yields)"
      ],
      "metadata": {
        "colab": {
          "base_uri": "https://localhost:8080/"
        },
        "id": "ZihxTWKwF0_o",
        "outputId": "a06f498b-d334-4218-878b-50693bccb0ec"
      },
      "execution_count": null,
      "outputs": [
        {
          "output_type": "stream",
          "name": "stdout",
          "text": [
            "[3.65, None, 11.64, 21.14, 2.54, 12.32, 4.77, 8.95, None, 8.15]\n",
            "[0.79, 0.36, 0.26, 4.26, 0.24, 0.7, 0.27, 0.5, 7.84, 0.46]\n",
            "[4.19, 1.26, 2.65, 1.55, 8.21, 0.37, 0.98, 3.0, None, 3.3]\n"
          ]
        }
      ]
    },
    {
      "cell_type": "markdown",
      "source": [
        "# 크롤링 데이터 데이터프레임으로 변환"
      ],
      "metadata": {
        "id": "ubXVkfKJF-xd"
      }
    },
    {
      "cell_type": "code",
      "source": [
        "len(tickers), len(symbols), len(pers), len(pbrs), len(dividend_yields)"
      ],
      "metadata": {
        "colab": {
          "base_uri": "https://localhost:8080/"
        },
        "id": "TtWjCbRCrbpa",
        "outputId": "20987251-4368-482d-ff43-99da82935ae7"
      },
      "execution_count": null,
      "outputs": [
        {
          "output_type": "execute_result",
          "data": {
            "text/plain": [
              "(10, 10, 10, 10, 10)"
            ]
          },
          "metadata": {},
          "execution_count": 29
        }
      ]
    },
    {
      "cell_type": "code",
      "source": [
        "df = pd.DataFrame({\n",
        "    \"ticker\":tickers,\n",
        "    \"symbol\":symbols,\n",
        "    \"per\":pers,\n",
        "    \"pbr\":pbrs,\n",
        "    \"dividend_yield\":dividend_yields\n",
        "})\n",
        "df"
      ],
      "metadata": {
        "id": "CNW3HNUjL1xE",
        "colab": {
          "base_uri": "https://localhost:8080/",
          "height": 363
        },
        "outputId": "9ee784a5-1ae1-48dc-b581-9e55da612c57"
      },
      "execution_count": null,
      "outputs": [
        {
          "output_type": "execute_result",
          "data": {
            "text/plain": [
              "   ticker    symbol    per   pbr  dividend_yield\n",
              "0  095570    AJ네트웍스   3.65  0.79            4.19\n",
              "1  006840     AK홀딩스    NaN  0.36            1.26\n",
              "2  027410       BGF  11.64  0.26            2.65\n",
              "3  282330    BGF리테일  21.14  4.26            1.55\n",
              "4  138930   BNK금융지주   2.54  0.24            8.21\n",
              "5  001460       BYC  12.32  0.70            0.37\n",
              "6  001465      BYC우   4.77  0.27            0.98\n",
              "7  001040        CJ   8.95  0.50            3.00\n",
              "8  079160    CJ CGV    NaN  7.84             NaN\n",
              "9  00104K  CJ4우(전환)   8.15  0.46            3.30"
            ],
            "text/html": [
              "\n",
              "  <div id=\"df-ed06454f-54dd-48b9-b244-3fa1cf6baf8c\">\n",
              "    <div class=\"colab-df-container\">\n",
              "      <div>\n",
              "<style scoped>\n",
              "    .dataframe tbody tr th:only-of-type {\n",
              "        vertical-align: middle;\n",
              "    }\n",
              "\n",
              "    .dataframe tbody tr th {\n",
              "        vertical-align: top;\n",
              "    }\n",
              "\n",
              "    .dataframe thead th {\n",
              "        text-align: right;\n",
              "    }\n",
              "</style>\n",
              "<table border=\"1\" class=\"dataframe\">\n",
              "  <thead>\n",
              "    <tr style=\"text-align: right;\">\n",
              "      <th></th>\n",
              "      <th>ticker</th>\n",
              "      <th>symbol</th>\n",
              "      <th>per</th>\n",
              "      <th>pbr</th>\n",
              "      <th>dividend_yield</th>\n",
              "    </tr>\n",
              "  </thead>\n",
              "  <tbody>\n",
              "    <tr>\n",
              "      <th>0</th>\n",
              "      <td>095570</td>\n",
              "      <td>AJ네트웍스</td>\n",
              "      <td>3.65</td>\n",
              "      <td>0.79</td>\n",
              "      <td>4.19</td>\n",
              "    </tr>\n",
              "    <tr>\n",
              "      <th>1</th>\n",
              "      <td>006840</td>\n",
              "      <td>AK홀딩스</td>\n",
              "      <td>NaN</td>\n",
              "      <td>0.36</td>\n",
              "      <td>1.26</td>\n",
              "    </tr>\n",
              "    <tr>\n",
              "      <th>2</th>\n",
              "      <td>027410</td>\n",
              "      <td>BGF</td>\n",
              "      <td>11.64</td>\n",
              "      <td>0.26</td>\n",
              "      <td>2.65</td>\n",
              "    </tr>\n",
              "    <tr>\n",
              "      <th>3</th>\n",
              "      <td>282330</td>\n",
              "      <td>BGF리테일</td>\n",
              "      <td>21.14</td>\n",
              "      <td>4.26</td>\n",
              "      <td>1.55</td>\n",
              "    </tr>\n",
              "    <tr>\n",
              "      <th>4</th>\n",
              "      <td>138930</td>\n",
              "      <td>BNK금융지주</td>\n",
              "      <td>2.54</td>\n",
              "      <td>0.24</td>\n",
              "      <td>8.21</td>\n",
              "    </tr>\n",
              "    <tr>\n",
              "      <th>5</th>\n",
              "      <td>001460</td>\n",
              "      <td>BYC</td>\n",
              "      <td>12.32</td>\n",
              "      <td>0.70</td>\n",
              "      <td>0.37</td>\n",
              "    </tr>\n",
              "    <tr>\n",
              "      <th>6</th>\n",
              "      <td>001465</td>\n",
              "      <td>BYC우</td>\n",
              "      <td>4.77</td>\n",
              "      <td>0.27</td>\n",
              "      <td>0.98</td>\n",
              "    </tr>\n",
              "    <tr>\n",
              "      <th>7</th>\n",
              "      <td>001040</td>\n",
              "      <td>CJ</td>\n",
              "      <td>8.95</td>\n",
              "      <td>0.50</td>\n",
              "      <td>3.00</td>\n",
              "    </tr>\n",
              "    <tr>\n",
              "      <th>8</th>\n",
              "      <td>079160</td>\n",
              "      <td>CJ CGV</td>\n",
              "      <td>NaN</td>\n",
              "      <td>7.84</td>\n",
              "      <td>NaN</td>\n",
              "    </tr>\n",
              "    <tr>\n",
              "      <th>9</th>\n",
              "      <td>00104K</td>\n",
              "      <td>CJ4우(전환)</td>\n",
              "      <td>8.15</td>\n",
              "      <td>0.46</td>\n",
              "      <td>3.30</td>\n",
              "    </tr>\n",
              "  </tbody>\n",
              "</table>\n",
              "</div>\n",
              "      <button class=\"colab-df-convert\" onclick=\"convertToInteractive('df-ed06454f-54dd-48b9-b244-3fa1cf6baf8c')\"\n",
              "              title=\"Convert this dataframe to an interactive table.\"\n",
              "              style=\"display:none;\">\n",
              "        \n",
              "  <svg xmlns=\"http://www.w3.org/2000/svg\" height=\"24px\"viewBox=\"0 0 24 24\"\n",
              "       width=\"24px\">\n",
              "    <path d=\"M0 0h24v24H0V0z\" fill=\"none\"/>\n",
              "    <path d=\"M18.56 5.44l.94 2.06.94-2.06 2.06-.94-2.06-.94-.94-2.06-.94 2.06-2.06.94zm-11 1L8.5 8.5l.94-2.06 2.06-.94-2.06-.94L8.5 2.5l-.94 2.06-2.06.94zm10 10l.94 2.06.94-2.06 2.06-.94-2.06-.94-.94-2.06-.94 2.06-2.06.94z\"/><path d=\"M17.41 7.96l-1.37-1.37c-.4-.4-.92-.59-1.43-.59-.52 0-1.04.2-1.43.59L10.3 9.45l-7.72 7.72c-.78.78-.78 2.05 0 2.83L4 21.41c.39.39.9.59 1.41.59.51 0 1.02-.2 1.41-.59l7.78-7.78 2.81-2.81c.8-.78.8-2.07 0-2.86zM5.41 20L4 18.59l7.72-7.72 1.47 1.35L5.41 20z\"/>\n",
              "  </svg>\n",
              "      </button>\n",
              "      \n",
              "  <style>\n",
              "    .colab-df-container {\n",
              "      display:flex;\n",
              "      flex-wrap:wrap;\n",
              "      gap: 12px;\n",
              "    }\n",
              "\n",
              "    .colab-df-convert {\n",
              "      background-color: #E8F0FE;\n",
              "      border: none;\n",
              "      border-radius: 50%;\n",
              "      cursor: pointer;\n",
              "      display: none;\n",
              "      fill: #1967D2;\n",
              "      height: 32px;\n",
              "      padding: 0 0 0 0;\n",
              "      width: 32px;\n",
              "    }\n",
              "\n",
              "    .colab-df-convert:hover {\n",
              "      background-color: #E2EBFA;\n",
              "      box-shadow: 0px 1px 2px rgba(60, 64, 67, 0.3), 0px 1px 3px 1px rgba(60, 64, 67, 0.15);\n",
              "      fill: #174EA6;\n",
              "    }\n",
              "\n",
              "    [theme=dark] .colab-df-convert {\n",
              "      background-color: #3B4455;\n",
              "      fill: #D2E3FC;\n",
              "    }\n",
              "\n",
              "    [theme=dark] .colab-df-convert:hover {\n",
              "      background-color: #434B5C;\n",
              "      box-shadow: 0px 1px 3px 1px rgba(0, 0, 0, 0.15);\n",
              "      filter: drop-shadow(0px 1px 2px rgba(0, 0, 0, 0.3));\n",
              "      fill: #FFFFFF;\n",
              "    }\n",
              "  </style>\n",
              "\n",
              "      <script>\n",
              "        const buttonEl =\n",
              "          document.querySelector('#df-ed06454f-54dd-48b9-b244-3fa1cf6baf8c button.colab-df-convert');\n",
              "        buttonEl.style.display =\n",
              "          google.colab.kernel.accessAllowed ? 'block' : 'none';\n",
              "\n",
              "        async function convertToInteractive(key) {\n",
              "          const element = document.querySelector('#df-ed06454f-54dd-48b9-b244-3fa1cf6baf8c');\n",
              "          const dataTable =\n",
              "            await google.colab.kernel.invokeFunction('convertToInteractive',\n",
              "                                                     [key], {});\n",
              "          if (!dataTable) return;\n",
              "\n",
              "          const docLinkHtml = 'Like what you see? Visit the ' +\n",
              "            '<a target=\"_blank\" href=https://colab.research.google.com/notebooks/data_table.ipynb>data table notebook</a>'\n",
              "            + ' to learn more about interactive tables.';\n",
              "          element.innerHTML = '';\n",
              "          dataTable['output_type'] = 'display_data';\n",
              "          await google.colab.output.renderOutput(dataTable, element);\n",
              "          const docLink = document.createElement('div');\n",
              "          docLink.innerHTML = docLinkHtml;\n",
              "          element.appendChild(docLink);\n",
              "        }\n",
              "      </script>\n",
              "    </div>\n",
              "  </div>\n",
              "  "
            ]
          },
          "metadata": {},
          "execution_count": 31
        }
      ]
    },
    {
      "cell_type": "code",
      "source": [
        "# per 오름차순 (NaN 제외)\n",
        "per_ascending = df.sort_values(by=\"per\", ascending=True)\n",
        "per_ascending[per_ascending[\"per\"] != None].head(20)"
      ],
      "metadata": {
        "colab": {
          "base_uri": "https://localhost:8080/",
          "height": 363
        },
        "id": "jvAxz5x4MBSM",
        "outputId": "99168255-1e9b-491b-c9d3-534105d2b590"
      },
      "execution_count": null,
      "outputs": [
        {
          "output_type": "execute_result",
          "data": {
            "text/plain": [
              "   ticker    symbol    per   pbr  dividend_yield\n",
              "4  138930   BNK금융지주   2.54  0.24            8.21\n",
              "0  095570    AJ네트웍스   3.65  0.79            4.19\n",
              "6  001465      BYC우   4.77  0.27            0.98\n",
              "9  00104K  CJ4우(전환)   8.15  0.46            3.30\n",
              "7  001040        CJ   8.95  0.50            3.00\n",
              "2  027410       BGF  11.64  0.26            2.65\n",
              "5  001460       BYC  12.32  0.70            0.37\n",
              "3  282330    BGF리테일  21.14  4.26            1.55\n",
              "1  006840     AK홀딩스    NaN  0.36            1.26\n",
              "8  079160    CJ CGV    NaN  7.84             NaN"
            ],
            "text/html": [
              "\n",
              "  <div id=\"df-ecd04b78-369f-46da-bbde-0c5dd7afec86\">\n",
              "    <div class=\"colab-df-container\">\n",
              "      <div>\n",
              "<style scoped>\n",
              "    .dataframe tbody tr th:only-of-type {\n",
              "        vertical-align: middle;\n",
              "    }\n",
              "\n",
              "    .dataframe tbody tr th {\n",
              "        vertical-align: top;\n",
              "    }\n",
              "\n",
              "    .dataframe thead th {\n",
              "        text-align: right;\n",
              "    }\n",
              "</style>\n",
              "<table border=\"1\" class=\"dataframe\">\n",
              "  <thead>\n",
              "    <tr style=\"text-align: right;\">\n",
              "      <th></th>\n",
              "      <th>ticker</th>\n",
              "      <th>symbol</th>\n",
              "      <th>per</th>\n",
              "      <th>pbr</th>\n",
              "      <th>dividend_yield</th>\n",
              "    </tr>\n",
              "  </thead>\n",
              "  <tbody>\n",
              "    <tr>\n",
              "      <th>4</th>\n",
              "      <td>138930</td>\n",
              "      <td>BNK금융지주</td>\n",
              "      <td>2.54</td>\n",
              "      <td>0.24</td>\n",
              "      <td>8.21</td>\n",
              "    </tr>\n",
              "    <tr>\n",
              "      <th>0</th>\n",
              "      <td>095570</td>\n",
              "      <td>AJ네트웍스</td>\n",
              "      <td>3.65</td>\n",
              "      <td>0.79</td>\n",
              "      <td>4.19</td>\n",
              "    </tr>\n",
              "    <tr>\n",
              "      <th>6</th>\n",
              "      <td>001465</td>\n",
              "      <td>BYC우</td>\n",
              "      <td>4.77</td>\n",
              "      <td>0.27</td>\n",
              "      <td>0.98</td>\n",
              "    </tr>\n",
              "    <tr>\n",
              "      <th>9</th>\n",
              "      <td>00104K</td>\n",
              "      <td>CJ4우(전환)</td>\n",
              "      <td>8.15</td>\n",
              "      <td>0.46</td>\n",
              "      <td>3.30</td>\n",
              "    </tr>\n",
              "    <tr>\n",
              "      <th>7</th>\n",
              "      <td>001040</td>\n",
              "      <td>CJ</td>\n",
              "      <td>8.95</td>\n",
              "      <td>0.50</td>\n",
              "      <td>3.00</td>\n",
              "    </tr>\n",
              "    <tr>\n",
              "      <th>2</th>\n",
              "      <td>027410</td>\n",
              "      <td>BGF</td>\n",
              "      <td>11.64</td>\n",
              "      <td>0.26</td>\n",
              "      <td>2.65</td>\n",
              "    </tr>\n",
              "    <tr>\n",
              "      <th>5</th>\n",
              "      <td>001460</td>\n",
              "      <td>BYC</td>\n",
              "      <td>12.32</td>\n",
              "      <td>0.70</td>\n",
              "      <td>0.37</td>\n",
              "    </tr>\n",
              "    <tr>\n",
              "      <th>3</th>\n",
              "      <td>282330</td>\n",
              "      <td>BGF리테일</td>\n",
              "      <td>21.14</td>\n",
              "      <td>4.26</td>\n",
              "      <td>1.55</td>\n",
              "    </tr>\n",
              "    <tr>\n",
              "      <th>1</th>\n",
              "      <td>006840</td>\n",
              "      <td>AK홀딩스</td>\n",
              "      <td>NaN</td>\n",
              "      <td>0.36</td>\n",
              "      <td>1.26</td>\n",
              "    </tr>\n",
              "    <tr>\n",
              "      <th>8</th>\n",
              "      <td>079160</td>\n",
              "      <td>CJ CGV</td>\n",
              "      <td>NaN</td>\n",
              "      <td>7.84</td>\n",
              "      <td>NaN</td>\n",
              "    </tr>\n",
              "  </tbody>\n",
              "</table>\n",
              "</div>\n",
              "      <button class=\"colab-df-convert\" onclick=\"convertToInteractive('df-ecd04b78-369f-46da-bbde-0c5dd7afec86')\"\n",
              "              title=\"Convert this dataframe to an interactive table.\"\n",
              "              style=\"display:none;\">\n",
              "        \n",
              "  <svg xmlns=\"http://www.w3.org/2000/svg\" height=\"24px\"viewBox=\"0 0 24 24\"\n",
              "       width=\"24px\">\n",
              "    <path d=\"M0 0h24v24H0V0z\" fill=\"none\"/>\n",
              "    <path d=\"M18.56 5.44l.94 2.06.94-2.06 2.06-.94-2.06-.94-.94-2.06-.94 2.06-2.06.94zm-11 1L8.5 8.5l.94-2.06 2.06-.94-2.06-.94L8.5 2.5l-.94 2.06-2.06.94zm10 10l.94 2.06.94-2.06 2.06-.94-2.06-.94-.94-2.06-.94 2.06-2.06.94z\"/><path d=\"M17.41 7.96l-1.37-1.37c-.4-.4-.92-.59-1.43-.59-.52 0-1.04.2-1.43.59L10.3 9.45l-7.72 7.72c-.78.78-.78 2.05 0 2.83L4 21.41c.39.39.9.59 1.41.59.51 0 1.02-.2 1.41-.59l7.78-7.78 2.81-2.81c.8-.78.8-2.07 0-2.86zM5.41 20L4 18.59l7.72-7.72 1.47 1.35L5.41 20z\"/>\n",
              "  </svg>\n",
              "      </button>\n",
              "      \n",
              "  <style>\n",
              "    .colab-df-container {\n",
              "      display:flex;\n",
              "      flex-wrap:wrap;\n",
              "      gap: 12px;\n",
              "    }\n",
              "\n",
              "    .colab-df-convert {\n",
              "      background-color: #E8F0FE;\n",
              "      border: none;\n",
              "      border-radius: 50%;\n",
              "      cursor: pointer;\n",
              "      display: none;\n",
              "      fill: #1967D2;\n",
              "      height: 32px;\n",
              "      padding: 0 0 0 0;\n",
              "      width: 32px;\n",
              "    }\n",
              "\n",
              "    .colab-df-convert:hover {\n",
              "      background-color: #E2EBFA;\n",
              "      box-shadow: 0px 1px 2px rgba(60, 64, 67, 0.3), 0px 1px 3px 1px rgba(60, 64, 67, 0.15);\n",
              "      fill: #174EA6;\n",
              "    }\n",
              "\n",
              "    [theme=dark] .colab-df-convert {\n",
              "      background-color: #3B4455;\n",
              "      fill: #D2E3FC;\n",
              "    }\n",
              "\n",
              "    [theme=dark] .colab-df-convert:hover {\n",
              "      background-color: #434B5C;\n",
              "      box-shadow: 0px 1px 3px 1px rgba(0, 0, 0, 0.15);\n",
              "      filter: drop-shadow(0px 1px 2px rgba(0, 0, 0, 0.3));\n",
              "      fill: #FFFFFF;\n",
              "    }\n",
              "  </style>\n",
              "\n",
              "      <script>\n",
              "        const buttonEl =\n",
              "          document.querySelector('#df-ecd04b78-369f-46da-bbde-0c5dd7afec86 button.colab-df-convert');\n",
              "        buttonEl.style.display =\n",
              "          google.colab.kernel.accessAllowed ? 'block' : 'none';\n",
              "\n",
              "        async function convertToInteractive(key) {\n",
              "          const element = document.querySelector('#df-ecd04b78-369f-46da-bbde-0c5dd7afec86');\n",
              "          const dataTable =\n",
              "            await google.colab.kernel.invokeFunction('convertToInteractive',\n",
              "                                                     [key], {});\n",
              "          if (!dataTable) return;\n",
              "\n",
              "          const docLinkHtml = 'Like what you see? Visit the ' +\n",
              "            '<a target=\"_blank\" href=https://colab.research.google.com/notebooks/data_table.ipynb>data table notebook</a>'\n",
              "            + ' to learn more about interactive tables.';\n",
              "          element.innerHTML = '';\n",
              "          dataTable['output_type'] = 'display_data';\n",
              "          await google.colab.output.renderOutput(dataTable, element);\n",
              "          const docLink = document.createElement('div');\n",
              "          docLink.innerHTML = docLinkHtml;\n",
              "          element.appendChild(docLink);\n",
              "        }\n",
              "      </script>\n",
              "    </div>\n",
              "  </div>\n",
              "  "
            ]
          },
          "metadata": {},
          "execution_count": 32
        }
      ]
    },
    {
      "cell_type": "code",
      "source": [
        "# pbr 오름차순 (NaN 제외)\n",
        "pbr_ascending = df.sort_values(by=\"pbr\", ascending=True)\n",
        "pbr_ascending[pbr_ascending[\"pbr\"] != None].head(20)"
      ],
      "metadata": {
        "colab": {
          "base_uri": "https://localhost:8080/",
          "height": 363
        },
        "id": "X2PERXWtMS3c",
        "outputId": "3a530395-fac2-4fe6-8d02-332d4723f685"
      },
      "execution_count": null,
      "outputs": [
        {
          "output_type": "execute_result",
          "data": {
            "text/plain": [
              "   ticker    symbol    per   pbr  dividend_yield\n",
              "4  138930   BNK금융지주   2.54  0.24            8.21\n",
              "2  027410       BGF  11.64  0.26            2.65\n",
              "6  001465      BYC우   4.77  0.27            0.98\n",
              "1  006840     AK홀딩스    NaN  0.36            1.26\n",
              "9  00104K  CJ4우(전환)   8.15  0.46            3.30\n",
              "7  001040        CJ   8.95  0.50            3.00\n",
              "5  001460       BYC  12.32  0.70            0.37\n",
              "0  095570    AJ네트웍스   3.65  0.79            4.19\n",
              "3  282330    BGF리테일  21.14  4.26            1.55\n",
              "8  079160    CJ CGV    NaN  7.84             NaN"
            ],
            "text/html": [
              "\n",
              "  <div id=\"df-e3d4bfa3-37cc-41e9-b76c-e3fa3cad6df2\">\n",
              "    <div class=\"colab-df-container\">\n",
              "      <div>\n",
              "<style scoped>\n",
              "    .dataframe tbody tr th:only-of-type {\n",
              "        vertical-align: middle;\n",
              "    }\n",
              "\n",
              "    .dataframe tbody tr th {\n",
              "        vertical-align: top;\n",
              "    }\n",
              "\n",
              "    .dataframe thead th {\n",
              "        text-align: right;\n",
              "    }\n",
              "</style>\n",
              "<table border=\"1\" class=\"dataframe\">\n",
              "  <thead>\n",
              "    <tr style=\"text-align: right;\">\n",
              "      <th></th>\n",
              "      <th>ticker</th>\n",
              "      <th>symbol</th>\n",
              "      <th>per</th>\n",
              "      <th>pbr</th>\n",
              "      <th>dividend_yield</th>\n",
              "    </tr>\n",
              "  </thead>\n",
              "  <tbody>\n",
              "    <tr>\n",
              "      <th>4</th>\n",
              "      <td>138930</td>\n",
              "      <td>BNK금융지주</td>\n",
              "      <td>2.54</td>\n",
              "      <td>0.24</td>\n",
              "      <td>8.21</td>\n",
              "    </tr>\n",
              "    <tr>\n",
              "      <th>2</th>\n",
              "      <td>027410</td>\n",
              "      <td>BGF</td>\n",
              "      <td>11.64</td>\n",
              "      <td>0.26</td>\n",
              "      <td>2.65</td>\n",
              "    </tr>\n",
              "    <tr>\n",
              "      <th>6</th>\n",
              "      <td>001465</td>\n",
              "      <td>BYC우</td>\n",
              "      <td>4.77</td>\n",
              "      <td>0.27</td>\n",
              "      <td>0.98</td>\n",
              "    </tr>\n",
              "    <tr>\n",
              "      <th>1</th>\n",
              "      <td>006840</td>\n",
              "      <td>AK홀딩스</td>\n",
              "      <td>NaN</td>\n",
              "      <td>0.36</td>\n",
              "      <td>1.26</td>\n",
              "    </tr>\n",
              "    <tr>\n",
              "      <th>9</th>\n",
              "      <td>00104K</td>\n",
              "      <td>CJ4우(전환)</td>\n",
              "      <td>8.15</td>\n",
              "      <td>0.46</td>\n",
              "      <td>3.30</td>\n",
              "    </tr>\n",
              "    <tr>\n",
              "      <th>7</th>\n",
              "      <td>001040</td>\n",
              "      <td>CJ</td>\n",
              "      <td>8.95</td>\n",
              "      <td>0.50</td>\n",
              "      <td>3.00</td>\n",
              "    </tr>\n",
              "    <tr>\n",
              "      <th>5</th>\n",
              "      <td>001460</td>\n",
              "      <td>BYC</td>\n",
              "      <td>12.32</td>\n",
              "      <td>0.70</td>\n",
              "      <td>0.37</td>\n",
              "    </tr>\n",
              "    <tr>\n",
              "      <th>0</th>\n",
              "      <td>095570</td>\n",
              "      <td>AJ네트웍스</td>\n",
              "      <td>3.65</td>\n",
              "      <td>0.79</td>\n",
              "      <td>4.19</td>\n",
              "    </tr>\n",
              "    <tr>\n",
              "      <th>3</th>\n",
              "      <td>282330</td>\n",
              "      <td>BGF리테일</td>\n",
              "      <td>21.14</td>\n",
              "      <td>4.26</td>\n",
              "      <td>1.55</td>\n",
              "    </tr>\n",
              "    <tr>\n",
              "      <th>8</th>\n",
              "      <td>079160</td>\n",
              "      <td>CJ CGV</td>\n",
              "      <td>NaN</td>\n",
              "      <td>7.84</td>\n",
              "      <td>NaN</td>\n",
              "    </tr>\n",
              "  </tbody>\n",
              "</table>\n",
              "</div>\n",
              "      <button class=\"colab-df-convert\" onclick=\"convertToInteractive('df-e3d4bfa3-37cc-41e9-b76c-e3fa3cad6df2')\"\n",
              "              title=\"Convert this dataframe to an interactive table.\"\n",
              "              style=\"display:none;\">\n",
              "        \n",
              "  <svg xmlns=\"http://www.w3.org/2000/svg\" height=\"24px\"viewBox=\"0 0 24 24\"\n",
              "       width=\"24px\">\n",
              "    <path d=\"M0 0h24v24H0V0z\" fill=\"none\"/>\n",
              "    <path d=\"M18.56 5.44l.94 2.06.94-2.06 2.06-.94-2.06-.94-.94-2.06-.94 2.06-2.06.94zm-11 1L8.5 8.5l.94-2.06 2.06-.94-2.06-.94L8.5 2.5l-.94 2.06-2.06.94zm10 10l.94 2.06.94-2.06 2.06-.94-2.06-.94-.94-2.06-.94 2.06-2.06.94z\"/><path d=\"M17.41 7.96l-1.37-1.37c-.4-.4-.92-.59-1.43-.59-.52 0-1.04.2-1.43.59L10.3 9.45l-7.72 7.72c-.78.78-.78 2.05 0 2.83L4 21.41c.39.39.9.59 1.41.59.51 0 1.02-.2 1.41-.59l7.78-7.78 2.81-2.81c.8-.78.8-2.07 0-2.86zM5.41 20L4 18.59l7.72-7.72 1.47 1.35L5.41 20z\"/>\n",
              "  </svg>\n",
              "      </button>\n",
              "      \n",
              "  <style>\n",
              "    .colab-df-container {\n",
              "      display:flex;\n",
              "      flex-wrap:wrap;\n",
              "      gap: 12px;\n",
              "    }\n",
              "\n",
              "    .colab-df-convert {\n",
              "      background-color: #E8F0FE;\n",
              "      border: none;\n",
              "      border-radius: 50%;\n",
              "      cursor: pointer;\n",
              "      display: none;\n",
              "      fill: #1967D2;\n",
              "      height: 32px;\n",
              "      padding: 0 0 0 0;\n",
              "      width: 32px;\n",
              "    }\n",
              "\n",
              "    .colab-df-convert:hover {\n",
              "      background-color: #E2EBFA;\n",
              "      box-shadow: 0px 1px 2px rgba(60, 64, 67, 0.3), 0px 1px 3px 1px rgba(60, 64, 67, 0.15);\n",
              "      fill: #174EA6;\n",
              "    }\n",
              "\n",
              "    [theme=dark] .colab-df-convert {\n",
              "      background-color: #3B4455;\n",
              "      fill: #D2E3FC;\n",
              "    }\n",
              "\n",
              "    [theme=dark] .colab-df-convert:hover {\n",
              "      background-color: #434B5C;\n",
              "      box-shadow: 0px 1px 3px 1px rgba(0, 0, 0, 0.15);\n",
              "      filter: drop-shadow(0px 1px 2px rgba(0, 0, 0, 0.3));\n",
              "      fill: #FFFFFF;\n",
              "    }\n",
              "  </style>\n",
              "\n",
              "      <script>\n",
              "        const buttonEl =\n",
              "          document.querySelector('#df-e3d4bfa3-37cc-41e9-b76c-e3fa3cad6df2 button.colab-df-convert');\n",
              "        buttonEl.style.display =\n",
              "          google.colab.kernel.accessAllowed ? 'block' : 'none';\n",
              "\n",
              "        async function convertToInteractive(key) {\n",
              "          const element = document.querySelector('#df-e3d4bfa3-37cc-41e9-b76c-e3fa3cad6df2');\n",
              "          const dataTable =\n",
              "            await google.colab.kernel.invokeFunction('convertToInteractive',\n",
              "                                                     [key], {});\n",
              "          if (!dataTable) return;\n",
              "\n",
              "          const docLinkHtml = 'Like what you see? Visit the ' +\n",
              "            '<a target=\"_blank\" href=https://colab.research.google.com/notebooks/data_table.ipynb>data table notebook</a>'\n",
              "            + ' to learn more about interactive tables.';\n",
              "          element.innerHTML = '';\n",
              "          dataTable['output_type'] = 'display_data';\n",
              "          await google.colab.output.renderOutput(dataTable, element);\n",
              "          const docLink = document.createElement('div');\n",
              "          docLink.innerHTML = docLinkHtml;\n",
              "          element.appendChild(docLink);\n",
              "        }\n",
              "      </script>\n",
              "    </div>\n",
              "  </div>\n",
              "  "
            ]
          },
          "metadata": {},
          "execution_count": 33
        }
      ]
    },
    {
      "cell_type": "code",
      "source": [
        "# 배당수익률 내림차순\n",
        "df.sort_values(by=\"dividend_yield\", ascending=False).head(20)"
      ],
      "metadata": {
        "colab": {
          "base_uri": "https://localhost:8080/",
          "height": 363
        },
        "id": "KvOZB7EuMcXw",
        "outputId": "3119a1f8-5b05-4fd3-c397-dd859b71276b"
      },
      "execution_count": null,
      "outputs": [
        {
          "output_type": "execute_result",
          "data": {
            "text/plain": [
              "   ticker    symbol    per   pbr  dividend_yield\n",
              "4  138930   BNK금융지주   2.54  0.24            8.21\n",
              "0  095570    AJ네트웍스   3.65  0.79            4.19\n",
              "9  00104K  CJ4우(전환)   8.15  0.46            3.30\n",
              "7  001040        CJ   8.95  0.50            3.00\n",
              "2  027410       BGF  11.64  0.26            2.65\n",
              "3  282330    BGF리테일  21.14  4.26            1.55\n",
              "1  006840     AK홀딩스    NaN  0.36            1.26\n",
              "6  001465      BYC우   4.77  0.27            0.98\n",
              "5  001460       BYC  12.32  0.70            0.37\n",
              "8  079160    CJ CGV    NaN  7.84             NaN"
            ],
            "text/html": [
              "\n",
              "  <div id=\"df-61836198-2428-43a0-b05f-7bf354255c74\">\n",
              "    <div class=\"colab-df-container\">\n",
              "      <div>\n",
              "<style scoped>\n",
              "    .dataframe tbody tr th:only-of-type {\n",
              "        vertical-align: middle;\n",
              "    }\n",
              "\n",
              "    .dataframe tbody tr th {\n",
              "        vertical-align: top;\n",
              "    }\n",
              "\n",
              "    .dataframe thead th {\n",
              "        text-align: right;\n",
              "    }\n",
              "</style>\n",
              "<table border=\"1\" class=\"dataframe\">\n",
              "  <thead>\n",
              "    <tr style=\"text-align: right;\">\n",
              "      <th></th>\n",
              "      <th>ticker</th>\n",
              "      <th>symbol</th>\n",
              "      <th>per</th>\n",
              "      <th>pbr</th>\n",
              "      <th>dividend_yield</th>\n",
              "    </tr>\n",
              "  </thead>\n",
              "  <tbody>\n",
              "    <tr>\n",
              "      <th>4</th>\n",
              "      <td>138930</td>\n",
              "      <td>BNK금융지주</td>\n",
              "      <td>2.54</td>\n",
              "      <td>0.24</td>\n",
              "      <td>8.21</td>\n",
              "    </tr>\n",
              "    <tr>\n",
              "      <th>0</th>\n",
              "      <td>095570</td>\n",
              "      <td>AJ네트웍스</td>\n",
              "      <td>3.65</td>\n",
              "      <td>0.79</td>\n",
              "      <td>4.19</td>\n",
              "    </tr>\n",
              "    <tr>\n",
              "      <th>9</th>\n",
              "      <td>00104K</td>\n",
              "      <td>CJ4우(전환)</td>\n",
              "      <td>8.15</td>\n",
              "      <td>0.46</td>\n",
              "      <td>3.30</td>\n",
              "    </tr>\n",
              "    <tr>\n",
              "      <th>7</th>\n",
              "      <td>001040</td>\n",
              "      <td>CJ</td>\n",
              "      <td>8.95</td>\n",
              "      <td>0.50</td>\n",
              "      <td>3.00</td>\n",
              "    </tr>\n",
              "    <tr>\n",
              "      <th>2</th>\n",
              "      <td>027410</td>\n",
              "      <td>BGF</td>\n",
              "      <td>11.64</td>\n",
              "      <td>0.26</td>\n",
              "      <td>2.65</td>\n",
              "    </tr>\n",
              "    <tr>\n",
              "      <th>3</th>\n",
              "      <td>282330</td>\n",
              "      <td>BGF리테일</td>\n",
              "      <td>21.14</td>\n",
              "      <td>4.26</td>\n",
              "      <td>1.55</td>\n",
              "    </tr>\n",
              "    <tr>\n",
              "      <th>1</th>\n",
              "      <td>006840</td>\n",
              "      <td>AK홀딩스</td>\n",
              "      <td>NaN</td>\n",
              "      <td>0.36</td>\n",
              "      <td>1.26</td>\n",
              "    </tr>\n",
              "    <tr>\n",
              "      <th>6</th>\n",
              "      <td>001465</td>\n",
              "      <td>BYC우</td>\n",
              "      <td>4.77</td>\n",
              "      <td>0.27</td>\n",
              "      <td>0.98</td>\n",
              "    </tr>\n",
              "    <tr>\n",
              "      <th>5</th>\n",
              "      <td>001460</td>\n",
              "      <td>BYC</td>\n",
              "      <td>12.32</td>\n",
              "      <td>0.70</td>\n",
              "      <td>0.37</td>\n",
              "    </tr>\n",
              "    <tr>\n",
              "      <th>8</th>\n",
              "      <td>079160</td>\n",
              "      <td>CJ CGV</td>\n",
              "      <td>NaN</td>\n",
              "      <td>7.84</td>\n",
              "      <td>NaN</td>\n",
              "    </tr>\n",
              "  </tbody>\n",
              "</table>\n",
              "</div>\n",
              "      <button class=\"colab-df-convert\" onclick=\"convertToInteractive('df-61836198-2428-43a0-b05f-7bf354255c74')\"\n",
              "              title=\"Convert this dataframe to an interactive table.\"\n",
              "              style=\"display:none;\">\n",
              "        \n",
              "  <svg xmlns=\"http://www.w3.org/2000/svg\" height=\"24px\"viewBox=\"0 0 24 24\"\n",
              "       width=\"24px\">\n",
              "    <path d=\"M0 0h24v24H0V0z\" fill=\"none\"/>\n",
              "    <path d=\"M18.56 5.44l.94 2.06.94-2.06 2.06-.94-2.06-.94-.94-2.06-.94 2.06-2.06.94zm-11 1L8.5 8.5l.94-2.06 2.06-.94-2.06-.94L8.5 2.5l-.94 2.06-2.06.94zm10 10l.94 2.06.94-2.06 2.06-.94-2.06-.94-.94-2.06-.94 2.06-2.06.94z\"/><path d=\"M17.41 7.96l-1.37-1.37c-.4-.4-.92-.59-1.43-.59-.52 0-1.04.2-1.43.59L10.3 9.45l-7.72 7.72c-.78.78-.78 2.05 0 2.83L4 21.41c.39.39.9.59 1.41.59.51 0 1.02-.2 1.41-.59l7.78-7.78 2.81-2.81c.8-.78.8-2.07 0-2.86zM5.41 20L4 18.59l7.72-7.72 1.47 1.35L5.41 20z\"/>\n",
              "  </svg>\n",
              "      </button>\n",
              "      \n",
              "  <style>\n",
              "    .colab-df-container {\n",
              "      display:flex;\n",
              "      flex-wrap:wrap;\n",
              "      gap: 12px;\n",
              "    }\n",
              "\n",
              "    .colab-df-convert {\n",
              "      background-color: #E8F0FE;\n",
              "      border: none;\n",
              "      border-radius: 50%;\n",
              "      cursor: pointer;\n",
              "      display: none;\n",
              "      fill: #1967D2;\n",
              "      height: 32px;\n",
              "      padding: 0 0 0 0;\n",
              "      width: 32px;\n",
              "    }\n",
              "\n",
              "    .colab-df-convert:hover {\n",
              "      background-color: #E2EBFA;\n",
              "      box-shadow: 0px 1px 2px rgba(60, 64, 67, 0.3), 0px 1px 3px 1px rgba(60, 64, 67, 0.15);\n",
              "      fill: #174EA6;\n",
              "    }\n",
              "\n",
              "    [theme=dark] .colab-df-convert {\n",
              "      background-color: #3B4455;\n",
              "      fill: #D2E3FC;\n",
              "    }\n",
              "\n",
              "    [theme=dark] .colab-df-convert:hover {\n",
              "      background-color: #434B5C;\n",
              "      box-shadow: 0px 1px 3px 1px rgba(0, 0, 0, 0.15);\n",
              "      filter: drop-shadow(0px 1px 2px rgba(0, 0, 0, 0.3));\n",
              "      fill: #FFFFFF;\n",
              "    }\n",
              "  </style>\n",
              "\n",
              "      <script>\n",
              "        const buttonEl =\n",
              "          document.querySelector('#df-61836198-2428-43a0-b05f-7bf354255c74 button.colab-df-convert');\n",
              "        buttonEl.style.display =\n",
              "          google.colab.kernel.accessAllowed ? 'block' : 'none';\n",
              "\n",
              "        async function convertToInteractive(key) {\n",
              "          const element = document.querySelector('#df-61836198-2428-43a0-b05f-7bf354255c74');\n",
              "          const dataTable =\n",
              "            await google.colab.kernel.invokeFunction('convertToInteractive',\n",
              "                                                     [key], {});\n",
              "          if (!dataTable) return;\n",
              "\n",
              "          const docLinkHtml = 'Like what you see? Visit the ' +\n",
              "            '<a target=\"_blank\" href=https://colab.research.google.com/notebooks/data_table.ipynb>data table notebook</a>'\n",
              "            + ' to learn more about interactive tables.';\n",
              "          element.innerHTML = '';\n",
              "          dataTable['output_type'] = 'display_data';\n",
              "          await google.colab.output.renderOutput(dataTable, element);\n",
              "          const docLink = document.createElement('div');\n",
              "          docLink.innerHTML = docLinkHtml;\n",
              "          element.appendChild(docLink);\n",
              "        }\n",
              "      </script>\n",
              "    </div>\n",
              "  </div>\n",
              "  "
            ]
          },
          "metadata": {},
          "execution_count": 34
        }
      ]
    },
    {
      "cell_type": "code",
      "source": [
        "# csv로 저장\n",
        "df.to_csv(f\"{today}_df.csv\")"
      ],
      "metadata": {
        "id": "51wzYnEzMgxx"
      },
      "execution_count": null,
      "outputs": []
    },
    {
      "cell_type": "code",
      "source": [
        "# 개별 종목별 EPS 수집방법\n",
        "# https://scribblinganything.tistory.com/383"
      ],
      "metadata": {
        "id": "0QUwXuxWMn2q"
      },
      "execution_count": null,
      "outputs": []
    }
  ]
}
