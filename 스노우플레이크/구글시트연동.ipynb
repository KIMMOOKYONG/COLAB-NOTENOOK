{
 "cells": [
  {
   "cell_type": "code",
   "execution_count": 60,
   "id": "c923bf9f",
   "metadata": {},
   "outputs": [
    {
     "name": "stdout",
     "output_type": "stream",
     "text": [
      "B-25601, 1275\n",
      "B-25601, 80\n",
      "B-25602, 168\n",
      "B-25602, 424\n",
      "B-25602, 2617\n",
      "B-25603, 24\n",
      "B-25608, 1364\n",
      "B-25608, 476\n",
      "B-25608, 856\n",
      "B-25609, 485\n"
     ]
    }
   ],
   "source": [
    "import snowflake.connector\n",
    "\n",
    "conn = snowflake.connector.connect(\n",
    "                user='admin',\n",
    "                password='*****',\n",
    "                account='sfseapac-kr_demo10',\n",
    "                warehouse='load_xs_wh',\n",
    "                database='sales_db',\n",
    "                schema='public'\n",
    ")\n",
    "\n",
    "\n",
    "# cur = conn.cursor().execute(\"select order_id, amount from orders limit 10\");\n",
    "# try:\n",
    "#    for (order_id, amount) in cur:\n",
    "#        print('{0}, {1}'.format(order_id, amount))\n",
    "#finally:\n",
    "#    cur.close()"
   ]
  },
  {
   "cell_type": "code",
   "execution_count": 67,
   "id": "1bdb7754",
   "metadata": {},
   "outputs": [],
   "source": [
    "import gspread\n",
    "\n",
    "# google cloud console 에서 service account 생성 후 키 발급 단계에서 json 파일로 다운로드\n",
    "json_key = \"/Users/mjlee/Downloads/mj-google-key.json\"\n",
    "\n",
    "gc = gspread.service_account(filename=json_key)\n",
    "\n",
    "# 가져올 sheet url\n",
    "spreadsheet_url = \"https://docs.google.com/spreadsheets/d/1OymwKWgTWkL2LotTYkuEUEVNwtAXEGNIowf1FynZ7Hs/edit#gid=0\"\n",
    "doc = gc.open_by_url(spreadsheet_url)\n",
    "\n",
    "# 가져올 sheet 이름\n",
    "sheet = doc.worksheet(\"Sheet1\")"
   ]
  },
  {
   "cell_type": "code",
   "execution_count": 65,
   "id": "4325eac7",
   "metadata": {},
   "outputs": [
    {
     "data": {
      "text/plain": [
       "[{'order_id': 100, 'amount': 23212},\n",
       " {'order_id': 100, 'amount': 38374},\n",
       " {'order_id': 100, 'amount': 43234}]"
      ]
     },
     "execution_count": 65,
     "metadata": {},
     "output_type": "execute_result"
    }
   ],
   "source": [
    "import pandas as pd\n",
    "\n",
    "data = sheet.get_all_records()\n",
    "data"
   ]
  },
  {
   "cell_type": "code",
   "execution_count": 66,
   "id": "d508ff6e",
   "metadata": {},
   "outputs": [],
   "source": [
    "try:\n",
    "    for line in data:\n",
    "        order_id = str(line['order_id'])\n",
    "        amount = str(line['amount'])\n",
    "        cur = conn.cursor().execute(\"insert into orders (order_id,amount) values(\"+order_id+\",\"+amount+\")\")\n",
    "finally:\n",
    "    cur.close()"
   ]
  }
 ],
 "metadata": {
  "kernelspec": {
   "display_name": "pyconnector",
   "language": "python",
   "name": "pyconnector"
  },
  "language_info": {
   "codemirror_mode": {
    "name": "ipython",
    "version": 3
   },
   "file_extension": ".py",
   "mimetype": "text/x-python",
   "name": "python",
   "nbconvert_exporter": "python",
   "pygments_lexer": "ipython3",
   "version": "3.9.12"
  }
 },
 "nbformat": 4,
 "nbformat_minor": 5
}
